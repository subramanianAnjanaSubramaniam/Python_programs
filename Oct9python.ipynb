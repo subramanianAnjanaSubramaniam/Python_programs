{
  "cells": [
    {
      "cell_type": "markdown",
      "metadata": {
        "id": "view-in-github",
        "colab_type": "text"
      },
      "source": [
        "<a href=\"https://colab.research.google.com/github/subramanianAnjanaSubramaniam/Python_programs/blob/main/Oct9python.ipynb\" target=\"_parent\"><img src=\"https://colab.research.google.com/assets/colab-badge.svg\" alt=\"Open In Colab\"/></a>"
      ]
    },
    {
      "cell_type": "code",
      "execution_count": null,
      "metadata": {
        "id": "NePVBZZE0RUP",
        "outputId": "a4d8685d-72f0-4e48-a9f4-74a6cb7487ca",
        "colab": {
          "base_uri": "https://localhost:8080/"
        }
      },
      "outputs": [
        {
          "output_type": "stream",
          "name": "stdout",
          "text": [
            "Enter the number :5\n",
            "odd number\n"
          ]
        }
      ],
      "source": [
        " #Even_printing\n",
        "a=int(input(\"Enter the number :\"))\n",
        "if(a%2)==0:\n",
        "  print(\"even number\")\n",
        "else:\n",
        "  print(\"odd number\")"
      ]
    },
    {
      "cell_type": "code",
      "execution_count": null,
      "metadata": {
        "id": "qF-2xIl4D6dI"
      },
      "outputs": [],
      "source": [
        "#largest_printing\n",
        "a=int(input(\"enter the num1 :\"))\n",
        "b=int(input(\"enter the num2 :\"))\n",
        "c=int(input(\"enter the num3 :\"))\n",
        "if(a>=b)and(a>=c):\n",
        "  largest=a\n",
        "elif(b>=a)and(b>=c):\n",
        "  largest=b\n",
        "else:\n",
        "  largest=c\n",
        "print(\"the largest number is\", largest)"
      ]
    },
    {
      "cell_type": "code",
      "execution_count": null,
      "metadata": {
        "colab": {
          "base_uri": "https://localhost:8080/"
        },
        "id": "a5392BJhERzJ",
        "outputId": "cf86a6a3-862b-488e-ef80-2baa5d8b775e"
      },
      "outputs": [
        {
          "name": "stdout",
          "output_type": "stream",
          "text": [
            "Enter the name :anjana\n",
            "Enter the English mark :50\n",
            "Enter the Maths mark :60\n",
            "Enter the Physics mark :88\n",
            "Enter the Chemistry mark :63\n",
            "Enter the  Biology mark :45\n",
            "Total mark is : 306.0\n",
            "The avg mark is 61.2\n",
            "Grade=C\n"
          ]
        }
      ],
      "source": [
        "#Grade_printing\n",
        "a=str(input(\"Enter the name :\"))\n",
        "m1=float(input(\"Enter the English mark :\"))\n",
        "m2=float(input(\"Enter the Maths mark :\"))\n",
        "m3=float(input(\"Enter the Physics mark :\"))\n",
        "m4=float(input(\"Enter the Chemistry mark :\"))\n",
        "m5=float(input(\"Enter the  Biology mark :\"))\n",
        "sum=m1+m2+m3+m4+m5\n",
        "print(\"Total mark is :\", sum)\n",
        "avg=sum/5\n",
        "print(\"The avg mark is\", avg)\n",
        "if(avg>=90):\n",
        "  print(\"Grade=S\")\n",
        "elif(avg>=80)and(avg<90):\n",
        "    print(\"Grade=A\")\n",
        "elif(avg>=70)and(avg<80):\n",
        "    print(\"Grade=B\")\n",
        "elif(avg>=60)and(avg<70):\n",
        "    print(\"Grade=C\")\n",
        "elif(avg>=50)and(avg<60):\n",
        "    print(\"Grade=D\")\n",
        "else:\n",
        "  print(\"Grade=Fail\")#Grade_printing"
      ]
    },
    {
      "cell_type": "code",
      "execution_count": null,
      "metadata": {
        "colab": {
          "base_uri": "https://localhost:8080/"
        },
        "id": "pAnhEpuGE9v2",
        "outputId": "fc4f62b9-250c-44e4-838a-045946fc6658"
      },
      "outputs": [
        {
          "name": "stdout",
          "output_type": "stream",
          "text": [
            "Enter the consumer name :Anjana\n",
            "Enter the unit :40\n",
            "amount= 60.0\n",
            "\n"
          ]
        }
      ],
      "source": [
        "#electricity\n",
        "a=str(input(\"Enter the consumer name :\"))\n",
        "unit=float(input(\"Enter the unit :\"))\n",
        "if(unit<=40):\n",
        "  amount=unit*1.50\n",
        "  print(\"amount=\", amount)\n",
        "elif(unit<=50):\n",
        "  amount=unit(unit-40)*3.15\n",
        "  print(\"amount=\",amount)\n",
        "elif(unit<=100):\n",
        "  amount=unit(unit-50)*3.95\n",
        "  print(\"amount=\", amount)\n",
        "else:\n",
        "  amount=unit(unit-100)\n",
        "print(\"\")"
      ]
    },
    {
      "cell_type": "code",
      "execution_count": null,
      "metadata": {
        "colab": {
          "base_uri": "https://localhost:8080/"
        },
        "id": "UxhMgA_qC7lj",
        "outputId": "55d7567c-9123-40a6-fb30-4ebab81e5c98"
      },
      "outputs": [
        {
          "name": "stdout",
          "output_type": "stream",
          "text": [
            "Enter the month (1-12): 8\n",
            "The season is Summer\n"
          ]
        }
      ],
      "source": [
        "#Determine the Season Based on Month:\n",
        "\n",
        "month = int(input(\"Enter the month (1-12): \"))\n",
        "if 3 <= month <= 5:\n",
        " season = \"Spring\"\n",
        "elif 6 <= month <= 8:\n",
        " season = \"Summer\"\n",
        "elif 9 <= month <= 11:\n",
        " season = \"Autumn\"\n",
        "else:\n",
        " season = \"Winter\"\n",
        "\n",
        "print(\"The season is\", season)"
      ]
    },
    {
      "cell_type": "code",
      "execution_count": null,
      "metadata": {
        "colab": {
          "base_uri": "https://localhost:8080/"
        },
        "id": "4-XGPMfW08O2",
        "outputId": "1abb0237-56f9-4c23-b03f-cc02f0212eb7"
      },
      "outputs": [
        {
          "name": "stdout",
          "output_type": "stream",
          "text": [
            "Enter the total price: 60\n",
            "Discount: $ 0\n",
            "Final Price: $ 60.0\n"
          ]
        }
      ],
      "source": [
        "#Calculate the Discount on a Purchase:\n",
        "\n",
        "total_price = float(input(\"Enter the total price: \"))\n",
        "if total_price > 100:\n",
        " discount = total_price * 0.10\n",
        "else:\n",
        " discount = 0\n",
        "\n",
        "final_price = total_price - discount\n",
        "print(\"Discount: $\", discount)\n",
        "print(\"Final Price: $\", final_price)"
      ]
    },
    {
      "cell_type": "code",
      "execution_count": null,
      "metadata": {
        "colab": {
          "base_uri": "https://localhost:8080/"
        },
        "id": "hLVrnm6t1N_T",
        "outputId": "8b56e019-d453-4138-b242-e7554456ba04"
      },
      "outputs": [
        {
          "name": "stdout",
          "output_type": "stream",
          "text": [
            "Enter a number: 5\n",
            "5 is not a prime number\n"
          ]
        }
      ],
      "source": [
        "#Check if a Number is Prime:\n",
        "\n",
        "num = int(input(\"Enter a number: \"))\n",
        "if num<=1:\n",
        "  print(\"not a prime number\")\n",
        "  for i in range(2, num):\n",
        "   if (num % i) == 0:\n",
        "      print(num, \"is not a prime number\")\n",
        "      break\n",
        "  else:\n",
        "   print(num, \"is a prime number\")\n",
        "else:\n",
        " print(num, \"is not a prime number\")\n"
      ]
    },
    {
      "cell_type": "code",
      "execution_count": null,
      "metadata": {
        "colab": {
          "base_uri": "https://localhost:8080/"
        },
        "id": "a666wEVe189o",
        "outputId": "d63ffd86-c50d-4e27-cfee-e6944b7e4e6a"
      },
      "outputs": [
        {
          "name": "stdout",
          "output_type": "stream",
          "text": [
            "python programming\n",
            "ogramm\n",
            "gmrrnt\n"
          ]
        }
      ],
      "source": [
        "#list\n",
        "name=\"python programming\"\n",
        "print(name)\n",
        "print(name[-9:-3])\n",
        "print(name[::-3])"
      ]
    },
    {
      "cell_type": "code",
      "execution_count": null,
      "metadata": {
        "id": "FxWEjneG-sy3"
      },
      "outputs": [],
      "source": [
        "#Dictionary\n",
        "dict={'name': 'anjana', 'age':22}"
      ]
    },
    {
      "cell_type": "code",
      "execution_count": null,
      "metadata": {
        "colab": {
          "base_uri": "https://localhost:8080/"
        },
        "id": "i4Ut88fpOuw_",
        "outputId": "846bd995-bd29-421e-dadf-bb7f78bce87e"
      },
      "outputs": [
        {
          "name": "stdout",
          "output_type": "stream",
          "text": [
            "<class 'int'>\n",
            "10\n"
          ]
        }
      ],
      "source": [
        "a=10\n",
        "print(type(a))\n",
        "s=str(a)\n",
        "print(s)"
      ]
    },
    {
      "cell_type": "code",
      "execution_count": null,
      "metadata": {
        "colab": {
          "base_uri": "https://localhost:8080/"
        },
        "id": "eOHhYDPSPg1Y",
        "outputId": "ce4f1b7f-5e3d-4224-c2d8-f9720988e139"
      },
      "outputs": [
        {
          "name": "stdout",
          "output_type": "stream",
          "text": [
            "<class 'list'>\n",
            "('Anjana', 22, 'A', 'a', 30000)\n"
          ]
        }
      ],
      "source": [
        "#Type conversion\n",
        "mylist=[\"Anjana\", 22, \"A\", \"a\", 30000 ]\n",
        "print(type(mylist))\n",
        "s=tuple(mylist)\n",
        "print(s)"
      ]
    },
    {
      "cell_type": "code",
      "execution_count": null,
      "metadata": {
        "colab": {
          "base_uri": "https://localhost:8080/"
        },
        "id": "EBbiYnw3WN4r",
        "outputId": "e42b81fe-d8f3-4243-f614-469c730f93c5"
      },
      "outputs": [
        {
          "name": "stdout",
          "output_type": "stream",
          "text": [
            "The Count Value Is : 1\n",
            "The Count Value Is : 2\n",
            "The Count Value Is : 3\n",
            "The Count Value Is : 4\n",
            "The Count Value Is : 5\n",
            "The Count Value Is : 6\n",
            "The Count Value Is : 7\n",
            "The Count Value Is : 8\n",
            "The Count Value Is : 9\n",
            "The Count Value Is : 10\n",
            "The Count Value Is : 11\n",
            "The Count Value Is : 12\n",
            "The Count Value Is : 13\n",
            "The Count Value Is : 14\n",
            "The Count Value Is : 15\n",
            "The Count Value Is : 16\n",
            "The Count Value Is : 17\n",
            "The Count Value Is : 18\n",
            "The Count Value Is : 19\n",
            "The Count Value Is : 20\n",
            "The Count Value Is : 21\n",
            "The Count Value Is : 22\n",
            "The Count Value Is : 23\n",
            "The Count Value Is : 24\n",
            "The Count Value Is : 25\n",
            "The Count Value Is : 26\n",
            "The Count Value Is : 27\n",
            "The Count Value Is : 28\n",
            "The Count Value Is : 29\n",
            "The Count Value Is : 30\n",
            "The Count Value Is : 31\n",
            "The Count Value Is : 32\n",
            "The Count Value Is : 33\n",
            "The Count Value Is : 34\n",
            "The Count Value Is : 35\n",
            "The Count Value Is : 36\n",
            "The Count Value Is : 37\n",
            "The Count Value Is : 38\n",
            "The Count Value Is : 39\n",
            "The Count Value Is : 40\n",
            "The Count Value Is : 41\n",
            "The Count Value Is : 42\n",
            "The Count Value Is : 43\n",
            "The Count Value Is : 44\n",
            "The Count Value Is : 45\n",
            "The Count Value Is : 46\n",
            "The Count Value Is : 47\n",
            "The Count Value Is : 48\n",
            "The Count Value Is : 49\n",
            "Hello\n"
          ]
        }
      ],
      "source": [
        "#Loop Concept\n",
        "count=1\n",
        "while(count<50):\n",
        "  print(\"The Count Value Is :\", count)\n",
        "  count=count+1\n",
        "print(\"Hello\")"
      ]
    },
    {
      "cell_type": "code",
      "execution_count": null,
      "metadata": {
        "colab": {
          "base_uri": "https://localhost:8080/"
        },
        "id": "M-eZ6m-WZHvE",
        "outputId": "1ef3fade-26b5-45c0-e378-443628a565f6"
      },
      "outputs": [
        {
          "name": "stdout",
          "output_type": "stream",
          "text": [
            "even number : 2\n",
            "even number : 4\n",
            "even number : 6\n",
            "even number : 8\n",
            "even number : 10\n",
            "even number : 12\n",
            "even number : 14\n",
            "even number : 16\n",
            "even number : 18\n",
            "even number : 20\n",
            "even number : 22\n",
            "even number : 24\n",
            "even number : 26\n",
            "even number : 28\n",
            "even number : 30\n",
            "even number : 32\n",
            "even number : 34\n",
            "even number : 36\n",
            "even number : 38\n",
            "even number : 40\n",
            "even number : 42\n",
            "even number : 44\n",
            "even number : 46\n",
            "even number : 48\n",
            "even number : 50\n"
          ]
        }
      ],
      "source": [
        "#Even numbers\n",
        "count=2\n",
        "while(count<=50):\n",
        "  print(\"even number :\", count)\n",
        "  count=count+2\n"
      ]
    },
    {
      "cell_type": "code",
      "execution_count": null,
      "metadata": {
        "colab": {
          "base_uri": "https://localhost:8080/"
        },
        "id": "OsmZqNSBZnQm",
        "outputId": "390849a9-9be1-493f-b5f6-53a45ee6becb"
      },
      "outputs": [
        {
          "name": "stdout",
          "output_type": "stream",
          "text": [
            "Enter the number5\n",
            "1 * 5 = 5\n",
            "2 * 5 = 10\n",
            "3 * 5 = 15\n",
            "4 * 5 = 20\n",
            "5 * 5 = 25\n",
            "6 * 5 = 30\n",
            "7 * 5 = 35\n",
            "8 * 5 = 40\n",
            "9 * 5 = 45\n",
            "10 * 5 = 50\n"
          ]
        }
      ],
      "source": [
        "#Multiplication table\n",
        "table_number=int(input(\"Enter the number\"))\n",
        "count=1\n",
        "while(count<=10):\n",
        "  Result=count*table_number\n",
        "  print(count, \"*\", table_number, \"=\", Result)\n",
        "  count=count+1\n",
        "\n"
      ]
    },
    {
      "cell_type": "code",
      "execution_count": null,
      "metadata": {
        "colab": {
          "base_uri": "https://localhost:8080/"
        },
        "id": "23YavvgpQ3zY",
        "outputId": "a5d39c56-1a79-4a12-fb8e-3ad6c18608d5"
      },
      "outputs": [
        {
          "name": "stdout",
          "output_type": "stream",
          "text": [
            "Enter the number:10\n",
            " The sum of all even number is 30\n"
          ]
        }
      ],
      "source": [
        "#Sum of even numbers\n",
        "Even_sum=int(input(\"Enter the number:\"))\n",
        "count=0\n",
        "sum=0\n",
        "while(count<11):\n",
        " if count%2==0:\n",
        "  sum=sum+count\n",
        " count+=1\n",
        "print(\" The sum of all even number is\",sum)"
      ]
    },
    {
      "cell_type": "code",
      "execution_count": null,
      "metadata": {
        "colab": {
          "base_uri": "https://localhost:8080/"
        },
        "id": "td0D3KBsbvFG",
        "outputId": "3914d418-33eb-422b-9e4f-8be201244b0b"
      },
      "outputs": [
        {
          "name": "stdout",
          "output_type": "stream",
          "text": [
            "Enter the number: 10\n",
            "The product of all even number 384\n"
          ]
        }
      ],
      "source": [
        "#Product of the even number\n",
        "Even_prod=int(input(\"Enter the number: \"))\n",
        "count=1\n",
        "prod=1\n",
        "while(count<Even_prod):\n",
        "  if count%2==0:\n",
        "    prod=prod*count\n",
        "  count+=1\n",
        "print(\"The product of all even number\", prod)\n"
      ]
    },
    {
      "cell_type": "code",
      "execution_count": null,
      "metadata": {
        "colab": {
          "base_uri": "https://localhost:8080/"
        },
        "id": "XASmp_Wmc2K0",
        "outputId": "86e67512-3975-4abe-994a-5815b9d0e0e4"
      },
      "outputs": [
        {
          "name": "stdout",
          "output_type": "stream",
          "text": [
            "Enter the number: 15\n",
            "The sum is 105\n"
          ]
        }
      ],
      "source": [
        "#Sum of all natural numbers\n",
        "a=int(input(\"Enter the number: \"))\n",
        "sum=0\n",
        "num=1\n",
        "while(num<a):\n",
        "  sum+=num\n",
        "  num+=1\n",
        "print(\"The sum is\", sum)"
      ]
    },
    {
      "cell_type": "code",
      "execution_count": null,
      "metadata": {
        "colab": {
          "base_uri": "https://localhost:8080/"
        },
        "id": "sNoE0RyFKxsL",
        "outputId": "6a573fd0-0e6b-4c1a-ae60-63aed5884f87"
      },
      "outputs": [
        {
          "name": "stdout",
          "output_type": "stream",
          "text": [
            "Enter the month (1-12)6\n",
            "The season is Summer\n"
          ]
        }
      ],
      "source": [
        "#Determine the season based on month\n",
        "month=int(input(\"Enter the month (1-12)\"))\n",
        "if month>=3 and month<=5:\n",
        "  season=\"Spring\"\n",
        "elif month>=6 and month<=8:\n",
        "  season=\"Summer\"\n",
        "elif month>=9 and month<=11:\n",
        "  season=\"Autumn\"\n",
        "else:\n",
        "  season=\"Winter\"\n",
        "print(\"The season is\", season)\n"
      ]
    },
    {
      "cell_type": "code",
      "execution_count": null,
      "metadata": {
        "colab": {
          "base_uri": "https://localhost:8080/"
        },
        "id": "yH2LE7m-NCRz",
        "outputId": "e7914229-cc84-41d7-eebd-a9d0efb8aa94"
      },
      "outputs": [
        {
          "name": "stdout",
          "output_type": "stream",
          "text": [
            "Enter the current temparature:70\n",
            "Wear shots and shirt\n"
          ]
        }
      ],
      "source": [
        "#Dressing for the weather\n",
        "temp=float(input(\"Enter the current temparature:\"))\n",
        "if temp>=70:\n",
        "  print(\"Wear shots and shirt\")\n",
        "elif temp>=50 and temp<=69:\n",
        "  print(\"Wear jeans and light jacket\")\n",
        "elif temp<=50:\n",
        "  print(\"Wear heavy coats and warm pants\")\n",
        "else:\n",
        "  print(\"\")\n",
        "\n"
      ]
    },
    {
      "cell_type": "code",
      "execution_count": null,
      "metadata": {
        "colab": {
          "base_uri": "https://localhost:8080/"
        },
        "id": "kKCvkELXZPyO",
        "outputId": "3f5765ac-821a-4b9d-c838-ccfe3fcd9457"
      },
      "outputs": [
        {
          "name": "stdout",
          "output_type": "stream",
          "text": [
            "Enter the year:1999\n",
            "The year is not a leap year\n"
          ]
        }
      ],
      "source": [
        "#Check if a year is a leap year\n",
        "leap_year=int(input(\"Enter the year:\"))\n",
        "if leap_year%4==0 or leap_year%100==0 and leap_year%400==0:\n",
        "  print(\"The year is leap year\")\n",
        "else:\n",
        "  print(\"The year is not a leap year\")"
      ]
    },
    {
      "cell_type": "code",
      "execution_count": null,
      "metadata": {
        "colab": {
          "base_uri": "https://localhost:8080/"
        },
        "id": "s49vLXcJOo0-",
        "outputId": "ef7faba3-b5cd-47ab-f0cb-2fbf6f9ad4c0"
      },
      "outputs": [
        {
          "name": "stdout",
          "output_type": "stream",
          "text": [
            "Enter the value:-5\n",
            "Negative number\n"
          ]
        }
      ],
      "source": [
        "#Check if a number is positive, negative or zero\n",
        "a=int(input(\"Enter the value:\"))\n",
        "if a>=1:\n",
        "  print(\"Positive number\")\n",
        "elif a<0:\n",
        "  print(\"Negative number\")\n",
        "elif a==0:\n",
        "  print(\"Zer0\")\n",
        "else:\n",
        "  print(\"Invalid \")"
      ]
    },
    {
      "cell_type": "code",
      "execution_count": null,
      "metadata": {
        "colab": {
          "base_uri": "https://localhost:8080/"
        },
        "id": "ofGmrdj2fd-b",
        "outputId": "18b0c44a-ef3e-4360-edf6-d3d89e05cb66"
      },
      "outputs": [
        {
          "name": "stdout",
          "output_type": "stream",
          "text": [
            "Enter the number: 4\n",
            "The factorial is  720\n"
          ]
        }
      ],
      "source": [
        "#Factorial of number\n",
        "Fact=int(input(\"Enter the number: \"))\n",
        "count=6\n",
        "fact=1\n",
        "while(count>0):\n",
        "  fact*=count\n",
        "  count=count-1\n",
        "print(\"The factorial is \", fact)\n",
        "\n"
      ]
    },
    {
      "cell_type": "code",
      "execution_count": null,
      "metadata": {
        "colab": {
          "base_uri": "https://localhost:8080/"
        },
        "id": "rs4Gzp5ViLaC",
        "outputId": "048fa022-59df-48ef-afcb-a5f1a3888a55"
      },
      "outputs": [
        {
          "name": "stdout",
          "output_type": "stream",
          "text": [
            "Enter the number: 45\n",
            "The sum of digit is 9\n"
          ]
        }
      ],
      "source": [
        "#Sum of digits\n",
        "Digit=int(input(\"Enter the number: \"))\n",
        "sum=0\n",
        "while(Digit>0):\n",
        "  digit=Digit%10 # % modulo operator it gives the remainder\n",
        "  sum+=digit\n",
        "  Digit//=10\n",
        "print( \"The sum of digit is\", sum)"
      ]
    },
    {
      "cell_type": "code",
      "execution_count": null,
      "metadata": {
        "colab": {
          "base_uri": "https://localhost:8080/"
        },
        "id": "xPTjTtVkqPWo",
        "outputId": "dffa4cdd-510d-4e1c-a365-6b7ca9b241c6"
      },
      "outputs": [
        {
          "name": "stdout",
          "output_type": "stream",
          "text": [
            "1\n",
            "2\n",
            "3\n",
            "4\n"
          ]
        }
      ],
      "source": [
        "#break\n",
        "count=1\n",
        "while(count<11):\n",
        "  if count==5:\n",
        "    break\n",
        "  print(count)\n",
        "  count+=1\n"
      ]
    },
    {
      "cell_type": "code",
      "execution_count": null,
      "metadata": {
        "colab": {
          "base_uri": "https://localhost:8080/"
        },
        "id": "jO_kiz82zz-g",
        "outputId": "a871eefa-09ae-458f-8500-1f555ebd2c0a"
      },
      "outputs": [
        {
          "name": "stdout",
          "output_type": "stream",
          "text": [
            "current value is: 9\n",
            "current value is: 8\n",
            "current value is: 7\n",
            "current value is: 6\n",
            "current value is: 4\n",
            "current value is: 3\n",
            "current value is: 2\n",
            "current value is: 1\n",
            "current value is: 0\n",
            "Thanku \n"
          ]
        }
      ],
      "source": [
        "#Continue\n",
        "var=10\n",
        "while var>0:\n",
        "  var=var-1\n",
        "  if var==5:\n",
        "    continue\n",
        "  print(\"current value is:\", var)\n",
        "print(\"Thanku \")"
      ]
    },
    {
      "cell_type": "code",
      "execution_count": null,
      "metadata": {
        "colab": {
          "base_uri": "https://localhost:8080/"
        },
        "id": "gA5EXrq10nE5",
        "outputId": "130ca2fa-1ac5-4405-fe11-1713ebe09130"
      },
      "outputs": [
        {
          "name": "stdout",
          "output_type": "stream",
          "text": [
            "current value is: 4\n",
            "current value is: 3\n",
            "current value is: 2\n",
            "current value is: 1\n",
            "Thanku\n"
          ]
        }
      ],
      "source": [
        "#Pass\n",
        "var=5\n",
        "while var>1:\n",
        " var=var-1\n",
        " if var==4:\n",
        "  pass\n",
        " print(\"current value is:\", var)\n",
        "print(\"Thanku\")\n"
      ]
    },
    {
      "cell_type": "code",
      "execution_count": null,
      "metadata": {
        "colab": {
          "base_uri": "https://localhost:8080/"
        },
        "id": "NnFQt_lA3Vhf",
        "outputId": "b54acbdd-fb6f-48d1-e26e-2e071641c449"
      },
      "outputs": [
        {
          "name": "stdout",
          "output_type": "stream",
          "text": [
            "Anjana\n",
            "22\n",
            "Changaramkulam\n"
          ]
        }
      ],
      "source": [
        "#For loop\n",
        "my_list=[\"Anjana\", 22, \"Changaramkulam\"]\n",
        "for i in my_list:\n",
        "  print(i)"
      ]
    },
    {
      "cell_type": "code",
      "execution_count": null,
      "metadata": {
        "colab": {
          "base_uri": "https://localhost:8080/"
        },
        "id": "h-2aOKqr498l",
        "outputId": "372780ed-0044-4954-e09e-c87b8058ddbc"
      },
      "outputs": [
        {
          "name": "stdout",
          "output_type": "stream",
          "text": [
            "enter the number:4\n",
            "24\n"
          ]
        }
      ],
      "source": [
        "#fact using factorial\n",
        "Fact=int(input(\"enter the number:\"))\n",
        "fact=1\n",
        "for i in range(1,Fact+1):\n",
        " fact=fact*i\n",
        "print(fact)"
      ]
    },
    {
      "cell_type": "code",
      "execution_count": null,
      "metadata": {
        "colab": {
          "base_uri": "https://localhost:8080/"
        },
        "id": "bpDrbiB27Gxd",
        "outputId": "f1ba18c5-f44b-4879-e95e-b230666a9e11"
      },
      "outputs": [
        {
          "name": "stdout",
          "output_type": "stream",
          "text": [
            "original_list: ['Anjana', 22, 'Changaramkulam']\n",
            "revered_list: ['Changaramkulam', 22, 'Anjana']\n"
          ]
        }
      ],
      "source": [
        "#Reverse a list\n",
        "original_list=[\"Anjana\", 22, \"Changaramkulam\"]\n",
        "reversed_list=[]\n",
        "for i in original_list:\n",
        "  reversed_list.insert(0,i)\n",
        "print(\"original_list:\", original_list)\n",
        "print(\"revered_list:\", reversed_list)"
      ]
    },
    {
      "cell_type": "code",
      "execution_count": null,
      "metadata": {
        "colab": {
          "base_uri": "https://localhost:8080/"
        },
        "id": "egDsKgq-DKxH",
        "outputId": "2c7f501a-d1e1-4ff6-b47e-52b812927f4d"
      },
      "outputs": [
        {
          "name": "stdout",
          "output_type": "stream",
          "text": [
            "3 : {}\n"
          ]
        }
      ],
      "source": [
        "#Occurence of element\n",
        "num_list=[1,4,2,4,2,3,4,3,4,3,]\n",
        "count={}\n",
        "dict={}\n",
        "for i in num_list:\n",
        "  if (i==count):\n",
        "    count=count+1\n",
        "    dict=num_list\n",
        " print(i,\":\",count )"
      ]
    },
    {
      "cell_type": "code",
      "execution_count": null,
      "metadata": {
        "colab": {
          "base_uri": "https://localhost:8080/"
        },
        "id": "zVMemCoo2WUD",
        "outputId": "fd7fa0bf-4dda-4972-ba88-5c48a375a176"
      },
      "outputs": [
        {
          "output_type": "stream",
          "name": "stdout",
          "text": [
            "121\n",
            "is palindrome\n"
          ]
        }
      ],
      "source": [
        "#Palindrome\n",
        "def is_palindrome(input):\n",
        "  new_input = str(input)\n",
        "  reversed_input = new_input[::-1]\n",
        "  print(reversed_input)\n",
        "  return reversed_input == new_input\n",
        "\n",
        "if __name__ =='__main__':\n",
        "  number_to_check = 121\n",
        "  if is_palindrome(number_to_check):\n",
        "    print(\"is palindrome\")\n",
        "  else:\n",
        "    print(\"is not a palindrome\")"
      ]
    },
    {
      "cell_type": "code",
      "execution_count": null,
      "metadata": {
        "colab": {
          "base_uri": "https://localhost:8080/"
        },
        "id": "WttNoeUPBt9a",
        "outputId": "fdd1ed26-6b47-4ab9-d7fd-a6d25c2c321a"
      },
      "outputs": [
        {
          "name": "stdout",
          "output_type": "stream",
          "text": [
            "Enter the number:5\n",
            "it is automorphic\n"
          ]
        }
      ],
      "source": [
        "#Automorphic\n",
        "num=int(input(\"Enter the number:\"))\n",
        "sq=num*num\n",
        "if(num%10==sq%10):\n",
        "   print(\"it is automorphic\")\n",
        "else:\n",
        "  print(\"it is not automorphic\")"
      ]
    },
    {
      "cell_type": "code",
      "execution_count": null,
      "metadata": {
        "colab": {
          "base_uri": "https://localhost:8080/"
        },
        "id": "eDv6bOxQDMHR",
        "outputId": "bb3182f6-2ebd-49b2-9ea7-f17281ce1026"
      },
      "outputs": [
        {
          "name": "stdout",
          "output_type": "stream",
          "text": [
            "Enter the number:74\n",
            "it is not trimorphic\n"
          ]
        }
      ],
      "source": [
        "# Trimorphic\n",
        "num=int(input(\"Enter the number:\"))\n",
        "sq=num*num\n",
        "cube=sq*num\n",
        "if(cube%10==num):\n",
        "   print(\"it is trimorphic\")\n",
        "else:\n",
        "  print(\"it is not trimorphic\")"
      ]
    },
    {
      "cell_type": "code",
      "execution_count": null,
      "metadata": {
        "colab": {
          "base_uri": "https://localhost:8080/"
        },
        "id": "o_5f3jdeLhfu",
        "outputId": "57640a38-f112-4235-a827-607f9cf2c173"
      },
      "outputs": [
        {
          "name": "stdout",
          "output_type": "stream",
          "text": [
            "Enter the number:74\n",
            "Not Automorphic\n",
            "Not Trimorphic\n"
          ]
        }
      ],
      "source": [
        "#Automorphic and Triomorphic\n",
        "num=int(input(\"Enter the number:\"))\n",
        "square=num**2\n",
        "cube=num**3\n",
        "smod=pow(10,len(str(num)))\n",
        "cmod=pow(10,len(str(num)))\n",
        "if square%10==num:\n",
        "  print(\"Automorphic\")\n",
        "else:\n",
        "  print(\"Not Automorphic\")\n",
        "if cube%10==num:\n",
        "  print(\"Trimorphic\")\n",
        "else:\n",
        "  print(\"Not Trimorphic\")"
      ]
    },
    {
      "cell_type": "code",
      "execution_count": null,
      "metadata": {
        "colab": {
          "base_uri": "https://localhost:8080/"
        },
        "id": "50RpyXh5pZE3",
        "outputId": "8aa1eaec-26da-430d-a214-02314a9112fd"
      },
      "outputs": [
        {
          "name": "stdout",
          "output_type": "stream",
          "text": [
            "Enter the input:8\n",
            "Enter the input:6\n",
            "Enter the input:10\n",
            "It is rightangled triangle\n"
          ]
        }
      ],
      "source": [
        "#Check whether the triangle is rightangled triangle or not\n",
        "s1=int(input(\"Enter the input:\"))\n",
        "s2=int(input(\"Enter the input:\"))\n",
        "s3=int(input(\"Enter the input:\"))\n",
        "s1=s1**2\n",
        "s2=s2**2\n",
        "s3=s3**2\n",
        "if s1==s2+s3 or s2==s1+s3 or s3==s1+s2:\n",
        "  print(\"It is rightangled triangle\")\n",
        "else:\n",
        "  print(\"Not a rightangled triangle\")"
      ]
    },
    {
      "cell_type": "code",
      "execution_count": null,
      "metadata": {
        "colab": {
          "base_uri": "https://localhost:8080/"
        },
        "id": "Tb9hhjiis3hM",
        "outputId": "2d230015-a6cc-493c-bfed-24dcd22f0928"
      },
      "outputs": [
        {
          "name": "stdout",
          "output_type": "stream",
          "text": [
            "Enter the input:5\n",
            "Enter the input: 3\n",
            "Operation:\n",
            "1.Add\n",
            "2.Substract\n",
            "3.Multiply\n",
            "4.Divide\n",
            "Enter the operation (1-4) :2\n",
            "Difference: 2.0\n"
          ]
        }
      ],
      "source": [
        "#Calculator program\n",
        "i=float(input(\"Enter the input:\"))\n",
        "j=float(input(\"Enter the input: \"))\n",
        "print(\"Operation:\")\n",
        "print(\"1.Add\")\n",
        "print(\"2.Substract\")\n",
        "print(\"3.Multiply\")\n",
        "print(\"4.Divide\")\n",
        "k=int(input(\"Enter the operation (1-4) :\"))\n",
        "if k==1:\n",
        "  k1=i+j\n",
        "  print(\"sum=:\", k1)\n",
        "elif k==2:\n",
        "  k2=i-j\n",
        "  print(\"Difference:\", k2)\n",
        "elif k==3:\n",
        "  k3=i*j\n",
        "  print(\"Product :\", k3)\n",
        "elif k==4:\n",
        "  k4=i/j\n",
        "  print(\"Quotient:\". k4)\n",
        "else:\n",
        "  print(\"Invalid output\")\n"
      ]
    },
    {
      "cell_type": "code",
      "execution_count": null,
      "metadata": {
        "colab": {
          "base_uri": "https://localhost:8080/"
        },
        "id": "WsDPUs3rPxML",
        "outputId": "af477782-6d8e-4be2-b4b2-5238a26dbe5a"
      },
      "outputs": [
        {
          "name": "stdout",
          "output_type": "stream",
          "text": [
            "41\n",
            "ANJANA SUBRAMANIAN, ANJANA, ANJANA, HELLO\n",
            "anjana subramanian, anjana, anjana, hello\n",
            "Anjana subramanian, anjana, anjana, hello\n",
            "3\n",
            "anjana subramanian, anjana, anjana, hi\n",
            "['anjana subramanian', ' anjana', ' anjana', ' hello']\n"
          ]
        }
      ],
      "source": [
        "#Inbuilt method of string len(), upper(), lower(), capitalise(), count(), replace(), split()\n",
        "my_string=\"anjana subramanian, anjana, anjana, hello\"\n",
        "print(len(my_string))\n",
        "print(my_string.upper())\n",
        "print(my_string.lower())\n",
        "print(my_string.capitalize())\n",
        "count=my_string.count(\"anjana\")\n",
        "print(count)\n",
        "new_string=my_string.replace(\"hello\", \"hi\")\n",
        "print(new_string)\n",
        "new_one=my_string.split(\",\")\n",
        "print(new_one)\n",
        "\n"
      ]
    },
    {
      "cell_type": "code",
      "execution_count": null,
      "metadata": {
        "colab": {
          "base_uri": "https://localhost:8080/"
        },
        "id": "p_OiB24ramik",
        "outputId": "194219ef-f0df-4618-dadd-277187dcd274"
      },
      "outputs": [
        {
          "name": "stdout",
          "output_type": "stream",
          "text": [
            "[22, 40, 50, 17, 75]\n",
            "[23, 22, 40, 50, 17, 75]\n",
            "[23, 40, 50, 17, 75]\n",
            "[23, 40, 50, 17]\n",
            "[23, 50, 17]\n",
            "0\n",
            "1\n",
            "[2, 4, 5, 7]\n",
            "[17, 50, 23]\n",
            "[]\n",
            "[]\n"
          ]
        }
      ],
      "source": [
        "#List inbuiltmethod append(), extend(), insert(), remove(), pop(), index(), count(), sort(), reverse(), clear(),des()\n",
        "my_list=[22, 40, 50, 17]\n",
        "my_list.append(75)\n",
        "print(my_list)\n",
        "my_list.insert(0,23)\n",
        "print(my_list)\n",
        "my_list.remove(22)\n",
        "print(my_list)\n",
        "my_list.pop()\n",
        "print(my_list)\n",
        "my_list.pop(1)\n",
        "print(my_list)\n",
        "list=[2, 4, 5, 7]\n",
        "s=list.index(2)\n",
        "print(s)\n",
        "l=[2,1,3,3,5]\n",
        "k=l.count(2)\n",
        "print(k)\n",
        "list.sort()\n",
        "print(list)\n",
        "my_list.reverse()\n",
        "print(my_list)\n",
        "my_list.clear()\n",
        "print(my_list)\n",
        "list.clear()\n",
        "print(list)"
      ]
    },
    {
      "cell_type": "code",
      "execution_count": null,
      "metadata": {
        "colab": {
          "base_uri": "https://localhost:8080/"
        },
        "id": "lDZsILdRhOhw",
        "outputId": "b3a4bac1-bd5b-4809-b12a-192ebc1c696e"
      },
      "outputs": [
        {
          "name": "stdout",
          "output_type": "stream",
          "text": [
            "Enter the string:hello\n",
            "h\n",
            "e\n",
            "l\n",
            "l\n",
            "o\n"
          ]
        }
      ],
      "source": [
        "#while loop vowels\n",
        "s=str(input(\"Enter the string:\"))\n",
        "count=0\n",
        "i=0\n",
        "vowels=\"aeiouAEIOU\"\n",
        "while count<len(s):\n",
        "  #if  i in vowels:\n",
        "  print (s[count])\n",
        "  count=count+1"
      ]
    },
    {
      "cell_type": "code",
      "execution_count": null,
      "metadata": {
        "colab": {
          "base_uri": "https://localhost:8080/"
        },
        "id": "SKKQfRlYvCzX",
        "outputId": "905a2e0d-a5dd-4994-e2e9-2409345ffc47"
      },
      "outputs": [
        {
          "output_type": "stream",
          "name": "stdout",
          "text": [
            "Write your word here: ice pop\n",
            "i\n",
            "e\n",
            "o\n",
            "No of vowels is  3 "
          ]
        }
      ],
      "source": [
        "#Count te vowels using for loop\n",
        "s = str(input(\"Write your word here: \"))\n",
        "count=0\n",
        "vowels='aeiou'\n",
        "for i in s:\n",
        "    if i in 'aeiou':\n",
        "      print(i)\n",
        "      count=count+1\n",
        "print(\"No of vowels is \",count,end=\" \")"
      ]
    },
    {
      "cell_type": "code",
      "execution_count": null,
      "metadata": {
        "colab": {
          "base_uri": "https://localhost:8080/"
        },
        "id": "vVMj91n71Rs1",
        "outputId": "9d915918-bd0a-4327-f7c9-3e4f666d2b71"
      },
      "outputs": [
        {
          "name": "stdout",
          "output_type": "stream",
          "text": [
            "Enter the word:ice pop\n",
            "c\n",
            " \n",
            "p\n",
            "p\n",
            "No of constant is: 4\n"
          ]
        }
      ],
      "source": [
        "#count consonant using for loop\n",
        "s=str(input(\"Enter the word:\" ))\n",
        "count=0\n",
        "for i in s:\n",
        "  if i not in 'aeiou':\n",
        "    print(i)\n",
        "    count=count+1\n",
        "print(\"No of constant is:\", count)"
      ]
    },
    {
      "cell_type": "code",
      "execution_count": null,
      "metadata": {
        "colab": {
          "base_uri": "https://localhost:8080/"
        },
        "id": "yfSyq2AN8Eev",
        "outputId": "2e67f9ae-9998-42cc-84df-05f0ba60a8be"
      },
      "outputs": [
        {
          "output_type": "stream",
          "name": "stdout",
          "text": [
            "Enter the word:malayalam\n",
            "mlylm"
          ]
        }
      ],
      "source": [
        "#remove vowels\n",
        "s=str(input(\"Enter the word:\"))\n",
        "new_s=\"\"\n",
        "count=0\n",
        "for i in s:\n",
        "  if i not in'aeiou':\n",
        "    new_s=new_s.replace(i,\"\")\n",
        "    count=count+1\n",
        "    print(i,end=\"\")\n"
      ]
    },
    {
      "cell_type": "code",
      "execution_count": null,
      "metadata": {
        "colab": {
          "base_uri": "https://localhost:8080/"
        },
        "id": "sKENopvn_Clh",
        "outputId": "24df6e52-5ac1-4fa6-c532-5231edef985e"
      },
      "outputs": [
        {
          "name": "stdout",
          "output_type": "stream",
          "text": [
            "Enter the elements:hello hei hello\n",
            "['hello', 'hei']\n"
          ]
        }
      ],
      "source": [
        "#remove duplicate elements in string\n",
        "\n",
        "my_str = input(\"Enter the elements:\").split(\" \")\n",
        "my_list = []\n",
        "\n",
        "for i in my_str:\n",
        "  if i not in my_list:\n",
        "    my_list.append(i)\n",
        "print(my_list)\n",
        "\n"
      ]
    },
    {
      "cell_type": "code",
      "execution_count": null,
      "metadata": {
        "colab": {
          "base_uri": "https://localhost:8080/"
        },
        "id": "RYb_9lhGFOcT",
        "outputId": "80cbb291-76d9-4651-a201-340e146a2637"
      },
      "outputs": [
        {
          "name": "stdout",
          "output_type": "stream",
          "text": [
            "The original is:  [2, 3, 4, 5, 5, 2]\n",
            "The after removing the duplicates : [2, 3, 4, 5]\n"
          ]
        }
      ],
      "source": [
        "#remove duplicate elements from list\n",
        "list=[2,3,4,5,5,2]\n",
        "print(\"The original is: \",list)\n",
        "new_list=[]\n",
        "for i in list:\n",
        "  if i not in new_list:\n",
        "    new_list.append(i)\n",
        "print(\"The after removing the duplicates :\",new_list)\n"
      ]
    },
    {
      "cell_type": "code",
      "execution_count": null,
      "metadata": {
        "colab": {
          "base_uri": "https://localhost:8080/"
        },
        "id": "GRvVrjUFH0k2",
        "outputId": "c9017c68-f98c-4848-c0b9-d3b5e615c6ce"
      },
      "outputs": [
        {
          "name": "stdout",
          "output_type": "stream",
          "text": [
            "{0, 1, 2, 3, 4}\n",
            "{0, 1, 2, 3, 4, -1}\n",
            "{1, 2, 3, 4, -1}\n",
            "{1, 2, 3, 4}\n",
            "{2, 3, 4}\n",
            "set()\n"
          ]
        }
      ],
      "source": [
        "#Set unbuilt methods\n",
        "\n",
        "myset={1,2,3,4}\n",
        "myset.add(0)\n",
        "print(myset)\n",
        "\n",
        "myset.update({-1})\n",
        "print(myset)\n",
        "\n",
        "myset.remove(0)\n",
        "print(myset)\n",
        "\n",
        "myset.discard(-1)\n",
        "print(myset)\n",
        "\n",
        "myset.pop()\n",
        "print(myset)\n",
        "\n",
        "myset.clear()\n",
        "print(myset)\n",
        "\n",
        "set1={1,2,3}\n",
        "set2={3,4,5}\n",
        "\n",
        "\n",
        "\n",
        "\n",
        "\n"
      ]
    },
    {
      "cell_type": "code",
      "execution_count": null,
      "metadata": {
        "colab": {
          "base_uri": "https://localhost:8080/"
        },
        "id": "FsWwVUE0U8HM",
        "outputId": "c7f50e94-181b-4198-ac72-2fa3608732b5"
      },
      "outputs": [
        {
          "name": "stdout",
          "output_type": "stream",
          "text": [
            "Welcome to python\n"
          ]
        }
      ],
      "source": [
        "# 1. write a python program to output welcome to python\n",
        "\n",
        "print(\"Welcome to python\")"
      ]
    },
    {
      "cell_type": "code",
      "execution_count": null,
      "metadata": {
        "colab": {
          "base_uri": "https://localhost:8080/"
        },
        "id": "ndnapte0VjOF",
        "outputId": "95604182-ec24-4a1d-96b1-1df1edfa7733"
      },
      "outputs": [
        {
          "name": "stdout",
          "output_type": "stream",
          "text": [
            "var1: Hello\n",
            "var2: 22\n",
            "var3: kochi\n"
          ]
        }
      ],
      "source": [
        "# 2. write a python program to declare multiple variables in a single line\n",
        "\n",
        "\n",
        "var1, var2, var3= \"Hello\", 22, \"kochi\"\n",
        "print(\"var1:\", var1)\n",
        "print(\"var2:\", var2)\n",
        "print(\"var3:\", var3)\n"
      ]
    },
    {
      "cell_type": "code",
      "execution_count": null,
      "metadata": {
        "colab": {
          "base_uri": "https://localhost:8080/",
          "height": 140
        },
        "id": "q6P-x5T_Xi-d",
        "outputId": "48bbd124-83c2-4d93-a6a0-6315b9804013"
      },
      "outputs": [
        {
          "ename": "SyntaxError",
          "evalue": "ignored",
          "output_type": "error",
          "traceback": [
            "\u001b[0;36m  File \u001b[0;32m\"<ipython-input-50-16aee2adbd91>\"\u001b[0;36m, line \u001b[0;32m16\u001b[0m\n\u001b[0;31m    2nd_name=\"priya\"\u001b[0m\n\u001b[0m    ^\u001b[0m\n\u001b[0;31mSyntaxError\u001b[0m\u001b[0;31m:\u001b[0m invalid decimal literal\n"
          ]
        }
      ],
      "source": [
        "# 3.  write a python program with legal and illegal variables\n",
        "\n",
        "#legal variables\n",
        "\n",
        "my_name=\"Anjana\"\n",
        "myage=22\n",
        "my_place=\"Edappally\"\n",
        "\n",
        "\n",
        "print(\"my_name:\", my_name)\n",
        "print(\"myage:\",myage)\n",
        "print(\"my_place:\",my_place)\n",
        "\n",
        "#illegal variables\n",
        "\n",
        "2nd_name=\"priya\"\n",
        "my-height=153 cm\n",
        "is student=True\n",
        "\n",
        "\n",
        "\n",
        "\n",
        "\n",
        "\n"
      ]
    },
    {
      "cell_type": "code",
      "execution_count": null,
      "metadata": {
        "colab": {
          "base_uri": "https://localhost:8080/"
        },
        "id": "OuEY0K1MhW-R",
        "outputId": "8303ae7f-3a5b-40ae-bfd2-75d00f9fa00d"
      },
      "outputs": [
        {
          "name": "stdout",
          "output_type": "stream",
          "text": [
            "Full_name: Anjana Subramanian\n"
          ]
        }
      ],
      "source": [
        " # 4. write a python program to combine two variables\n",
        "\n",
        "\n",
        "first_name=\"Anjana\"\n",
        "second_name=\"Subramanian\"\n",
        "\n",
        "full_name=first_name +\" \" + second_name\n",
        "print(\"Full_name:\", full_name)"
      ]
    },
    {
      "cell_type": "code",
      "execution_count": null,
      "metadata": {
        "colab": {
          "base_uri": "https://localhost:8080/"
        },
        "id": "gsxbAqMtkZTL",
        "outputId": "5a47b575-f148-4bbd-a6a4-bc02abd97469"
      },
      "outputs": [
        {
          "name": "stdout",
          "output_type": "stream",
          "text": [
            "The data type of object: <class 'str'>\n"
          ]
        }
      ],
      "source": [
        "# 5.  write a program to get the data type of an object\n",
        "\n",
        "\n",
        "variable=\"Anjana\"\n",
        "data_type=type(variable)\n",
        "print(\"The data type of object:\", data_type)"
      ]
    },
    {
      "cell_type": "code",
      "execution_count": null,
      "metadata": {
        "id": "tl-qcRw7liNX"
      },
      "outputs": [],
      "source": [
        "# 6. write a program to input multiline strings\n",
        "\n",
        "multiline=input(\"Enter the string:\")\n",
        "\n"
      ]
    },
    {
      "cell_type": "code",
      "execution_count": null,
      "metadata": {
        "colab": {
          "base_uri": "https://localhost:8080/"
        },
        "id": "4K-51kzEmuGo",
        "outputId": "0e8e8e15-302d-497b-85fa-78a9f7c97d46"
      },
      "outputs": [
        {
          "name": "stdout",
          "output_type": "stream",
          "text": [
            "Convert integer to float: 22.0\n",
            "convert string into integer: 333\n"
          ]
        }
      ],
      "source": [
        " # 7. write a program to convert one data type into other\n",
        "\n",
        "int_var=22\n",
        "str_var=\"333\"\n",
        "\n",
        "float_var=float(int_var)\n",
        "print(\"Convert integer to float:\", float_var)\n",
        "\n",
        "int_var=int(str_var)\n",
        "print(\"convert string into integer:\",int_var)\n"
      ]
    },
    {
      "cell_type": "code",
      "execution_count": null,
      "metadata": {
        "colab": {
          "base_uri": "https://localhost:8080/"
        },
        "id": "9Y3_xPspn-gT",
        "outputId": "cbd7ae52-111b-4686-a1c7-8241b8f40a39"
      },
      "outputs": [
        {
          "name": "stdout",
          "output_type": "stream",
          "text": [
            "Enter the string:Anjana\n",
            "Entered string: Anjana\n"
          ]
        }
      ],
      "source": [
        "# 8. write a program to input a string\n",
        "\n",
        "user_input=input(\"Enter the string:\")\n",
        "print(\"Entered string:\", user_input)"
      ]
    },
    {
      "cell_type": "code",
      "execution_count": null,
      "metadata": {
        "colab": {
          "base_uri": "https://localhost:8080/"
        },
        "id": "DO9kPu6_op1V",
        "outputId": "fecedff4-b18c-4f57-f359-7b61cb12bd10"
      },
      "outputs": [
        {
          "name": "stdout",
          "output_type": "stream",
          "text": [
            "c\n",
            "o\n",
            "n\n",
            "t\n",
            "mnao\n",
            "mnc\n",
            "cmitn\n",
            "cmuiain\n",
            "niaiumc\n",
            "noitacinummoc\n"
          ]
        }
      ],
      "source": [
        "# 9. str2=''communication\" then find\n",
        "\n",
        "str='communication'\n",
        "print(str[0])\n",
        "print(str[1])\n",
        "print(str[-1])\n",
        "print(str[-4])\n",
        "print(str[2:12:3])\n",
        "print(str[3:9:2])\n",
        "print(str[::3])\n",
        "print(str[::2])\n",
        "print(str[::-2])\n",
        "print(str[::-1])\n"
      ]
    },
    {
      "cell_type": "code",
      "execution_count": null,
      "metadata": {
        "colab": {
          "base_uri": "https://localhost:8080/"
        },
        "id": "AM3-LW4LpaXJ",
        "outputId": "9ad2d334-7f0e-4128-b7b7-bc4a307afa3d"
      },
      "outputs": [
        {
          "name": "stdout",
          "output_type": "stream",
          "text": [
            "random_num: -9\n"
          ]
        }
      ],
      "source": [
        "# 10. write a program to generate random numbers\n",
        "\n",
        "import random\n",
        "\n",
        "number=(1 - 10)\n",
        "print(\"random_num:\",number)\n"
      ]
    },
    {
      "cell_type": "code",
      "execution_count": null,
      "metadata": {
        "colab": {
          "base_uri": "https://localhost:8080/"
        },
        "id": "pRWUtkCdp6IU",
        "outputId": "9da69051-f3b3-46ed-9004-a82ef72e8c25"
      },
      "outputs": [
        {
          "name": "stdout",
          "output_type": "stream",
          "text": [
            "Enter the string:Anjana\n",
            "The string contains only alphanumeric characters.\n",
            "None\n"
          ]
        }
      ],
      "source": [
        "# 11. Write a python program to use the isalnum method\n",
        "\n",
        "\n",
        "user_input=input(\"Enter the string:\")\n",
        "\n",
        "if user_input.isalnum():\n",
        "  print(print(\"The string contains only alphanumeric characters.\"))\n",
        "else:\n",
        "  print(\"The string not  contains alphanumeric characters.\")"
      ]
    },
    {
      "cell_type": "code",
      "execution_count": null,
      "metadata": {
        "colab": {
          "base_uri": "https://localhost:8080/"
        },
        "id": "HK2LMyC9rqt9",
        "outputId": "455f56a6-d219-401f-f857-47506bf20ef6"
      },
      "outputs": [
        {
          "name": "stdout",
          "output_type": "stream",
          "text": [
            "Enter the string:AnjanA\n",
            "original string: AnjanA\n",
            "lower case string: anjana\n"
          ]
        }
      ],
      "source": [
        " # 12. convert a string to a lower\n",
        "\n",
        "user_input=input(\"Enter the string:\")\n",
        "\n",
        "lower_case=user_input.lower()\n",
        "print(\"original string:\", user_input)\n",
        "print(\"lower case string:\", lower_case)\n"
      ]
    },
    {
      "cell_type": "code",
      "execution_count": null,
      "metadata": {
        "colab": {
          "base_uri": "https://localhost:8080/"
        },
        "id": "snFCq4A2scVV",
        "outputId": "654f48fa-6801-416b-e142-9a9bd4d2cb2c"
      },
      "outputs": [
        {
          "name": "stdout",
          "output_type": "stream",
          "text": [
            "Enter the string:anjana\n",
            "original string: anjana\n",
            "Capitalised string: Anjana\n"
          ]
        }
      ],
      "source": [
        "# 13. Write a python program to use capitalize method\n",
        "\n",
        "user_input=input(\"Enter the string:\")\n",
        "\n",
        "capitalised_string=user_input.capitalize()\n",
        "print(\"original string:\", user_input)\n",
        "print(\"Capitalised string:\", capitalised_string)\n",
        "\n"
      ]
    },
    {
      "cell_type": "code",
      "execution_count": null,
      "metadata": {
        "colab": {
          "base_uri": "https://localhost:8080/"
        },
        "id": "3bUQ32Jps_3p",
        "outputId": "8dda6ad5-a092-4a46-a774-7f2a3083b17f"
      },
      "outputs": [
        {
          "name": "stdout",
          "output_type": "stream",
          "text": [
            "Enter the string:  python\n",
            "  python\n"
          ]
        }
      ],
      "source": [
        "# 14. remove white spaces from the begging of a string\n",
        "\n",
        "user_input=input(\"Enter the string:\")\n",
        "user_input.lstrip()\n",
        "print(user_input)\n",
        "\n"
      ]
    },
    {
      "cell_type": "code",
      "execution_count": null,
      "metadata": {
        "colab": {
          "base_uri": "https://localhost:8080/"
        },
        "id": "nwM6g0QltZBv",
        "outputId": "9ccfd32e-9cb4-46ad-a454-97610bc489a7"
      },
      "outputs": [
        {
          "name": "stdout",
          "output_type": "stream",
          "text": [
            "True\n"
          ]
        }
      ],
      "source": [
        "# 15. Write a python program to use ends with the method\n",
        "\n",
        "string=\"hello world\"\n",
        "\n",
        "x=string.endswith(\"world\")\n",
        "print(x)"
      ]
    },
    {
      "cell_type": "code",
      "execution_count": null,
      "metadata": {
        "colab": {
          "base_uri": "https://localhost:8080/"
        },
        "id": "7r1noWcKtZFc",
        "outputId": "7a259a1d-7ef4-4974-ba5d-ad93f2725607"
      },
      "outputs": [
        {
          "name": "stdout",
          "output_type": "stream",
          "text": [
            " the string contain the phrase world\n"
          ]
        }
      ],
      "source": [
        "# 16. write a program to check whether a certain character or phrase is present in a string or not\n",
        "\n",
        "string=\"hello world\"\n",
        "x=\"world\"\n",
        "\n",
        "if x in string:\n",
        "  print(\" the string contain the phrase\", x)\n",
        "else:\n",
        "  print(\" the string not contain the phrase\", x)\n"
      ]
    },
    {
      "cell_type": "code",
      "execution_count": null,
      "metadata": {
        "colab": {
          "base_uri": "https://localhost:8080/"
        },
        "id": "2WWyi2Xeuyij",
        "outputId": "34f227e9-0baf-4322-cede-906fb576721a"
      },
      "outputs": [
        {
          "name": "stdout",
          "output_type": "stream",
          "text": [
            "the length of the string: 17\n"
          ]
        }
      ],
      "source": [
        "# 17. write a program to find the length of a string\n",
        "\n",
        "user_input=(\"Enter the string:\")\n",
        "string_length=len(user_input)\n",
        "\n",
        "print(\"the length of the string:\",string_length)"
      ]
    },
    {
      "cell_type": "code",
      "execution_count": null,
      "metadata": {
        "colab": {
          "base_uri": "https://localhost:8080/"
        },
        "id": "k1Mnuv8Uuyvr",
        "outputId": "8c7b0206-c3c7-4297-ec8e-6f5044d197e8"
      },
      "outputs": [
        {
          "name": "stdout",
          "output_type": "stream",
          "text": [
            "Enter the string:anjana subramanian\n",
            " string: ['anjana', 'subramanian']\n"
          ]
        }
      ],
      "source": [
        "# 18. write a program to split the strings into substrings\n",
        "\n",
        "user_input=input(\"Enter the string:\")\n",
        "\n",
        "string=user_input.split()\n",
        "print(\" string:\", string)"
      ]
    },
    {
      "cell_type": "code",
      "execution_count": null,
      "metadata": {
        "colab": {
          "base_uri": "https://localhost:8080/"
        },
        "id": "XWpunJ4-uy7U",
        "outputId": "dc622a20-1be4-4016-be94-d737d44235bf"
      },
      "outputs": [
        {
          "name": "stdout",
          "output_type": "stream",
          "text": [
            "Enter the string:HELLO iam Anjana\n",
            "casefold_string: hello iam anjana\n"
          ]
        }
      ],
      "source": [
        "# 19. Write a python program to use the case fold method\n",
        "\n",
        "user_input=input(\"Enter the string:\")\n",
        "\n",
        "casefold_string=user_input.casefold()\n",
        "print(\"casefold_string:\", casefold_string)\n",
        "\n"
      ]
    },
    {
      "cell_type": "code",
      "execution_count": null,
      "metadata": {
        "colab": {
          "base_uri": "https://localhost:8080/"
        },
        "id": "l4weDNFou0Bk",
        "outputId": "aa85538e-e8db-480b-c2b0-307ce898e430"
      },
      "outputs": [
        {
          "name": "stdout",
          "output_type": "stream",
          "text": [
            "String after the replacemnt: Welcome to space\n"
          ]
        }
      ],
      "source": [
        "# 20. write a program to replace a string with other\n",
        "\n",
        "string=\"Welcome to python\"\n",
        "\n",
        "to_replace='python'\n",
        "replacement='space'\n",
        "\n",
        "new_string=string.replace(to_replace,replacement)\n",
        "print(\"String after the replacemnt:\",new_string)\n",
        "\n"
      ]
    },
    {
      "cell_type": "code",
      "execution_count": null,
      "metadata": {
        "colab": {
          "base_uri": "https://localhost:8080/"
        },
        "id": "lCnfsygXyRFA",
        "outputId": "704d1583-7892-41c1-eb1c-79af8b2ee316"
      },
      "outputs": [
        {
          "name": "stdout",
          "output_type": "stream",
          "text": [
            "lco\n"
          ]
        }
      ],
      "source": [
        "# 21. Get the characters from index 2 to index 4  txt = \"Welcome to python\"\n",
        "\n",
        "\n",
        "txt=\"Welcome to python\"\n",
        "print(txt[2:5])\n"
      ]
    },
    {
      "cell_type": "code",
      "execution_count": null,
      "metadata": {
        "colab": {
          "base_uri": "https://localhost:8080/"
        },
        "id": "I1R56UDzyRHY",
        "outputId": "5e4a5a95-f5d6-4fd3-8af7-9189a0c76973"
      },
      "outputs": [
        {
          "name": "stdout",
          "output_type": "stream",
          "text": [
            " Welcome to python \n"
          ]
        }
      ],
      "source": [
        "# 22.  Return the string without any whitespace at the beginning of the end. txt = \" Welcome to python \"\n",
        "\n",
        "txt= \" Welcome to python \"\n",
        "txt.lstrip()\n",
        "print(txt)\n",
        "\n"
      ]
    },
    {
      "cell_type": "code",
      "execution_count": null,
      "metadata": {
        "colab": {
          "base_uri": "https://localhost:8080/"
        },
        "id": "VGvlfLC1yRJg",
        "outputId": "0f6fd027-5933-4946-fe11-45030e791855"
      },
      "outputs": [
        {
          "name": "stdout",
          "output_type": "stream",
          "text": [
            "Type of example_variable: <class 'int'>\n"
          ]
        }
      ],
      "source": [
        "# 23. Using the type() function assign the type of the variable to answer_1, then print it.\n",
        "\n",
        "variable=22\n",
        "answer_1=type(variable)\n",
        "print(\"Type of example_variable:\", answer_1)"
      ]
    },
    {
      "cell_type": "code",
      "execution_count": null,
      "metadata": {
        "colab": {
          "base_uri": "https://localhost:8080/"
        },
        "id": "nHc6f9YuyRM6",
        "outputId": "e7a845c9-3148-4037-f1fe-f21e4109e510"
      },
      "outputs": [
        {
          "name": "stdout",
          "output_type": "stream",
          "text": [
            "Type of men_stepped_on_the_moon: <class 'int'>\n"
          ]
        }
      ],
      "source": [
        "# 24. men_stepped_on_the_moon=12 answer_1= print(answer_1)\n",
        "\n",
        "men_stepped_on_the_moon=12\n",
        "\n",
        "answer_1=type(men_stepped_on_the_moon)\n",
        "print(\"Type of men_stepped_on_the_moon:\",answer_1)\n"
      ]
    },
    {
      "cell_type": "code",
      "execution_count": null,
      "metadata": {
        "colab": {
          "base_uri": "https://localhost:8080/"
        },
        "id": "qZSo6-m50QmS",
        "outputId": "09e80710-9e46-4041-982b-2025f364b409"
      },
      "outputs": [
        {
          "name": "stdout",
          "output_type": "stream",
          "text": [
            "Modified String: It's always darkest before dawn!\n"
          ]
        }
      ],
      "source": [
        "# 25.\n",
        "\n",
        "str=\"It's always darkest before dawn.\"\n",
        "\n",
        "modified_str=str.replace('.', '!')\n",
        "print(\"Modified String:\", modified_str)\n",
        "\n",
        "\n",
        "\n"
      ]
    },
    {
      "cell_type": "code",
      "execution_count": null,
      "metadata": {
        "colab": {
          "base_uri": "https://localhost:8080/"
        },
        "id": "KoDua7Wj0kMs",
        "outputId": "16bb737e-a62a-49f2-d8d4-115d43cf0a90"
      },
      "outputs": [
        {
          "name": "stdout",
          "output_type": "stream",
          "text": [
            "Lower case String: every strike brings me closer to the next home run.\n"
          ]
        }
      ],
      "source": [
        "# 27. Reassign str so that, all its characters are lowercase\n",
        "\n",
        "str=\"EVERY Strike Brings Me Closer to the Next Home run.\"\n",
        "\n",
        "lowercase_str=str.lower()\n",
        "print(\"Lower case String:\", lowercase_str)\n"
      ]
    },
    {
      "cell_type": "code",
      "execution_count": null,
      "metadata": {
        "colab": {
          "base_uri": "https://localhost:8080/"
        },
        "id": "Pq8T2hQNRMAd",
        "outputId": "abe8e259-4291-48d4-b358-899f87edfd59"
      },
      "outputs": [
        {
          "name": "stdout",
          "output_type": "stream",
          "text": [
            " There Are No Traffic Jams Along With The Extra \n"
          ]
        }
      ],
      "source": [
        "# 28. Make the string so that everything is properly and the first letter is capital \"\n",
        "\n",
        "str1=\" there are no traffic JamS Along with The extra \"\n",
        "capitalised_str=str1.title()\n",
        "print(capitalised_str)"
      ]
    },
    {
      "cell_type": "code",
      "execution_count": null,
      "metadata": {
        "colab": {
          "base_uri": "https://localhost:8080/"
        },
        "id": "IaHxhCAv0Qpl",
        "outputId": "ea6498bc-e967-4a79-dbba-fc7ba77e1bc6"
      },
      "outputs": [
        {
          "name": "stdout",
          "output_type": "stream",
          "text": [
            "Length of the string: 9\n"
          ]
        }
      ],
      "source": [
        "# 29. What is the length of the given string? str=\"1.975.000\"\n",
        "\n",
        "\n",
        "str=\"1.975.000\"\n",
        "\n",
        "string_length=len(str)\n",
        "print(\"Length of the string:\",string_length)"
      ]
    },
    {
      "cell_type": "code",
      "execution_count": null,
      "metadata": {
        "colab": {
          "base_uri": "https://localhost:8080/"
        },
        "id": "Y-UiAUrC0QtO",
        "outputId": "98a25d04-3d12-43c3-88d6-447eb2a51842"
      },
      "outputs": [
        {
          "name": "stdout",
          "output_type": "stream",
          "text": [
            "Enter a character:malayalam\n",
            "is not a numeric character\n"
          ]
        }
      ],
      "source": [
        "# 30. write a program To check whether a character is a numeric character or not,\n",
        "\n",
        "user_input=input(\"Enter a character:\")\n",
        "if user_input.isnumeric():\n",
        "    print(\"user_input is  character is numeric\")\n",
        "else:\n",
        "    print(\"is not a numeric character\")"
      ]
    },
    {
      "cell_type": "code",
      "execution_count": null,
      "metadata": {
        "colab": {
          "base_uri": "https://localhost:8080/"
        },
        "id": "SlrQbN1H2hIR",
        "outputId": "4b9c68aa-eca3-4760-93da-03d97d815426"
      },
      "outputs": [
        {
          "name": "stdout",
          "output_type": "stream",
          "text": [
            "The new_string is not present in the string\n"
          ]
        }
      ],
      "source": [
        "# 31. write a python program using the not in operator\n",
        "\n",
        "string=\"python programming\"\n",
        "new_string=\" Robot\"\n",
        "\n",
        "if new_string not in string:\n",
        "    print(\"The new_string is not present in the string\")\n",
        "else:\n",
        "    print(\"The new_string  is present in the  string\")\n"
      ]
    },
    {
      "cell_type": "code",
      "execution_count": null,
      "metadata": {
        "colab": {
          "base_uri": "https://localhost:8080/"
        },
        "id": "e9rPOdyjMVqb",
        "outputId": "d8b85782-df66-47b4-804a-c57d18a46203"
      },
      "outputs": [
        {
          "name": "stdout",
          "output_type": "stream",
          "text": [
            "Type of variables = <class 'str'>\n",
            "Type of variables = <class 'str'>\n"
          ]
        }
      ],
      "source": [
        "# 32. Print the types of two given variables with the print function.\n",
        "\n",
        "v_1=\"1\"\n",
        "v_2=\"1\"\n",
        "\n",
        "var1_type=type(v_1)\n",
        "var2_type=type(v_2)\n",
        "print(\"Type of variables =\", var1_type)\n",
        "print(\"Type of variables =\", var2_type)\n",
        "\n",
        "\n"
      ]
    },
    {
      "cell_type": "code",
      "execution_count": null,
      "metadata": {
        "colab": {
          "base_uri": "https://localhost:8080/"
        },
        "id": "NJRqg4mjMVtM",
        "outputId": "b122b8f9-d803-4477-dfa1-61c69e2f8fdc"
      },
      "outputs": [
        {
          "name": "stdout",
          "output_type": "stream",
          "text": [
            "Y is greator than X\n"
          ]
        }
      ],
      "source": [
        "# 33.  Perform comparison operations\n",
        "X=5\n",
        "Y=6\n",
        "if X<=Y:\n",
        "  print(\"Y is greator than X\")\n",
        "elif X>=Y:\n",
        "  print(\"X is greator than Y \")\n",
        "elif X==Y:\n",
        "  print(\"X and Y values are equal\")\n",
        "else:\n",
        "  print(\"invalid \")\n"
      ]
    },
    {
      "cell_type": "code",
      "execution_count": null,
      "metadata": {
        "colab": {
          "base_uri": "https://localhost:8080/"
        },
        "id": "phV6qfOJMVv8",
        "outputId": "1ab9ae80-cac9-4c8a-b75a-8f295999d88c"
      },
      "outputs": [
        {
          "name": "stdout",
          "output_type": "stream",
          "text": [
            "True\n"
          ]
        }
      ],
      "source": [
        "# 34.  write a python program using is the operator.\n",
        "\n",
        "a=5\n",
        "b=5\n",
        "if (a is b):\n",
        "  print(True)\n"
      ]
    },
    {
      "cell_type": "code",
      "execution_count": null,
      "metadata": {
        "colab": {
          "base_uri": "https://localhost:8080/"
        },
        "id": "ydss61IaMVzF",
        "outputId": "b1d75533-9a02-4d51-e4d2-1589f79015d4"
      },
      "outputs": [
        {
          "name": "stdout",
          "output_type": "stream",
          "text": [
            "True\n"
          ]
        }
      ],
      "source": [
        "# 35. write a python program using is not operator\n",
        "\n",
        "X=\"anjana\"\n",
        "Y=\"anjna\"\n",
        "\n",
        "if X is not Y:\n",
        "  print(True)\n",
        "else:\n",
        "  print(False)"
      ]
    },
    {
      "cell_type": "code",
      "execution_count": null,
      "metadata": {
        "colab": {
          "base_uri": "https://localhost:8080/"
        },
        "id": "GM8wAASzMV1s",
        "outputId": "8068c00c-383f-4484-9099-69de4ed72cff"
      },
      "outputs": [
        {
          "name": "stdout",
          "output_type": "stream",
          "text": [
            "13\n",
            "10\n",
            "30\n",
            "3\n",
            "1000\n"
          ]
        }
      ],
      "source": [
        "# 35. X=10 Y=3 Print X+y X X*y X//y X**y\n",
        "\n",
        "X=10\n",
        "Y=3\n",
        "\n",
        "print(X+Y)\n",
        "print(X)\n",
        "print(X*Y)\n",
        "print(X//Y)\n",
        "print(X**Y)\n",
        "\n"
      ]
    },
    {
      "cell_type": "code",
      "execution_count": null,
      "metadata": {
        "colab": {
          "base_uri": "https://localhost:8080/"
        },
        "id": "ZWQV5EmHMV7U",
        "outputId": "073ba364-e473-4962-945d-b0e0b9611162"
      },
      "outputs": [
        {
          "name": "stdout",
          "output_type": "stream",
          "text": [
            "1\n",
            "2\n",
            "3\n",
            "4\n",
            "5\n",
            "6\n",
            "7\n",
            "8\n",
            "9\n",
            "10\n",
            "11\n",
            "12\n",
            "13\n",
            "14\n",
            "15\n",
            "16\n",
            "17\n",
            "18\n",
            "19\n",
            "20\n",
            "21\n",
            "22\n",
            "23\n",
            "24\n",
            "25\n",
            "26\n",
            "27\n",
            "28\n",
            "29\n",
            "30\n",
            "31\n",
            "32\n",
            "33\n",
            "34\n",
            "35\n",
            "36\n",
            "37\n",
            "38\n",
            "39\n",
            "40\n",
            "41\n",
            "42\n",
            "43\n",
            "44\n",
            "45\n",
            "46\n",
            "47\n",
            "48\n",
            "49\n",
            "50\n",
            "51\n",
            "52\n",
            "53\n",
            "54\n",
            "55\n",
            "56\n",
            "57\n",
            "58\n",
            "59\n",
            "60\n",
            "61\n",
            "62\n",
            "63\n",
            "64\n",
            "65\n",
            "66\n",
            "67\n",
            "68\n",
            "69\n",
            "70\n",
            "71\n",
            "72\n",
            "73\n",
            "74\n",
            "75\n",
            "76\n",
            "77\n",
            "78\n",
            "79\n",
            "80\n",
            "81\n",
            "82\n",
            "83\n",
            "84\n",
            "85\n",
            "86\n",
            "87\n",
            "88\n",
            "89\n",
            "90\n",
            "91\n",
            "92\n",
            "93\n",
            "94\n",
            "95\n",
            "96\n",
            "97\n",
            "98\n",
            "99\n",
            "100\n",
            "101\n",
            "102\n",
            "103\n",
            "104\n",
            "105\n",
            "106\n",
            "107\n",
            "108\n",
            "109\n",
            "110\n",
            "111\n",
            "112\n",
            "113\n",
            "114\n",
            "115\n",
            "116\n",
            "117\n",
            "118\n",
            "119\n",
            "120\n",
            "121\n",
            "122\n",
            "123\n",
            "124\n",
            "125\n",
            "126\n",
            "127\n",
            "128\n",
            "129\n",
            "130\n",
            "131\n",
            "132\n",
            "133\n",
            "134\n",
            "135\n",
            "136\n",
            "137\n",
            "138\n",
            "139\n",
            "140\n",
            "141\n",
            "142\n",
            "143\n",
            "144\n",
            "145\n",
            "146\n",
            "147\n",
            "148\n",
            "149\n",
            "150\n",
            "151\n",
            "152\n",
            "153\n",
            "154\n",
            "155\n",
            "156\n",
            "157\n",
            "158\n",
            "159\n",
            "160\n",
            "161\n",
            "162\n",
            "163\n",
            "164\n",
            "165\n",
            "166\n",
            "167\n",
            "168\n",
            "169\n",
            "170\n",
            "171\n",
            "172\n",
            "173\n",
            "174\n",
            "175\n",
            "176\n",
            "177\n",
            "178\n",
            "179\n",
            "180\n",
            "181\n",
            "182\n",
            "183\n",
            "184\n",
            "185\n",
            "186\n",
            "187\n",
            "188\n",
            "189\n",
            "190\n",
            "191\n",
            "192\n",
            "193\n",
            "194\n",
            "195\n",
            "196\n",
            "197\n",
            "198\n",
            "199\n",
            "200\n",
            "201\n",
            "202\n",
            "203\n",
            "204\n",
            "205\n",
            "206\n",
            "207\n",
            "208\n",
            "209\n",
            "210\n",
            "211\n",
            "212\n",
            "213\n",
            "214\n",
            "215\n",
            "216\n",
            "217\n",
            "218\n",
            "219\n",
            "220\n",
            "221\n",
            "222\n",
            "223\n",
            "224\n",
            "225\n",
            "226\n",
            "227\n",
            "228\n",
            "229\n",
            "230\n",
            "231\n",
            "232\n",
            "233\n",
            "234\n",
            "235\n",
            "236\n",
            "237\n",
            "238\n",
            "239\n",
            "240\n",
            "241\n",
            "242\n",
            "243\n",
            "244\n",
            "245\n",
            "246\n",
            "247\n",
            "248\n",
            "249\n",
            "250\n",
            "251\n",
            "252\n",
            "253\n",
            "254\n",
            "255\n",
            "256\n",
            "257\n",
            "258\n",
            "259\n",
            "260\n",
            "261\n",
            "262\n",
            "263\n",
            "264\n",
            "265\n",
            "266\n",
            "267\n",
            "268\n",
            "269\n",
            "270\n",
            "271\n",
            "272\n",
            "273\n",
            "274\n",
            "275\n",
            "276\n",
            "277\n",
            "278\n",
            "279\n",
            "280\n",
            "281\n",
            "282\n",
            "283\n",
            "284\n",
            "285\n",
            "286\n",
            "287\n",
            "288\n",
            "289\n",
            "290\n",
            "291\n",
            "292\n",
            "293\n",
            "294\n",
            "295\n",
            "296\n",
            "297\n",
            "298\n",
            "299\n",
            "300\n",
            "301\n",
            "302\n",
            "303\n",
            "304\n",
            "305\n",
            "306\n",
            "307\n",
            "308\n",
            "309\n",
            "310\n",
            "311\n",
            "312\n",
            "313\n",
            "314\n",
            "315\n",
            "316\n",
            "317\n",
            "318\n",
            "319\n",
            "320\n",
            "321\n",
            "322\n",
            "323\n",
            "324\n",
            "325\n",
            "326\n",
            "327\n",
            "328\n",
            "329\n",
            "330\n",
            "331\n",
            "332\n",
            "333\n",
            "334\n",
            "335\n",
            "336\n",
            "337\n",
            "338\n",
            "339\n",
            "340\n",
            "341\n",
            "342\n",
            "343\n",
            "344\n",
            "345\n",
            "346\n",
            "347\n",
            "348\n",
            "349\n",
            "350\n",
            "351\n",
            "352\n",
            "353\n",
            "354\n",
            "355\n",
            "356\n",
            "357\n",
            "358\n",
            "359\n",
            "360\n",
            "361\n",
            "362\n",
            "363\n",
            "364\n",
            "365\n",
            "366\n",
            "367\n",
            "368\n",
            "369\n",
            "370\n",
            "371\n",
            "372\n",
            "373\n",
            "374\n",
            "375\n",
            "376\n",
            "377\n",
            "378\n",
            "379\n",
            "380\n",
            "381\n",
            "382\n",
            "383\n",
            "384\n",
            "385\n",
            "386\n",
            "387\n",
            "388\n",
            "389\n",
            "390\n",
            "391\n",
            "392\n",
            "393\n",
            "394\n",
            "395\n",
            "396\n",
            "397\n",
            "398\n",
            "399\n",
            "400\n",
            "401\n",
            "402\n",
            "403\n",
            "404\n",
            "405\n",
            "406\n",
            "407\n",
            "408\n",
            "409\n",
            "410\n",
            "411\n",
            "412\n",
            "413\n",
            "414\n",
            "415\n",
            "416\n",
            "417\n",
            "418\n",
            "419\n",
            "420\n",
            "421\n",
            "422\n",
            "423\n",
            "424\n",
            "425\n",
            "426\n",
            "427\n",
            "428\n",
            "429\n",
            "430\n",
            "431\n",
            "432\n",
            "433\n",
            "434\n",
            "435\n",
            "436\n",
            "437\n",
            "438\n",
            "439\n",
            "440\n",
            "441\n",
            "442\n",
            "443\n",
            "444\n",
            "445\n",
            "446\n",
            "447\n",
            "448\n",
            "449\n",
            "450\n",
            "451\n",
            "452\n",
            "453\n",
            "454\n",
            "455\n",
            "456\n",
            "457\n",
            "458\n",
            "459\n",
            "460\n",
            "461\n",
            "462\n",
            "463\n",
            "464\n",
            "465\n",
            "466\n",
            "467\n",
            "468\n",
            "469\n",
            "470\n",
            "471\n",
            "472\n",
            "473\n",
            "474\n",
            "475\n",
            "476\n",
            "477\n",
            "478\n",
            "479\n",
            "480\n",
            "481\n",
            "482\n",
            "483\n",
            "484\n",
            "485\n",
            "486\n",
            "487\n",
            "488\n",
            "489\n",
            "490\n",
            "491\n",
            "492\n",
            "493\n",
            "494\n",
            "495\n",
            "496\n",
            "497\n",
            "498\n",
            "499\n",
            "500\n"
          ]
        }
      ],
      "source": [
        "# 36. Print 1-500 using while loops\n",
        "\n",
        "i=1\n",
        "while i<=500:\n",
        "  print(i)\n",
        "  i=i+1\n"
      ]
    },
    {
      "cell_type": "code",
      "execution_count": null,
      "metadata": {
        "colab": {
          "base_uri": "https://localhost:8080/"
        },
        "id": "ybzRkPovMV-I",
        "outputId": "d0ef1a8e-bba6-4e83-bd82-2b5f828bf6f1"
      },
      "outputs": [
        {
          "name": "stdout",
          "output_type": "stream",
          "text": [
            "Enter the value:22\n",
            "Enter the value:54\n",
            "a2 is greator\n"
          ]
        }
      ],
      "source": [
        "# 37. Write a program using the if,elif, and else statement\n",
        "\n",
        "\n",
        "a1=int(input(\"Enter the value:\"))\n",
        "a2=int(input(\"Enter the value:\"))\n",
        "\n",
        "\n",
        "if a1>a2:\n",
        "  print(\"a1 is greator\")\n",
        "elif a1<a2:\n",
        "  print(\"a2 is greator\")\n",
        "else:\n",
        "  print(\"Both are equal\")\n"
      ]
    },
    {
      "cell_type": "code",
      "execution_count": null,
      "metadata": {
        "colab": {
          "base_uri": "https://localhost:8080/"
        },
        "id": "jfLO7kCWMWDg",
        "outputId": "abef6232-32aa-45aa-a7df-20c315c7bf23"
      },
      "outputs": [
        {
          "name": "stdout",
          "output_type": "stream",
          "text": [
            "2\n",
            "3\n",
            "5\n",
            "6\n",
            "7\n",
            "8\n",
            "9\n",
            "10\n",
            "11\n"
          ]
        }
      ],
      "source": [
        "# 38. Use continue statement in while loops\n",
        "\n",
        "i=1\n",
        "while i<=10:\n",
        "  i+=1\n",
        "  if i==4:\n",
        "   continue\n",
        "  print(i)\n"
      ]
    },
    {
      "cell_type": "code",
      "execution_count": null,
      "metadata": {
        "colab": {
          "base_uri": "https://localhost:8080/"
        },
        "id": "nXBm1oQGMWGD",
        "outputId": "4be08777-e93b-4b62-a353-4689e00bde6a"
      },
      "outputs": [
        {
          "name": "stdout",
          "output_type": "stream",
          "text": [
            "1\n",
            "2\n",
            "3\n",
            "4\n",
            "5\n",
            "6\n",
            "7\n"
          ]
        }
      ],
      "source": [
        "# 39. Use break statement in while loops\n",
        "\n",
        "i=1\n",
        "while i<=10:\n",
        "  if i==8:\n",
        "    break\n",
        "  print(i)\n",
        "  i+=1"
      ]
    },
    {
      "cell_type": "code",
      "execution_count": null,
      "metadata": {
        "colab": {
          "base_uri": "https://localhost:8080/"
        },
        "id": "68Cqb8ttMWIy",
        "outputId": "4db580d3-4417-4b89-adc5-b229624574b7"
      },
      "outputs": [
        {
          "name": "stdout",
          "output_type": "stream",
          "text": [
            "apple\n",
            "tomato\n",
            "10.5\n",
            "20\n",
            "['grapes', 'kiwi', 'tomato', 'mango', 'orange', 'banana', True]\n",
            "['cherry', 'grapes', 'kiwi', 'tomato', 'mango', 'orange', 'banana', True, False]\n",
            "['apple', True]\n",
            "['kiwi', 'tomato', 'mango', 'orange', 'banana', True, False, 10, 20, 10.5]\n",
            "['cherry', 'kiwi', 'mango', 'banana']\n",
            "['banana', 'kiwi', 'orange', False]\n",
            "['apple', 'grapes', 'mango', True, 20]\n",
            "[10.5, 10, True, 'orange', 'tomato', 'grapes', 'banana']\n",
            "[10.5, 20, 10, False, True, 'banana', 'orange', 'mango', 'tomato', 'kiwi', 'grapes', 'cherry', 'banana', 'apple']\n"
          ]
        }
      ],
      "source": [
        "# 40.  create a list with\n",
        "\n",
        "X=['apple','banana','cherry','grapes','kiwi','tomato','mango','orange','banana',True ,False,10,20,10.5]\n",
        "\n",
        "print(X[0])\n",
        "print(X[5])\n",
        "print(X[-1])\n",
        "print(X[-2])\n",
        "print(X[3:10])\n",
        "print(X[2:11])\n",
        "print(X[::9])\n",
        "print(X[4::])\n",
        "print(X[2:10:2])\n",
        "print(X[1:11:3])\n",
        "print(X[::3])\n",
        "print(X[::-2])\n",
        "print(X[::-1])\n",
        "\n"
      ]
    },
    {
      "cell_type": "code",
      "execution_count": null,
      "metadata": {
        "colab": {
          "base_uri": "https://localhost:8080/"
        },
        "id": "AM3E3xWQMWLf",
        "outputId": "dca464f0-f806-46a5-db1d-4d7ab4e283cf"
      },
      "outputs": [
        {
          "name": "stdout",
          "output_type": "stream",
          "text": [
            "Enter the elements :11, 12, 13, 1, 2\n",
            "First item in the list: 11,\n",
            "Length of the list: 5\n"
          ]
        }
      ],
      "source": [
        "# 41.  write a python program to create a new list\n",
        "# 42. write a program to retrieve the first item from a list\n",
        "# 43. write a program to determine the length of a list\n",
        "\n",
        "\n",
        "\n",
        "my_list=input(\"Enter the elements :\").split()\n",
        "\n",
        "\n",
        "first_item=my_list[0]\n",
        "print(\"First item in the list:\", first_item)\n",
        "\n",
        "new_list=len(my_list)\n",
        "print(\"Length of the list:\", new_list)\n",
        "\n"
      ]
    },
    {
      "cell_type": "code",
      "execution_count": null,
      "metadata": {
        "colab": {
          "base_uri": "https://localhost:8080/"
        },
        "id": "ygKhLRaKMWNr",
        "outputId": "f7c10982-e50d-4728-b64c-2f36f38d7a3b"
      },
      "outputs": [
        {
          "name": "stdout",
          "output_type": "stream",
          "text": [
            "new_list: [0, 2, 3, 4, 5]\n"
          ]
        }
      ],
      "source": [
        "# 44. write a python program to change the first item in a list\n",
        "\n",
        "\n",
        "my_list=[1,2,3,4,5]\n",
        "my_list[0]=0\n",
        "print(\"new_list:\", my_list)\n",
        "\n",
        "\n"
      ]
    },
    {
      "cell_type": "code",
      "execution_count": null,
      "metadata": {
        "colab": {
          "base_uri": "https://localhost:8080/"
        },
        "id": "RlPmHnK6MWQw",
        "outputId": "8db0a0d0-4d24-4880-fce7-7da86c25260f"
      },
      "outputs": [
        {
          "name": "stdout",
          "output_type": "stream",
          "text": [
            "[1, 2, 3, 4]\n",
            "new list [1, 2, 3, 4, 5]\n"
          ]
        }
      ],
      "source": [
        "# 45. write a python program using negative indexing\n",
        "# 46. write a program to add a new item to the end of a list\n",
        "\n",
        "my_list=[1,2,3,4]\n",
        "print(my_list)\n",
        "my_list.append(5)\n",
        "\n",
        "print(\"new list\",my_list)\n"
      ]
    },
    {
      "cell_type": "code",
      "execution_count": null,
      "metadata": {
        "colab": {
          "base_uri": "https://localhost:8080/"
        },
        "id": "kV_pG58lMWTe",
        "outputId": "4c354ce3-0feb-4ef5-e7be-aa2778bf9755"
      },
      "outputs": [
        {
          "name": "stdout",
          "output_type": "stream",
          "text": [
            "Enter the elements :1, 2, 3, 4\n",
            "Reversed list ['4', '3,', '2,', '1,']\n"
          ]
        }
      ],
      "source": [
        "# 47. create a list and display the list in reverse order\n",
        "\n",
        "my_list=input(\"Enter the elements :\").split()\n",
        "\n",
        "reversed_list=my_list[::-1]\n",
        "print(\"Reversed list\", reversed_list)\n"
      ]
    },
    {
      "cell_type": "code",
      "execution_count": null,
      "metadata": {
        "colab": {
          "base_uri": "https://localhost:8080/"
        },
        "id": "g_Y_C63JMWV9",
        "outputId": "eb73d7d2-4f90-4d4b-fc54-fa33575ce6ca"
      },
      "outputs": [
        {
          "name": "stdout",
          "output_type": "stream",
          "text": [
            "Enter the elements :1, 2, 3, 4\n",
            "Maximum Value: 4\n"
          ]
        }
      ],
      "source": [
        "# 48. write a program to find the maximum value in a list\n",
        "\n",
        "my_list=input(\"Enter the elements :\").split()\n",
        "\n",
        "max_value=max(my_list)\n",
        "print(\"Maximum Value:\", max_value)"
      ]
    },
    {
      "cell_type": "code",
      "execution_count": null,
      "metadata": {
        "colab": {
          "base_uri": "https://localhost:8080/"
        },
        "id": "gj4wtzO0MWYV",
        "outputId": "ff7f9cdc-401e-41da-d02d-c22685136285"
      },
      "outputs": [
        {
          "name": "stdout",
          "output_type": "stream",
          "text": [
            "Enter the elements :1, 2, 3, 4, 5\n",
            "Enter the element to find: 5\n",
            "The index of element in the list: 4\n"
          ]
        }
      ],
      "source": [
        "# 49. write a program to display the index of an element in a list\n",
        "\n",
        "my_list=input(\"Enter the elements :\").split()\n",
        "element_in_list=input(\"Enter the element to find: \")\n",
        "index=my_list.index(element_in_list)\n",
        "\n",
        "if element_in_list in my_list:\n",
        "  print(\"The index of element in the list:\", index)\n",
        "else:\n",
        "  print(\"element is not in the list\")\n",
        "\n",
        "\n"
      ]
    },
    {
      "cell_type": "code",
      "execution_count": null,
      "metadata": {
        "colab": {
          "base_uri": "https://localhost:8080/"
        },
        "id": "Tz22sOMgMWbK",
        "outputId": "139470fe-3372-41c9-ac04-ec7a17495c96"
      },
      "outputs": [
        {
          "name": "stdout",
          "output_type": "stream",
          "text": [
            "Enter the elements :11 2 4 11\n",
            "Enter the element to count: 11\n",
            "The  element occurs  in the list: 2\n"
          ]
        }
      ],
      "source": [
        "#  50. write a program to count the occurrence of an Element in a list\n",
        "\n",
        "my_list=input(\"Enter the elements :\").split()\n",
        "element_in_list=input(\"Enter the element to count: \")\n",
        "occurence=my_list.count(element_in_list)\n",
        "\n",
        "print(\"The  element occurs  in the list:\", occurence)\n"
      ]
    },
    {
      "cell_type": "code",
      "execution_count": null,
      "metadata": {
        "colab": {
          "base_uri": "https://localhost:8080/"
        },
        "id": "TMzrhblTMWd5",
        "outputId": "b0ec44a7-c5df-4f1c-c6be-cc07e0e6293e"
      },
      "outputs": [
        {
          "name": "stdout",
          "output_type": "stream",
          "text": [
            "Fruits with 'a': ['apple', 'orange', 'avocado', 'banana']\n"
          ]
        }
      ],
      "source": [
        "# 51.  Based on a list of fruits, create a new list, containing only the fruits with the letter \"a\" in the name.\n",
        "\n",
        "fruits=[\"apple\", \"orange\", \"avocado\", \"banana\",\"cherri\"]\n",
        "new_list_of_fruit=[]\n",
        "\n",
        "for i in fruits:\n",
        "  if \"a\" in i:\n",
        "    new_list_of_fruit.append(i)\n",
        "print(\"Fruits with 'a':\", new_list_of_fruit)"
      ]
    },
    {
      "cell_type": "code",
      "execution_count": null,
      "metadata": {
        "colab": {
          "base_uri": "https://localhost:8080/"
        },
        "id": "174Yvro1MWgY",
        "outputId": "37523e61-9779-4c26-d7c4-f39dc17cf692"
      },
      "outputs": [
        {
          "name": "stdout",
          "output_type": "stream",
          "text": [
            "['apple', 'banana', 'cherry', 'mango']\n"
          ]
        }
      ],
      "source": [
        "# 52.fruits = [\"apple\", \"banana\", \"cherry\", \"kiwi\", \"mango\"]\n",
        "#Based on a list of fruits, create a new list, Only accept items that are not \"kiwi\"\n",
        "\n",
        "\n",
        "fruits = [\"apple\", \"banana\", \"cherry\", \"kiwi\", +\"mango\"]\n",
        "new_list_of_fruits=[]\n",
        "\n",
        "for i in fruits:\n",
        "  if \"kiwi\" not in i:\n",
        "    new_list_of_fruits.append(i)\n",
        "print(new_list_of_fruits)\n"
      ]
    },
    {
      "cell_type": "code",
      "execution_count": null,
      "metadata": {
        "colab": {
          "base_uri": "https://localhost:8080/"
        },
        "id": "_9fELa43MWh-",
        "outputId": "c4aa035a-037d-429d-85ee-9f1e4fab22b9"
      },
      "outputs": [
        {
          "name": "stdout",
          "output_type": "stream",
          "text": [
            "['APPLE', 'BANANA', 'CHERRY', 'KIWI', 'MANGO']\n"
          ]
        }
      ],
      "source": [
        "# 53. Based on a list of fruits, create a new list, Set the values in the new list to upper case\n",
        "\n",
        "fruits = [\"apple\", \"banana\", \"cherry\", \"kiwi\", \"mango\"]\n",
        "\n",
        "new_str=str(fruits)\n",
        "new_str.upper()\n",
        "print(new_str.upper())\n",
        "\n"
      ]
    },
    {
      "cell_type": "code",
      "execution_count": null,
      "metadata": {
        "colab": {
          "base_uri": "https://localhost:8080/"
        },
        "id": "9SOrHDliMWlB",
        "outputId": "7cbbf15c-b1f8-4312-920c-c53742657e13"
      },
      "outputs": [
        {
          "name": "stdout",
          "output_type": "stream",
          "text": [
            "Iterating the list:\n",
            "1\n",
            "2\n",
            "3\n",
            "4\n",
            "5\n"
          ]
        }
      ],
      "source": [
        "# 54.create a list and iterate over the list\n",
        "\n",
        "numbers=[1, 2, 3, 4, 5]\n",
        "\n",
        "print(\"Iterating the list:\")\n",
        "for number in numbers:\n",
        "    print(number)"
      ]
    },
    {
      "cell_type": "code",
      "execution_count": null,
      "metadata": {
        "colab": {
          "base_uri": "https://localhost:8080/"
        },
        "id": "ondMQIrTMWn5",
        "outputId": "c39152a2-004f-4e9f-e92c-57a0dcfbfb52"
      },
      "outputs": [
        {
          "name": "stdout",
          "output_type": "stream",
          "text": [
            "[1, 2, 3, 4, 5]\n",
            "Enter a number to search:5\n",
            "search_number: 5\n"
          ]
        }
      ],
      "source": [
        "# 55.write a program using for loop with a break statement\n",
        "\n",
        "numbers=[1, 2, 3, 4, 5]\n",
        "print(numbers)\n",
        "search_number=int(input(\"Enter a number to search:\"))\n",
        "\n",
        "for number in numbers:\n",
        "  if number==search_number:\n",
        "        print(\"search_number:\", search_number)\n",
        "        break\n",
        "else:\n",
        "  print(\"search_number not found in the list\")\n"
      ]
    },
    {
      "cell_type": "code",
      "execution_count": null,
      "metadata": {
        "colab": {
          "base_uri": "https://localhost:8080/"
        },
        "id": "h3TM7qRSMWqQ",
        "outputId": "e96bb9ee-bad8-48f0-a04f-275f4af2718f"
      },
      "outputs": [
        {
          "name": "stdout",
          "output_type": "stream",
          "text": [
            "1\n",
            "2\n",
            "4\n",
            "5\n",
            "7\n",
            "8\n",
            "10\n"
          ]
        }
      ],
      "source": [
        "#56.write a program using for loop with a continue statement\n",
        "\n",
        "for i in range(1, 11):\n",
        "    if i%3==0:\n",
        "        continue\n",
        "    print(i)"
      ]
    },
    {
      "cell_type": "code",
      "execution_count": null,
      "metadata": {
        "colab": {
          "base_uri": "https://localhost:8080/"
        },
        "id": "zyTOrREMMWto",
        "outputId": "54b4ecbe-8340-43fa-bcfb-48e3f7e3c82e"
      },
      "outputs": [
        {
          "name": "stdout",
          "output_type": "stream",
          "text": [
            "1\n",
            "3\n",
            "5\n",
            "7\n",
            "9\n",
            "11\n",
            "13\n",
            "15\n",
            "17\n",
            "19\n"
          ]
        }
      ],
      "source": [
        "#57. write a program using range function with starting parameter and increment parameter\n",
        "\n",
        "start_value=1\n",
        "inc_value=2\n",
        "\n",
        "for i in range(start_value, 20, inc_value):\n",
        "    print(i)"
      ]
    },
    {
      "cell_type": "code",
      "execution_count": null,
      "metadata": {
        "colab": {
          "base_uri": "https://localhost:8080/"
        },
        "id": "Oes74alWMWwW",
        "outputId": "14dddb71-327d-471d-cf7f-ac8cc3bff070"
      },
      "outputs": [
        {
          "name": "stdout",
          "output_type": "stream",
          "text": [
            "Tuple: ('A', 'N', 'J', 'A', 'N', 'A', 22, 2001)\n",
            "Length of tuple: 8\n",
            "Type of tuple: <class 'tuple'>\n"
          ]
        }
      ],
      "source": [
        "#58. write a program to create a tuple\n",
        "#59. write a program to get the length of a tuple\n",
        "#60. write a program to return the data type of a tuple\n",
        "\n",
        "\n",
        "my_tuple=('A','N', 'J','A', 'N', 'A', 22,2001)\n",
        "print(\"Tuple:\",my_tuple)\n",
        "len_tuple = len(my_tuple)\n",
        "print(\"Length of tuple:\",len_tuple)\n",
        "type_tuple=type(my_tuple)\n",
        "print(\"Type of tuple:\",type_tuple)\n",
        "\n"
      ]
    },
    {
      "cell_type": "code",
      "execution_count": null,
      "metadata": {
        "colab": {
          "base_uri": "https://localhost:8080/"
        },
        "id": "tHmnGszUMWy4",
        "outputId": "371cc3ad-22ab-4717-a9d5-72bc90d35d21"
      },
      "outputs": [
        {
          "name": "stdout",
          "output_type": "stream",
          "text": [
            "('kiwi', 'orange', 'grapes', 'apple')\n",
            "new fruit tuple is: ('melon', 'kiwi', 'orange', 'grapes', 'apple')\n",
            "('kiwi', 'orange', 'grapes', 'apple', 'melon')\n",
            "()\n",
            "()\n",
            "()\n"
          ]
        }
      ],
      "source": [
        "# 61. create a tuple with items kiwi, orange, grapes, apple,  then add a new item (melon) to the first index\n",
        "#62. write a program to append an item to the tuple\n",
        "\n",
        "fruits_tuple=('kiwi', 'orange', 'grapes', 'apple')\n",
        "print(fruits_tuple)\n",
        "\n",
        "fruits_list=list(fruits_tuple)\n",
        "fruits_list.insert(0, 'melon')\n",
        "new_fruits_tuple = tuple(fruits_list)\n",
        "print(\"new fruit tuple is:\", new_fruits_tuple)\n",
        "\n",
        "new_fruits_tuple=fruits_tuple + ('melon',)\n",
        "print(new_fruits_tuple)\n",
        "\n",
        "\n",
        "\n",
        "\n"
      ]
    },
    {
      "cell_type": "code",
      "execution_count": null,
      "metadata": {
        "id": "MIM-5UTsMW1d"
      },
      "outputs": [],
      "source": [
        "#63. write a  program to remove an item from a tuple\n",
        "\n",
        "fruits_tuple=('kiwi', 'orange', 'grapes', 'apple')\n",
        "print(fruits_tuple)\n",
        "\n",
        "to_remove='kiwi'\n",
        "new_fruits_tuple=()\n",
        "for i in fruits_tuple:\n",
        "  if i not in to_remove:\n",
        "   print(new_fruits_tuple)"
      ]
    },
    {
      "cell_type": "code",
      "execution_count": null,
      "metadata": {
        "colab": {
          "base_uri": "https://localhost:8080/"
        },
        "id": "0gNVV0jdMW4L",
        "outputId": "b78445a8-de74-43a8-9c89-144693931ad5"
      },
      "outputs": [
        {
          "name": "stdout",
          "output_type": "stream",
          "text": [
            "Concatenated Tuple is : (1, 2, 3, 'a', 'b', 'c')\n"
          ]
        }
      ],
      "source": [
        "#64. write a program to concatenate two tuples\n",
        "\n",
        "tuple_1=(1,2,3)\n",
        "tuple_2=('a','b','c')\n",
        "\n",
        "concatenated_tuple=tuple_1 + tuple_2\n",
        "\n",
        "print(\"Concatenated Tuple is :\",concatenated_tuple)"
      ]
    },
    {
      "cell_type": "code",
      "execution_count": null,
      "metadata": {
        "colab": {
          "base_uri": "https://localhost:8080/"
        },
        "id": "0iCG0jw-MW6V",
        "outputId": "ac6857da-a2a5-4177-d40e-7c6d8040e436"
      },
      "outputs": [
        {
          "name": "stdout",
          "output_type": "stream",
          "text": [
            "(10, 20, 30)\n",
            "Variable 1: 10\n",
            "Variable 2: 20\n",
            "Variable 3: 30\n"
          ]
        }
      ],
      "source": [
        "#65.write a program to extract the values from a tuple into variables\n",
        "\n",
        "my_tuple=(10,20,30)\n",
        "print(my_tuple)\n",
        "\n",
        "var1, var2, var3=my_tuple\n",
        "\n",
        "print(\"Variable 1:\", var1)\n",
        "print(\"Variable 2:\", var2)\n",
        "print(\"Variable 3:\", var3)"
      ]
    },
    {
      "cell_type": "code",
      "execution_count": null,
      "metadata": {
        "id": "YfAygCv1MW8g"
      },
      "outputs": [],
      "source": [
        "#66.  extract values from tuple using Asterix"
      ]
    },
    {
      "cell_type": "code",
      "execution_count": null,
      "metadata": {
        "colab": {
          "base_uri": "https://localhost:8080/"
        },
        "id": "T9UAvnNpMW_O",
        "outputId": "c12372cc-2923-4107-ed0d-42be51dfdea9"
      },
      "outputs": [
        {
          "name": "stdout",
          "output_type": "stream",
          "text": [
            "The item  occurs: 4\n"
          ]
        }
      ],
      "source": [
        "#67. count the number of occurrences of an item in a tuple\n",
        "\n",
        "\n",
        "my_tuple=(1, 2, 3, 4, 2, 2, 5, 6, 2)\n",
        "\n",
        "item_to_count=2\n",
        "occurrences=my_tuple.count(item_to_count)\n",
        "print(\"The item  occurs:\", occurrences)\n"
      ]
    },
    {
      "cell_type": "code",
      "execution_count": null,
      "metadata": {
        "id": "k_Q6bCeXMXBu"
      },
      "outputs": [],
      "source": [
        "#68. remove items from a tuple by using merge with +Character\n",
        "\n",
        "my_tuple=(1, 2, 3, 4, 2, 2, 5, 6, 2)"
      ]
    },
    {
      "cell_type": "code",
      "execution_count": null,
      "metadata": {
        "colab": {
          "base_uri": "https://localhost:8080/"
        },
        "id": "wtLDYpFOMXD4",
        "outputId": "0e26b337-d748-4056-8828-e0ab4e290fb6"
      },
      "outputs": [
        {
          "name": "stdout",
          "output_type": "stream",
          "text": [
            "(2, 4)\n"
          ]
        }
      ],
      "source": [
        "#69. slice a tuple using start-stop, step parameter\n",
        "\n",
        "my_tuple=(1, 2, 3, 4, 2, 2, 5, 6, 2)\n",
        "start_index=1\n",
        "stop_index=5\n",
        "step=2\n",
        "\n",
        "slice_tuple=my_tuple[start_index:stop_index:step]\n",
        "print(slice_tuple)"
      ]
    },
    {
      "cell_type": "code",
      "execution_count": null,
      "metadata": {
        "colab": {
          "base_uri": "https://localhost:8080/"
        },
        "id": "t4lq8VHqMXGX",
        "outputId": "b069651c-f135-4fdf-e602-4b03be57ab44"
      },
      "outputs": [
        {
          "name": "stdout",
          "output_type": "stream",
          "text": [
            "Sliced Tuple : (10, 9, 8, 7, 6, 5, 4, 3, 2, 1)\n"
          ]
        }
      ],
      "source": [
        "#70. slice a tuple with step parameter is negative\n",
        "\n",
        "\n",
        "my_tuple=(1, 2, 3, 4, 5, 6, 7, 8, 9, 10)\n",
        "\n",
        "slice_tuple=my_tuple[::-1]\n",
        "print(\"Sliced Tuple :\", slice_tuple)"
      ]
    },
    {
      "cell_type": "code",
      "execution_count": null,
      "metadata": {
        "id": "8vlC0hlFMXJu"
      },
      "outputs": [],
      "source": [
        "#71. returns a tuple with a jump every 3 times\n",
        "\n",
        "my_tuple=(1, 2, 3, 4, 5, 6, 7, 8, 9, 10)\n",
        "\n",
        "\n"
      ]
    },
    {
      "cell_type": "code",
      "execution_count": null,
      "metadata": {
        "colab": {
          "base_uri": "https://localhost:8080/"
        },
        "id": "vqc51iZkgtAg",
        "outputId": "9489cd1f-6091-4553-c965-5a2833628ddc"
      },
      "outputs": [
        {
          "name": "stdout",
          "output_type": "stream",
          "text": [
            "The maximum value in the tuple: 10\n",
            "The minimum value in the tuple: 1\n",
            "The sum of items in the tuple: 55\n"
          ]
        }
      ],
      "source": [
        "# 72. find the maximum value in a tuple\n",
        "# 73. Find min value in a tuple\n",
        "# 74. find the sum of items in a tuple\n",
        "\n",
        "\n",
        "my_tuple=(1, 2, 3, 4, 5, 6, 7, 8, 9, 10)\n",
        "max_value=max(my_tuple)\n",
        "print(\"The maximum value in the tuple:\", max_value)\n",
        "\n",
        "min_value=min(my_tuple)\n",
        "print(\"The minimum value in the tuple:\", min_value)\n",
        "\n",
        "sum_of_items=sum(my_tuple)\n",
        "print(\"The sum of items in the tuple:\",sum_of_items)\n"
      ]
    },
    {
      "cell_type": "code",
      "execution_count": null,
      "metadata": {
        "colab": {
          "base_uri": "https://localhost:8080/",
          "height": 227
        },
        "id": "MJF-uiZPiYjU",
        "outputId": "966ac56c-9b65-40b1-c2db-1e10b8cda980"
      },
      "outputs": [
        {
          "ename": "AttributeError",
          "evalue": "ignored",
          "output_type": "error",
          "traceback": [
            "\u001b[0;31m---------------------------------------------------------------------------\u001b[0m",
            "\u001b[0;31mAttributeError\u001b[0m                            Traceback (most recent call last)",
            "\u001b[0;32m<ipython-input-4-5f19e0023a78>\u001b[0m in \u001b[0;36m<cell line: 5>\u001b[0;34m()\u001b[0m\n\u001b[1;32m      3\u001b[0m \u001b[0;34m\u001b[0m\u001b[0m\n\u001b[1;32m      4\u001b[0m \u001b[0mmy_set\u001b[0m\u001b[0;34m=\u001b[0m\u001b[0;34m{\u001b[0m\u001b[0;36m10\u001b[0m\u001b[0;34m,\u001b[0m \u001b[0;36m5\u001b[0m\u001b[0;34m,\u001b[0m \u001b[0;36m8\u001b[0m\u001b[0;34m,\u001b[0m \u001b[0;36m15\u001b[0m\u001b[0;34m,\u001b[0m \u001b[0;36m2\u001b[0m\u001b[0;34m,\u001b[0m \u001b[0;36m20\u001b[0m\u001b[0;34m}\u001b[0m\u001b[0;34m\u001b[0m\u001b[0;34m\u001b[0m\u001b[0m\n\u001b[0;32m----> 5\u001b[0;31m \u001b[0mitem\u001b[0m \u001b[0;34m=\u001b[0m \u001b[0mmy_set\u001b[0m\u001b[0;34m.\u001b[0m\u001b[0mindex\u001b[0m\u001b[0;34m[\u001b[0m\u001b[0;36m8\u001b[0m\u001b[0;34m]\u001b[0m\u001b[0;34m\u001b[0m\u001b[0;34m\u001b[0m\u001b[0m\n\u001b[0m\u001b[1;32m      6\u001b[0m \u001b[0mprint\u001b[0m\u001b[0;34m(\u001b[0m\u001b[0mitem\u001b[0m\u001b[0;34m)\u001b[0m\u001b[0;34m\u001b[0m\u001b[0;34m\u001b[0m\u001b[0m\n",
            "\u001b[0;31mAttributeError\u001b[0m: 'set' object has no attribute 'index'"
          ]
        }
      ],
      "source": [
        "# 75. write a program to find the index of an item\n",
        "\n",
        "\n",
        "my_tuple = ('orange','apple','grape')\n",
        "item_to_find = input(\"Enter the item: \")\n",
        "\n",
        "if item_to_find in my_tuple:\n",
        "  index = my_tuple.index(item_to_find)\n",
        "  print(f\"The idex of {item_to_find} is {index}\")\n"
      ]
    },
    {
      "cell_type": "code",
      "execution_count": null,
      "metadata": {
        "colab": {
          "base_uri": "https://localhost:8080/"
        },
        "id": "vY0tMEyUkBDM",
        "outputId": "f04661ce-3ee1-4669-d0ac-4304738d05c3"
      },
      "outputs": [
        {
          "name": "stdout",
          "output_type": "stream",
          "text": [
            "The length of the set: 6\n"
          ]
        }
      ],
      "source": [
        "# 76. write a program to find the length of a set\n",
        "\n",
        "my_set={10, 5, 8, 15, 2, 20}\n",
        "length=len(my_set)\n",
        "\n",
        "print(\"The length of the set:\",length)"
      ]
    },
    {
      "cell_type": "code",
      "execution_count": null,
      "metadata": {
        "colab": {
          "base_uri": "https://localhost:8080/"
        },
        "id": "3nPwjq5tklpy",
        "outputId": "31693457-149d-4cfd-f304-4e8c128ff395"
      },
      "outputs": [
        {
          "name": "stdout",
          "output_type": "stream",
          "text": [
            "Set created: {1, 2, 3, 4, 5}\n",
            "Set after removing 3 : {1, 2, 4, 5}\n"
          ]
        }
      ],
      "source": [
        "# 77. write a program to create a set\n",
        "# 78. write a program to remove an item from the set using the remove method\n",
        "\n",
        "my_set={1, 2, 3, 4, 5}\n",
        "print(\"Set created:\", my_set)\n",
        "\n",
        "to_remove=3\n",
        "my_set.remove(to_remove)\n",
        "print(\"Set after removing\",to_remove,\":\", my_set)\n",
        "\n",
        "\n",
        "\n"
      ]
    },
    {
      "cell_type": "code",
      "execution_count": null,
      "metadata": {
        "colab": {
          "base_uri": "https://localhost:8080/"
        },
        "id": "XS3jAx5Rkltz",
        "outputId": "143ee9f4-2dc0-4df9-895c-c7a2bdce9af1"
      },
      "outputs": [
        {
          "name": "stdout",
          "output_type": "stream",
          "text": [
            "Updated set1: {1, 2, 3, 4, 5}\n"
          ]
        }
      ],
      "source": [
        "# 79. write a program to add items from one set to another\n",
        "\n",
        "\n",
        "set1={1, 2, 3}\n",
        "set2={3, 4, 5}\n",
        "\n",
        "set1.update(set2)\n",
        "print(\"Updated set1:\", set1)\n"
      ]
    },
    {
      "cell_type": "code",
      "execution_count": null,
      "metadata": {
        "colab": {
          "base_uri": "https://localhost:8080/"
        },
        "id": "fWABMaHLklxT",
        "outputId": "a19c90c6-fa71-4960-eef4-6317124d88ec"
      },
      "outputs": [
        {
          "name": "stdout",
          "output_type": "stream",
          "text": [
            "Joined set: {1, 2, 3, 4, 5}\n"
          ]
        }
      ],
      "source": [
        "#80. write a program to join two sets\n",
        "\n",
        "set1={1, 2, 3}\n",
        "set2={3, 4, 5}\n",
        "join_set=set1.union(set2)\n",
        "print(\"Joined set:\",join_set)"
      ]
    },
    {
      "cell_type": "code",
      "execution_count": null,
      "metadata": {
        "colab": {
          "base_uri": "https://localhost:8080/"
        },
        "id": "NRP_hYoekl0r",
        "outputId": "c36472bf-b9ee-4dd0-c519-7fb005a9c0b9"
      },
      "outputs": [
        {
          "name": "stdout",
          "output_type": "stream",
          "text": [
            "Set after removing {1, 2, 4, 5}\n"
          ]
        }
      ],
      "source": [
        "# 81 write a program to remove an item from the set using the discard method\n",
        "\n",
        "my_set={1, 2, 3, 4, 5}\n",
        "to_remove=3\n",
        "my_set.discard(to_remove)\n",
        "print(\"Set after removing\",my_set)"
      ]
    },
    {
      "cell_type": "code",
      "execution_count": null,
      "metadata": {
        "colab": {
          "base_uri": "https://localhost:8080/"
        },
        "id": "mmX8ciNhnKya",
        "outputId": "a75f62bb-3dab-4850-f26e-ef65be031c43"
      },
      "outputs": [
        {
          "name": "stdout",
          "output_type": "stream",
          "text": [
            "old set: {1, 2, 3, 4, 5}\n"
          ]
        }
      ],
      "source": [
        "#82. write a program to add an item to a set\n",
        "\n",
        "my_set={1, 2, 3, 4}\n",
        "new_item=5\n",
        "my_set.add(new_item)\n",
        "print(\"old set:\",my_set)"
      ]
    },
    {
      "cell_type": "code",
      "execution_count": null,
      "metadata": {
        "id": "q1EHtoYCn1Em"
      },
      "outputs": [],
      "source": [
        "# 83. write a program using the symmetric difference method\n"
      ]
    },
    {
      "cell_type": "code",
      "execution_count": null,
      "metadata": {
        "colab": {
          "base_uri": "https://localhost:8080/"
        },
        "id": "WUtd8JHRn03q",
        "outputId": "13e5dcbd-7cc4-42b3-da66-a2c0941b8282"
      },
      "outputs": [
        {
          "name": "stdout",
          "output_type": "stream",
          "text": [
            "{4, 5}\n"
          ]
        }
      ],
      "source": [
        "# 84. write a program using the intersection update method\n",
        "\n",
        "set1={1, 2, 3, 4, 5}\n",
        "set2={4, 5, 6, 7, 8}\n",
        "set1.intersection_update(set2)\n",
        "print(set1)"
      ]
    },
    {
      "cell_type": "code",
      "execution_count": null,
      "metadata": {
        "colab": {
          "base_uri": "https://localhost:8080/"
        },
        "id": "Kf270dHon0rl",
        "outputId": "4d54e7f2-e79f-4c70-9d5d-187e99207966"
      },
      "outputs": [
        {
          "name": "stdout",
          "output_type": "stream",
          "text": [
            "Original Dictionary: {'name': 'John', 'age': 25, 'city': 'New York'}\n",
            "{'name': 'John', 'age': 25, 'city': 'New York', 'occupation': 'Enginner'}\n"
          ]
        }
      ],
      "source": [
        "#85. Write a Python script to add a key to a dictionary\n",
        "\n",
        "my_dict={'name': 'John', 'age': 25, 'city': 'New York'}\n",
        "print(\"Original Dictionary:\", my_dict)\n",
        "\n",
        "my_dict['occupation']='Enginner'\n",
        "print(my_dict)"
      ]
    },
    {
      "cell_type": "code",
      "execution_count": null,
      "metadata": {
        "colab": {
          "base_uri": "https://localhost:8080/"
        },
        "id": "GpnctqJ6n0YP",
        "outputId": "7db2791c-fd83-487e-c323-4e682b7a9110"
      },
      "outputs": [
        {
          "name": "stdout",
          "output_type": "stream",
          "text": [
            "The key exists in the dictionary\n"
          ]
        }
      ],
      "source": [
        "# 86. Write a Python script to check whether a given key already exists in a dictionary.\n",
        "\n",
        "my_dict={'name': 'John', 'age': 25, 'city': 'New York'}\n",
        "key='age'\n",
        "if key in my_dict:\n",
        "  print(\"The key exists in the dictionary\")\n",
        "else:\n",
        "  print(\"The key do not exists in the dictionary\")\n"
      ]
    },
    {
      "cell_type": "code",
      "execution_count": null,
      "metadata": {
        "colab": {
          "base_uri": "https://localhost:8080/"
        },
        "id": "iFJQdOCg-crW",
        "outputId": "91d61cbd-7928-4de7-b995-3f34db4b4f9e"
      },
      "outputs": [
        {
          "name": "stdout",
          "output_type": "stream",
          "text": [
            "{1: 1, 2: 4, 3: 9, 4: 16}\n",
            "16\n",
            "{1: 10, 2: 4, 3: 9, 4: 16}\n"
          ]
        }
      ],
      "source": [
        "# Dictionairies\n",
        "mydict={1:1,2:4,3:9,4:16}\n",
        "print(mydict)\n",
        "print(mydict[4]) #accses\n",
        "mydict[1]=10 #update\n",
        "print(mydict)"
      ]
    },
    {
      "cell_type": "code",
      "execution_count": null,
      "metadata": {
        "colab": {
          "base_uri": "https://localhost:8080/"
        },
        "id": "MiuEWICkHHmW",
        "outputId": "522dc0d3-99cb-4b0d-8eab-4897d9bd75a4"
      },
      "outputs": [
        {
          "name": "stdout",
          "output_type": "stream",
          "text": [
            "john\n",
            "{'name': 'john', 'age': 31, 'city': 'new york'}\n",
            "{'name': 'john', 'age': 31, 'city': 'new york', 'occupation': 'Enginner'}\n",
            "{'name': 'john', 'age': 31, 'occupation': 'Enginner'}\n",
            "dict_keys(['name', 'age', 'occupation'])\n",
            "dict_values(['john', 31, 'Enginner'])\n",
            "dict_items([('name', 'john'), ('age', 31), ('occupation', 'Enginner')])\n",
            "31\n",
            "N/A\n",
            "31\n",
            "{'name': 'john', 'occupation': 'Enginner'}\n",
            "('occupation', 'Enginner')\n",
            "{'name': 'john'}\n",
            "{}\n",
            "{'country': 'USA', 'age': 30}\n"
          ]
        }
      ],
      "source": [
        "# creating a dictionary\n",
        "\n",
        "my_dict={'name': 'john' , 'age':30, 'city': 'new york' }\n",
        "\n",
        "#accesing value\n",
        "print(my_dict['name'])\n",
        "\n",
        "#updating value\n",
        "my_dict['age']=31\n",
        "print(my_dict)\n",
        "\n",
        "#adding a new key value pair\n",
        "my_dict['occupation']='Enginner'\n",
        "print(my_dict)\n",
        "\n",
        "#deleting a key value\n",
        "del my_dict['city']\n",
        "print(my_dict)\n",
        "\n",
        "#using key(), values(), items()\n",
        "key_list=my_dict.keys()\n",
        "value_list=my_dict.values()\n",
        "item_list=my_dict.items()\n",
        "\n",
        "print(key_list)\n",
        "print(value_list)\n",
        "print(item_list)\n",
        "\n",
        "#using get()\n",
        "value=my_dict.get('age', 'N/A')\n",
        "print(value)\n",
        "\n",
        "value=my_dict.get('salary','N/A')\n",
        "print(value)\n",
        "\n",
        "#using pop()\n",
        "removed_value=my_dict.pop('age')\n",
        "print(removed_value)\n",
        "print(my_dict)\n",
        "\n",
        "#using popitem()\n",
        "\n",
        "removed_item=my_dict.popitem()\n",
        "print(removed_item)\n",
        "print(my_dict)\n",
        "\n",
        "#using clear()\n",
        "my_dict.clear()\n",
        "print(my_dict)\n",
        "\n",
        "#using update()\n",
        "my_dict.update({'country':'USA', 'age':30})\n",
        "print(my_dict)"
      ]
    },
    {
      "cell_type": "code",
      "execution_count": null,
      "metadata": {
        "colab": {
          "base_uri": "https://localhost:8080/"
        },
        "id": "e6osiu9axWG7",
        "outputId": "1ce2adb5-8612-4869-fff6-f2914f2d69a0"
      },
      "outputs": [
        {
          "name": "stdout",
          "output_type": "stream",
          "text": [
            "original string ('hi', 'hello', 'python')\n",
            "Reversed list ('python', 'hello', 'hi')\n"
          ]
        }
      ],
      "source": [
        " #write apython program to reverse the string\n",
        "\n",
        "my_str=(\"hi\", \"hello\", \"python\")\n",
        "print(\"original string\",my_str)\n",
        "reversed=my_str[::-1]\n",
        "print(\"Reversed list\",reversed)"
      ]
    },
    {
      "cell_type": "code",
      "execution_count": null,
      "metadata": {
        "colab": {
          "base_uri": "https://localhost:8080/"
        },
        "id": "OwpjwM-jy11m",
        "outputId": "b04a9b64-3baf-4c12-928e-fcecbdfeff5b"
      },
      "outputs": [
        {
          "name": "stdout",
          "output_type": "stream",
          "text": [
            "enter the numbers:1 2 3 4\n",
            "The original list is ['1', '2', '3', '4']\n",
            "['3', '4', '2', '1']\n"
          ]
        }
      ],
      "source": [
        "# write a program to shuffle elements of list in randomly\n",
        "import random\n",
        "\n",
        "my_list = input(\"enter the numbers:\")\n",
        "new_list = my_list.split()\n",
        "print(f\"The original list is {new_list}\")\n",
        "random.shuffle(new_list)\n",
        "print(new_list)\n",
        "\n",
        "\n",
        "\n"
      ]
    },
    {
      "cell_type": "code",
      "execution_count": null,
      "metadata": {
        "colab": {
          "base_uri": "https://localhost:8080/"
        },
        "id": "xJTpGc6wzAcV",
        "outputId": "48cc6191-5f1b-4c22-b87a-ec3b9211874f"
      },
      "outputs": [
        {
          "name": "stdout",
          "output_type": "stream",
          "text": [
            "The key exists in the dictionary\n"
          ]
        }
      ],
      "source": [
        "#how do you check if a key exists in dictionary\n",
        "\n",
        "my_dict={'name': 'John', 'age': 25, 'city': 'New York'}\n",
        "key='age'\n",
        "if key in my_dict:\n",
        "  print(\"The key exists in the dictionary\")\n",
        "else:\n",
        "  print(\"The key do not exists in the dictionary\")"
      ]
    },
    {
      "cell_type": "code",
      "execution_count": null,
      "metadata": {
        "colab": {
          "base_uri": "https://localhost:8080/"
        },
        "id": "nYHSydZ8zI7e",
        "outputId": "1747fe3d-640e-4dbd-e8f3-971888d403e7"
      },
      "outputs": [
        {
          "name": "stdout",
          "output_type": "stream",
          "text": [
            "{'hello': 2, 'iam': 1, 'python': 1}\n",
            "Elements hello occurences 2 times\n",
            "Elements iam occurences 1 times\n",
            "Elements python occurences 1 times\n"
          ]
        }
      ],
      "source": [
        "#write a program to count the frequency of word in a text using dictionary\n",
        "text=(\"hello iam python hello\").split()\n",
        "word_frequency={}\n",
        "for word in text:\n",
        "  if word  in word_frequency:\n",
        "      word_frequency[word]+=1\n",
        "  else:\n",
        "    word_frequency[word]=1\n",
        "print(word_frequency)\n",
        "\n",
        "for key,value in word_frequency.items():\n",
        "  print(f\"Elements {key} occurences {value} times\")"
      ]
    },
    {
      "cell_type": "code",
      "execution_count": null,
      "metadata": {
        "colab": {
          "base_uri": "https://localhost:8080/"
        },
        "id": "5r6An44xVKIX",
        "outputId": "1b97882d-e767-49b1-f29f-c518becb3636"
      },
      "outputs": [
        {
          "output_type": "stream",
          "name": "stdout",
          "text": [
            "Enter the number: 5\n",
            "120\n"
          ]
        }
      ],
      "source": [
        "# FUNCTION\n",
        "\n",
        "Fact=int(input(\"Enter the number: \"))\n",
        "\n",
        "def factorial():\n",
        "  i=1\n",
        "  fact=1\n",
        "  while i<=Fact:\n",
        "    fact=fact*i\n",
        "    i+=1\n",
        "  print(fact)\n",
        "factorial()\n"
      ]
    },
    {
      "cell_type": "code",
      "execution_count": null,
      "metadata": {
        "colab": {
          "base_uri": "https://localhost:8080/"
        },
        "id": "dZE_-Jerj8iC",
        "outputId": "947ef5c1-bd78-4f9d-a032-4a68db678911"
      },
      "outputs": [
        {
          "name": "stdout",
          "output_type": "stream",
          "text": [
            "20\n"
          ]
        }
      ],
      "source": [
        "#LOCAL VARIABLE\n",
        "\n",
        "def add():\n",
        "  a=10\n",
        "  b=10\n",
        "  c=a+b\n",
        "  print(c)\n",
        "add()"
      ]
    },
    {
      "cell_type": "code",
      "execution_count": null,
      "metadata": {
        "colab": {
          "base_uri": "https://localhost:8080/"
        },
        "id": "ycIVOA0rkV9j",
        "outputId": "ffad6e6d-d85f-4fbf-e185-75a3e3841f80"
      },
      "outputs": [
        {
          "name": "stdout",
          "output_type": "stream",
          "text": [
            "20\n"
          ]
        }
      ],
      "source": [
        "# GLOBAL VARIABLE\n",
        "\n",
        "a=10\n",
        "b=10\n",
        "def add():\n",
        "  c=a+b\n",
        "  print(c)\n",
        "add()\n"
      ]
    },
    {
      "cell_type": "code",
      "execution_count": null,
      "metadata": {
        "colab": {
          "base_uri": "https://localhost:8080/"
        },
        "id": "2DyJRJW9lvEo",
        "outputId": "02b1b98b-60d9-44a2-cc33-f21991643ccd"
      },
      "outputs": [
        {
          "data": {
            "text/plain": [
              "30"
            ]
          },
          "execution_count": 2,
          "metadata": {},
          "output_type": "execute_result"
        }
      ],
      "source": [
        "# RETURN STATEMENT\n",
        "\n",
        "def add():\n",
        " a = 10\n",
        " b = 20\n",
        " c = a+b\n",
        " return(c)\n",
        "add()"
      ]
    },
    {
      "cell_type": "code",
      "execution_count": null,
      "metadata": {
        "colab": {
          "base_uri": "https://localhost:8080/"
        },
        "id": "156zXqoMW_Xm",
        "outputId": "57c92a2b-0bd6-4d8b-dc2f-d370e554ec4f"
      },
      "outputs": [
        {
          "data": {
            "text/plain": [
              "9"
            ]
          },
          "execution_count": 3,
          "metadata": {},
          "output_type": "execute_result"
        }
      ],
      "source": [
        "# PARAMETER PASSING 1. DEFAULT\n",
        "\n",
        "def sum(a,b):\n",
        "  c = a+b\n",
        "  return(c)\n",
        "sum(1,8)"
      ]
    },
    {
      "cell_type": "code",
      "execution_count": null,
      "metadata": {
        "colab": {
          "base_uri": "https://localhost:8080/"
        },
        "id": "s_LKzL2KaHL4",
        "outputId": "ae46a0f5-48ae-49b9-cd8f-797491917052"
      },
      "outputs": [
        {
          "data": {
            "text/plain": [
              "3"
            ]
          },
          "execution_count": 4,
          "metadata": {},
          "output_type": "execute_result"
        }
      ],
      "source": [
        "# 2. KEYWORD\n",
        "\n",
        "def sum(a = 1,b = 2):\n",
        "  c = a+b\n",
        "  return(c)\n",
        "sum()"
      ]
    },
    {
      "cell_type": "code",
      "execution_count": null,
      "metadata": {
        "colab": {
          "base_uri": "https://localhost:8080/"
        },
        "id": "wq3nlkSdaHXu",
        "outputId": "7f20fcb3-0466-42e3-f6d7-ad6aec317646"
      },
      "outputs": [
        {
          "data": {
            "text/plain": [
              "(1, 2, 3, 4)"
            ]
          },
          "execution_count": 7,
          "metadata": {},
          "output_type": "execute_result"
        }
      ],
      "source": [
        "# 3. ARBITRARY ARGUMENT\n",
        "\n",
        "def sum(*a):\n",
        "  return(a)\n",
        "sum(1,2,3,4)"
      ]
    },
    {
      "cell_type": "code",
      "execution_count": null,
      "metadata": {
        "colab": {
          "base_uri": "https://localhost:8080/"
        },
        "id": "z2FFuOWpnUJr",
        "outputId": "d0d2a9a9-507e-4e49-9b05-7ee1e65b6b26"
      },
      "outputs": [
        {
          "name": "stdout",
          "output_type": "stream",
          "text": [
            "1\n"
          ]
        }
      ],
      "source": [
        "# 4. REFERENCE PARAMETER\n",
        "\n",
        "def sum(a):\n",
        "  print(a)\n",
        "s=1   #reference number\n",
        "sum(s)"
      ]
    },
    {
      "cell_type": "code",
      "execution_count": null,
      "metadata": {
        "colab": {
          "base_uri": "https://localhost:8080/"
        },
        "id": "DTGk-Zb9qbrT",
        "outputId": "fc99a156-7e8c-47a2-bde2-4872a7ca6dd5"
      },
      "outputs": [
        {
          "name": "stdout",
          "output_type": "stream",
          "text": [
            "{'name': 'anjana', 'age': '22'}\n"
          ]
        }
      ],
      "source": [
        "# 5. KEYWORD PARAMETER\n",
        "\n",
        "def sum(**x):\n",
        "  print(x)\n",
        "sum(name = \"anjana\", age = \"22\")"
      ]
    },
    {
      "cell_type": "code",
      "execution_count": null,
      "metadata": {
        "colab": {
          "base_uri": "https://localhost:8080/",
          "height": 349
        },
        "id": "mNJSqcgM31fI",
        "outputId": "ed4bd505-210e-4249-a01c-a1c40eddf5cc"
      },
      "outputs": [
        {
          "name": "stdout",
          "output_type": "stream",
          "text": [
            "Enter the string: anjana\n"
          ]
        },
        {
          "output_type": "error",
          "ename": "UnboundLocalError",
          "evalue": "ignored",
          "traceback": [
            "\u001b[0;31m---------------------------------------------------------------------------\u001b[0m",
            "\u001b[0;31mUnboundLocalError\u001b[0m                         Traceback (most recent call last)",
            "\u001b[0;32m<ipython-input-3-4a287d730f9e>\u001b[0m in \u001b[0;36m<cell line: 14>\u001b[0;34m()\u001b[0m\n\u001b[1;32m     12\u001b[0m    \u001b[0mprint\u001b[0m\u001b[0;34m(\u001b[0m\u001b[0;34m\"not palindrome\"\u001b[0m\u001b[0;34m)\u001b[0m\u001b[0;34m\u001b[0m\u001b[0;34m\u001b[0m\u001b[0m\n\u001b[1;32m     13\u001b[0m \u001b[0;34m\u001b[0m\u001b[0m\n\u001b[0;32m---> 14\u001b[0;31m \u001b[0mpalindrome\u001b[0m\u001b[0;34m(\u001b[0m\u001b[0;34m)\u001b[0m\u001b[0;34m\u001b[0m\u001b[0;34m\u001b[0m\u001b[0m\n\u001b[0m",
            "\u001b[0;32m<ipython-input-3-4a287d730f9e>\u001b[0m in \u001b[0;36mpalindrome\u001b[0;34m()\u001b[0m\n\u001b[1;32m      6\u001b[0m \u001b[0;32mdef\u001b[0m \u001b[0mpalindrome\u001b[0m\u001b[0;34m(\u001b[0m\u001b[0;34m)\u001b[0m\u001b[0;34m:\u001b[0m\u001b[0;34m\u001b[0m\u001b[0;34m\u001b[0m\u001b[0m\n\u001b[1;32m      7\u001b[0m   \u001b[0;32mfor\u001b[0m \u001b[0mchar\u001b[0m \u001b[0;32min\u001b[0m \u001b[0muser_input\u001b[0m\u001b[0;34m:\u001b[0m\u001b[0;34m\u001b[0m\u001b[0;34m\u001b[0m\u001b[0m\n\u001b[0;32m----> 8\u001b[0;31m     \u001b[0mreversed_string\u001b[0m \u001b[0;34m=\u001b[0m \u001b[0mchar\u001b[0m\u001b[0;34m+\u001b[0m\u001b[0mreversed_string\u001b[0m\u001b[0;34m\u001b[0m\u001b[0;34m\u001b[0m\u001b[0m\n\u001b[0m\u001b[1;32m      9\u001b[0m   \u001b[0;32mif\u001b[0m \u001b[0mreversed_string\u001b[0m \u001b[0;34m==\u001b[0m \u001b[0muser_input\u001b[0m\u001b[0;34m:\u001b[0m\u001b[0;34m\u001b[0m\u001b[0;34m\u001b[0m\u001b[0m\n\u001b[1;32m     10\u001b[0m     \u001b[0mprint\u001b[0m\u001b[0;34m(\u001b[0m\u001b[0;34m\"palindrome\"\u001b[0m\u001b[0;34m)\u001b[0m\u001b[0;34m\u001b[0m\u001b[0;34m\u001b[0m\u001b[0m\n",
            "\u001b[0;31mUnboundLocalError\u001b[0m: local variable 'reversed_string' referenced before assignment"
          ]
        }
      ],
      "source": [
        "# Create a function to check if a string is palindrome or not\n",
        "\n",
        "user_input = input(\"Enter the string: \")\n",
        "reversed_string = \"\"\n",
        "\n",
        "def palindrome():\n",
        "  for char in user_input:\n",
        "    reversed_string = char+reversed_string\n",
        "  if reversed_string == user_input:\n",
        "    print(\"palindrome\")\n",
        "  else:\n",
        "   print(\"not palindrome\")\n",
        "\n",
        "palindrome()\n"
      ]
    },
    {
      "cell_type": "code",
      "execution_count": null,
      "metadata": {
        "colab": {
          "base_uri": "https://localhost:8080/"
        },
        "id": "Y7F8fz4w31is",
        "outputId": "8bb45b28-8440-4e7a-eed0-f69e692e0ff3"
      },
      "outputs": [
        {
          "name": "stdout",
          "output_type": "stream",
          "text": [
            "Enter the sentence: anjana subramanian\n",
            " The longest word in the sentence is: subramanian\n"
          ]
        }
      ],
      "source": [
        "# Write a function to find the longest word in the function\n",
        "\n",
        "user_input = input(\"Enter the sentence: \").split()\n",
        "\n",
        "def longest():\n",
        "  longest_word = \"\"\n",
        "  max_lenght = 0\n",
        "  for word in user_input:\n",
        "    if len(word)>max_lenght:\n",
        "      longest_word = word\n",
        "      max_lenght = len(word)\n",
        "  print(f\" The longest word in the sentence is: {longest_word}\")\n",
        "\n",
        "longest()"
      ]
    },
    {
      "cell_type": "code",
      "execution_count": null,
      "metadata": {
        "colab": {
          "base_uri": "https://localhost:8080/"
        },
        "id": "kOa4oTZx31wl",
        "outputId": "9d709508-3ba3-4c84-9d4d-052e74886211"
      },
      "outputs": [
        {
          "name": "stdout",
          "output_type": "stream",
          "text": [
            "Enter the numbers separated by space : 1 2 3 4 5 6 7 8 9\n",
            "The original list is :[1, 2, 3, 4, 5, 6, 7, 8, 9]\n",
            "The filtered list is :[1, 3, 5, 7, 9]\n"
          ]
        }
      ],
      "source": [
        "# Create a function to remove all even numbers from the list\n",
        "\n",
        "user_input = input(\"Enter the numbers separated by space : \")\n",
        "new_input = user_input.split()\n",
        "\n",
        "def remove_even_no():\n",
        "  numbers = []\n",
        "  for i in new_input:\n",
        "    num = int(i)\n",
        "    numbers.append(num)\n",
        "\n",
        "  filtered_numbers = []\n",
        "  for j in numbers:\n",
        "    if j%2!=0:\n",
        "      filtered_numbers.append(j)\n",
        "  print(f\"The original list is :{numbers}\")\n",
        "  print(f\"The filtered list is :{filtered_numbers}\")\n",
        "\n",
        "remove_even_no()\n"
      ]
    },
    {
      "cell_type": "code",
      "execution_count": null,
      "metadata": {
        "colab": {
          "base_uri": "https://localhost:8080/"
        },
        "id": "INUrfbvEV2Yp",
        "outputId": "7eb4a164-8942-42a7-f1a6-7feb74a25ad5"
      },
      "outputs": [
        {
          "name": "stdout",
          "output_type": "stream",
          "text": [
            "Enter the numbers separated by space : 8 5 4 9\n",
            "The sorted numbers in descending order: [9, 8, 5, 4]\n",
            "The second largest number is :8\n"
          ]
        }
      ],
      "source": [
        "# Create a function to find the second largest number in the list\n",
        "\n",
        "user_input = input(\"Enter the numbers separated by space : \")\n",
        "new_input = user_input.split()\n",
        "\n",
        "def find_second_largest():\n",
        "  numbers = []\n",
        "  for i in new_input:\n",
        "    num = int(i)\n",
        "    numbers.append(num)\n",
        "\n",
        "  if numbers:\n",
        "    sorted_numbers = sorted(numbers, reverse=True)\n",
        "\n",
        "    if len(sorted_numbers)>1:\n",
        "      second_largest = sorted_numbers[1]\n",
        "  print(f\"The sorted numbers in descending order: {sorted_numbers}\")\n",
        "  print(f\"The second largest number is :{second_largest}\")\n",
        "\n",
        "find_second_largest()\n"
      ]
    },
    {
      "cell_type": "code",
      "execution_count": null,
      "metadata": {
        "colab": {
          "base_uri": "https://localhost:8080/"
        },
        "id": "-I410TTlgTxm",
        "outputId": "5ae39147-b8ba-4452-ac17-07075b03b966"
      },
      "outputs": [
        {
          "name": "stdout",
          "output_type": "stream",
          "text": [
            "The original dictionary {'a': 22, 'b': 456, 'c': 10, 'd': 98} \n",
            "The key with highest value : ['b']\n"
          ]
        }
      ],
      "source": [
        "# create a function to find the keys with the highest values in a dictionary.\n",
        "\n",
        "\n",
        "def highest_key():\n",
        "  my_dict = {'a':22, 'b':456, 'c':10, 'd':98}\n",
        "  print(f\"The original dictionary {my_dict} \")\n",
        "  max_value = max(my_dict.values())\n",
        "  max_key = []\n",
        "  for k,v in my_dict.items():\n",
        "    if v>=max_value:\n",
        "      max_key.append(k)\n",
        "  print(f\"The key with highest value : {max_key}\")\n",
        "highest_key()\n",
        "\n"
      ]
    },
    {
      "cell_type": "code",
      "execution_count": null,
      "metadata": {
        "colab": {
          "base_uri": "https://localhost:8080/"
        },
        "id": "ClpjHfLNhAM4",
        "outputId": "f48949a6-3474-4b7a-8177-c84659883b5f"
      },
      "outputs": [
        {
          "name": "stdout",
          "output_type": "stream",
          "text": [
            "Original dictionary {'Name': 'Anjana', 'Age': 22, 'Course': 'Python'}\n",
            "The key-value pairs key Name and value Anjana is removed \n",
            "Updated dictionary {'Age': 22, 'Course': 'Python'}\n"
          ]
        }
      ],
      "source": [
        "# Create a function to remove a key-value pair from a dictionary.\n",
        "\n",
        "def remove_key_value_pair():\n",
        "  my_dict = {'Name':'Anjana', 'Age':22, 'Course':'Python'}\n",
        "  print(f\"Original dictionary {my_dict}\")\n",
        "  key_to_remove = \"Name\"\n",
        "  if key_to_remove in my_dict:\n",
        "    removed_value = my_dict.pop(key_to_remove)\n",
        "    print(f\"The key-value pairs key {key_to_remove} and value {removed_value} is removed \")\n",
        "  else:\n",
        "    print(f\"The key-value pair is not exist in the dictionary {my_dict}\")\n",
        "  print(f\"Updated dictionary {my_dict}\")\n",
        "remove_key_value_pair()\n"
      ]
    },
    {
      "cell_type": "code",
      "execution_count": null,
      "metadata": {
        "colab": {
          "base_uri": "https://localhost:8080/"
        },
        "id": "fa_wSm9lhAVa",
        "outputId": "18bdf2b1-f3ce-4737-8da6-6ec42328e8f0"
      },
      "outputs": [
        {
          "name": "stdout",
          "output_type": "stream",
          "text": [
            "Select the temparature: \n",
            "1. celsuis to farenheit \n",
            "2. farenheit to celsuis \n",
            "Enter the choise (1/2)2\n",
            "Enter the temparature:78.3\n",
            "Converting farenheit 78.3 to celsuis is 25.72222222222222\n"
          ]
        }
      ],
      "source": [
        "# Temparature converter:\n",
        "# write a python program that include function to convert temparature between celsuis and farenheit.\n",
        "\n",
        "user_input = input(\"Select the temparature: \\n1. celsuis to farenheit \\n2. farenheit to celsuis \\nEnter the choise (1/2)\")\n",
        "def converter():\n",
        " if user_input =='1':\n",
        "    celsuis = float(input(\"Enter the temparature:\"))\n",
        "    farenheit = (celsuis*9/5)+32\n",
        "    print(f\"Converting celsuis {celsuis} to farenheit is {farenheit}\")\n",
        " elif user_input =='2':\n",
        "    farenheit = float(input(\"Enter the temparature:\"))\n",
        "    celsuis = (farenheit-32)*5/9\n",
        "    print(f\"Converting farenheit {farenheit} to celsuis is {celsuis}\")\n",
        "converter()"
      ]
    },
    {
      "cell_type": "code",
      "execution_count": null,
      "metadata": {
        "colab": {
          "base_uri": "https://localhost:8080/"
        },
        "id": "TeUZ8ApHhAd5",
        "outputId": "8880fa85-1fbe-49b5-fb08-ad6006f7d488"
      },
      "outputs": [
        {
          "name": "stdout",
          "output_type": "stream",
          "text": [
            "Enter the numbers separated by spaces:2 34 5 1 7\n",
            "The enterd elements in list: [2, 34, 5, 1, 7]\n",
            "The list in descending order: [34, 7, 5, 2, 1]\n",
            "The largest number: 34\n"
          ]
        }
      ],
      "source": [
        "# Write a program with function to:\n",
        "\n",
        "# 1. find the maximum element in the list.\n",
        "\n",
        "user_input = input(\"Enter the numbers separated by spaces:\")\n",
        "new_input = user_input.split()\n",
        "\n",
        "def largest_number():\n",
        "  numbers = []\n",
        "  for i in new_input:\n",
        "    num = int(i)\n",
        "    numbers.append(num)\n",
        "  if numbers:\n",
        "    sorted_number = sorted(numbers, reverse=True)\n",
        "  if len(numbers)>1:\n",
        "    largest_number = sorted_number[0]\n",
        "  print(f\"The enterd elements in list: {numbers}\")\n",
        "  print(f\"The list in descending order: {sorted_number}\")\n",
        "  print(f\"The largest number: {largest_number}\")\n",
        "largest_number()\n"
      ]
    },
    {
      "cell_type": "code",
      "execution_count": null,
      "metadata": {
        "colab": {
          "base_uri": "https://localhost:8080/"
        },
        "id": "YGUWgIOahAhS",
        "outputId": "d3c35fef-b435-4bc0-bf05-661648ba46d8"
      },
      "outputs": [
        {
          "name": "stdout",
          "output_type": "stream",
          "text": [
            "Enter the numbers separeted by space:2 4 5 4 \n",
            "The original list: [2, 4, 5, 4]\n",
            "The sum of elements in the list: 15\n"
          ]
        }
      ],
      "source": [
        "#2.calculate the sum of all elements  in  the list.\n",
        "\n",
        "user_input = input(\"Enter the numbers separeted by space:\")\n",
        "new_input = user_input.split()\n",
        "\n",
        "def sum_of_elements():\n",
        "  numbers = []\n",
        "  for i in new_input:\n",
        "    num = int(i)\n",
        "    numbers.append(num)\n",
        "  sum_of_elements = sum(numbers)\n",
        "  print(f\"The original list: {numbers}\")\n",
        "  print(f\"The sum of elements in the list: {sum_of_elements}\")\n",
        "sum_of_elements()"
      ]
    },
    {
      "cell_type": "code",
      "execution_count": null,
      "metadata": {
        "colab": {
          "base_uri": "https://localhost:8080/"
        },
        "id": "cuRofu0NhAmR",
        "outputId": "f66cccb8-e1f8-49d4-9d52-b73f1c78b450"
      },
      "outputs": [
        {
          "name": "stdout",
          "output_type": "stream",
          "text": [
            "Enter the elements separeted by space:4 5 2 3 4 1\n",
            "The original list: ['4', '5', '2', '3', '4', '1']\n",
            "After removing the duplicates: ['4', '5', '2', '3', '1']\n"
          ]
        }
      ],
      "source": [
        "#3. Remove duplicates from the list.\n",
        "\n",
        "user_input = input(\"Enter the elements separeted by space:\")\n",
        "new_input = user_input.split()\n",
        "\n",
        "def remove_duplicates():\n",
        "  numbers = []\n",
        "  for i in new_input:\n",
        "    num = int(i)\n",
        "    numbers.append(i)\n",
        "\n",
        "  new_numbers = []\n",
        "  for items in numbers:\n",
        "    if items not in new_numbers:\n",
        "      new_numbers.append(items)\n",
        "  print(f\"The original list: {numbers}\")\n",
        "  print(f\"After removing the duplicates: {new_numbers}\")\n",
        "remove_duplicates()"
      ]
    },
    {
      "cell_type": "code",
      "execution_count": null,
      "metadata": {
        "colab": {
          "base_uri": "https://localhost:8080/"
        },
        "id": "ma9JAH6-hw4X",
        "outputId": "9590e34e-c57a-493a-beb5-00e74335bba2"
      },
      "outputs": [
        {
          "name": "stdout",
          "output_type": "stream",
          "text": [
            "Enter the sentence:hello python hei python\n",
            "hello:1\n",
            "python:2\n",
            "hei:1\n"
          ]
        }
      ],
      "source": [
        "#.Word count : 1. Create a program that taken a sentence  as input and returns the count of each word in that sentence\n",
        "\n",
        "user_input = input(\"Enter the sentence:\")\n",
        "new_input = user_input.split()\n",
        "\n",
        "def count_word():\n",
        "  word_count = {}\n",
        "  for words in new_input:\n",
        "    if words in word_count:\n",
        "      word_count[words]+=1\n",
        "    else:\n",
        "      word_count[words]=1\n",
        "  for word, count in word_count.items():\n",
        "    print(f\"{word}:{count}\")\n",
        "count_word()\n"
      ]
    },
    {
      "cell_type": "code",
      "execution_count": null,
      "metadata": {
        "colab": {
          "base_uri": "https://localhost:8080/"
        },
        "id": "MhaO-thMCEfM",
        "outputId": "a46df435-514a-4fb0-ea8b-0ed0e709fe07"
      },
      "outputs": [
        {
          "name": "stdout",
          "output_type": "stream",
          "text": [
            "5\n"
          ]
        }
      ],
      "source": [
        " # 100. Create and call a function.\n",
        "\n",
        "def add():\n",
        "  a = 2\n",
        "  b = 3\n",
        "  c = a+b\n",
        "  print(c)\n",
        "add()"
      ]
    },
    {
      "cell_type": "code",
      "execution_count": null,
      "metadata": {
        "colab": {
          "base_uri": "https://localhost:8080/"
        },
        "id": "K-mJJODaCEvo",
        "outputId": "c2e79398-0eee-485b-8c49-a54efc780491"
      },
      "outputs": [
        {
          "name": "stdout",
          "output_type": "stream",
          "text": [
            "(1, 2, 3, 4)\n"
          ]
        }
      ],
      "source": [
        "# 101. create a function using the arbitrary argument.\n",
        "def sum(*a):\n",
        "  print(a)\n",
        "sum(1,2,3,4)\n",
        "\n",
        "\n",
        "\n"
      ]
    },
    {
      "cell_type": "code",
      "execution_count": null,
      "metadata": {
        "colab": {
          "base_uri": "https://localhost:8080/"
        },
        "id": "fckQ1wLUCE70",
        "outputId": "12da29c6-4d74-4bf0-bc32-157cec41271b"
      },
      "outputs": [
        {
          "name": "stdout",
          "output_type": "stream",
          "text": [
            "{'name': 'anjana', 'age': '22'}\n"
          ]
        }
      ],
      "source": [
        "#102. create a function using an arbitrary keyword argument.\n",
        "\n",
        "def sum(**x):\n",
        "  print(x)\n",
        "sum(name = \"anjana\", age = \"22\")"
      ]
    },
    {
      "cell_type": "code",
      "execution_count": null,
      "metadata": {
        "colab": {
          "base_uri": "https://localhost:8080/"
        },
        "id": "NpaYb4elCFHU",
        "outputId": "56f7a93f-c597-45d6-e90e-78d5364ec462"
      },
      "outputs": [
        {
          "data": {
            "text/plain": [
              "4"
            ]
          },
          "execution_count": 5,
          "metadata": {},
          "output_type": "execute_result"
        }
      ],
      "source": [
        "#103. create a function with a return statement.\n",
        "def mul():\n",
        "  a=2\n",
        "  b=2\n",
        "  c = a*b\n",
        "  return c\n",
        "mul()"
      ]
    },
    {
      "cell_type": "code",
      "execution_count": null,
      "metadata": {
        "colab": {
          "base_uri": "https://localhost:8080/"
        },
        "id": "Xp_ZD-g0CFTg",
        "outputId": "8066ccbf-fcc2-4ec9-bf9c-5179e404d701"
      },
      "outputs": [
        {
          "data": {
            "text/plain": [
              "1"
            ]
          },
          "execution_count": 6,
          "metadata": {},
          "output_type": "execute_result"
        }
      ],
      "source": [
        "#104. create a function with a default parameter value.\n",
        "def sub(a,b):\n",
        "  c =a-b\n",
        "  return c\n",
        "sub(2,1)\n"
      ]
    },
    {
      "cell_type": "code",
      "execution_count": null,
      "metadata": {
        "colab": {
          "base_uri": "https://localhost:8080/"
        },
        "id": "c2p4x6wkmjXQ",
        "outputId": "5b0295d6-93ec-4a6d-f4cd-7648015c6f07"
      },
      "outputs": [
        {
          "name": "stdout",
          "output_type": "stream",
          "text": [
            "key:a  value:22, items:(a,22)\n",
            "key:b  value:20, items:(b,20)\n",
            "key:c  value:py, items:(c,py)\n",
            "key:d  value:22, items:(d,22)\n"
          ]
        }
      ],
      "source": [
        "# 91. Write a Python program to get the key, value, and item in a dictionary.\n",
        "\n",
        "my_dict = {'a':22, 'b':20, 'c':'py', 'd':22}\n",
        "#print(\"key value pairs:\",my_dict)\n",
        "\n",
        "for key, value in my_dict.items():\n",
        "  print(f\"key:{key}  value:{value}, items:({key},{value})\")\n",
        "\n"
      ]
    },
    {
      "cell_type": "code",
      "execution_count": null,
      "metadata": {
        "colab": {
          "base_uri": "https://localhost:8080/"
        },
        "id": "kpQcJXxwm2fN",
        "outputId": "a4b68aa1-665b-4f9d-fbed-6ae9509490e3"
      },
      "outputs": [
        {
          "name": "stdout",
          "output_type": "stream",
          "text": [
            "The value of the model key : {'Mustang'}\n"
          ]
        }
      ],
      "source": [
        "# 92.  print the value of the \"model\" key of the car dictionary using the get method\n",
        "\n",
        "car = { \"brand\": \"Ford\", \"model\": \"Mustang\", \"year\": 1964 }\n",
        "get_value = car.get(\"model\")\n",
        "print(f\"The value of the model key :\",{get_value})\n"
      ]
    },
    {
      "cell_type": "code",
      "execution_count": null,
      "metadata": {
        "colab": {
          "base_uri": "https://localhost:8080/"
        },
        "id": "soiXPOJXm2sI",
        "outputId": "36f3ed27-7698-4762-db61-c6cf8119426f"
      },
      "outputs": [
        {
          "name": "stdout",
          "output_type": "stream",
          "text": [
            "After updating the value: {'brand': 'Ford', 'model': 'Mustang', 'year': 2000}\n"
          ]
        }
      ],
      "source": [
        "# 93. Change the \"year\" value from 1964 to 2020. in the above dictionary\n",
        "\n",
        "car = { \"brand\": \"Ford\", \"model\": \"Mustang\", \"year\": 1964 }\n",
        "car[\"year\"] = 2000\n",
        "print(f\"After updating the value: {car}\")"
      ]
    },
    {
      "cell_type": "code",
      "execution_count": null,
      "metadata": {
        "colab": {
          "base_uri": "https://localhost:8080/"
        },
        "id": "-kBbcDmPm24q",
        "outputId": "c29d0e74-365e-4fa6-ac83-0b1a772b4b5f"
      },
      "outputs": [
        {
          "name": "stdout",
          "output_type": "stream",
          "text": [
            "Removed key 'brand' with value: Ford\n",
            "Updated car dictionary: {'model': 'Mustang', 'year': 1964}\n"
          ]
        }
      ],
      "source": [
        "# 94. Write a Python program to remove a key from a dictionary\n",
        "\n",
        "car = { \"brand\": \"Ford\", \"model\": \"Mustang\", \"year\": 1964 }\n",
        "remove_key = \"brand\"\n",
        "if remove_key in car:\n",
        "  remove = car.pop(remove_key)\n",
        "print(f\"Removed key '{remove_key}' with value:\", remove)\n",
        "print(\"Updated car dictionary:\", car)\n"
      ]
    },
    {
      "cell_type": "code",
      "execution_count": null,
      "metadata": {
        "colab": {
          "base_uri": "https://localhost:8080/"
        },
        "id": "HZ6D6mctm3Eb",
        "outputId": "a5f19e03-3d78-405d-f4a2-e7b7ec2bd17a"
      },
      "outputs": [
        {
          "name": "stdout",
          "output_type": "stream",
          "text": [
            "Created dictionary: {'brand': 'Ford', 'model': 'Mustang', 'year': 1964}\n"
          ]
        }
      ],
      "source": [
        "# 95. create a dictionary using the dict constructor\n",
        "\n",
        "\n",
        "my_dict = dict(brand=\"Ford\",model=\"Mustang\",year=1964)\n",
        "print(\"Created dictionary:\", my_dict)"
      ]
    },
    {
      "cell_type": "code",
      "execution_count": null,
      "metadata": {
        "colab": {
          "base_uri": "https://localhost:8080/"
        },
        "id": "ngFgIO96m3Pb",
        "outputId": "6c017c44-fbe0-44e4-b81e-8a90d9cba514"
      },
      "outputs": [
        {
          "name": "stdout",
          "output_type": "stream",
          "text": [
            "Updated car dictionary after updating: {'brand': 'Ford', 'model': 'Mustang', 'year': 1964, 'color': 'Black'}\n"
          ]
        }
      ],
      "source": [
        "# 96. write a program with a dictionary update method\n",
        "\n",
        "car = { \"brand\": \"Ford\", \"model\": \"Mustang\", \"year\": 1964 }\n",
        "add_values = {\"color\": \"Black\"}\n",
        "\n",
        "car.update(add_values)\n",
        "print(\"Updated car dictionary after updating:\", car)\n",
        "\n"
      ]
    },
    {
      "cell_type": "code",
      "execution_count": null,
      "metadata": {
        "colab": {
          "base_uri": "https://localhost:8080/"
        },
        "id": "HkKyYXoYm3Ue",
        "outputId": "03ea2748-26a6-4ea6-d562-0adc9fcb26a3"
      },
      "outputs": [
        {
          "name": "stdout",
          "output_type": "stream",
          "text": [
            "After removing the last item :{'brand': 'Ford', 'model': 'Mustang', 'year': 1964}\n"
          ]
        }
      ],
      "source": [
        "# 97. write a program to remove the last inserted item from a dictionary\n",
        "\n",
        "car = { \"brand\": \"Ford\", \"model\": \"Mustang\", \"year\": 1964,\"color\": \"Black\" }\n",
        "item_to_remove = car.popitem()\n",
        "print(f\"After removing the last item :{car}\")"
      ]
    },
    {
      "cell_type": "code",
      "execution_count": null,
      "metadata": {
        "colab": {
          "base_uri": "https://localhost:8080/"
        },
        "id": "QCYbxnHdm3Zg",
        "outputId": "7f22ce7c-6cd3-49b8-fd89-4555b4f89da5"
      },
      "outputs": [
        {
          "name": "stdout",
          "output_type": "stream",
          "text": [
            "{}\n"
          ]
        }
      ],
      "source": [
        "# 98. write a program to empty a dictionary\n",
        "car = { \"brand\": \"Ford\", \"model\": \"Mustang\", \"year\": 1964,\"color\": \"Black\" }\n",
        "empty_dict = car.clear()\n",
        "print(car)"
      ]
    },
    {
      "cell_type": "code",
      "execution_count": null,
      "metadata": {
        "colab": {
          "base_uri": "https://localhost:8080/"
        },
        "id": "LbJ1h8OFm3d7",
        "outputId": "0cf59d83-4f8b-4ce9-dedc-297fdbd4ae88"
      },
      "outputs": [
        {
          "name": "stdout",
          "output_type": "stream",
          "text": [
            "Copied dictionary using copy method: {'brand': 'Ford', 'model': 'Mustang', 'year': 1964, 'color': 'Black'}\n"
          ]
        }
      ],
      "source": [
        "# 99. write a program to copy a dictionary\n",
        "\n",
        "car = { \"brand\": \"Ford\", \"model\": \"Mustang\", \"year\": 1964,\"color\": \"Black\" }\n",
        "copy_dict = car.copy()\n",
        "print(\"Copied dictionary using copy method:\", copy_dict)"
      ]
    },
    {
      "cell_type": "code",
      "execution_count": null,
      "metadata": {
        "colab": {
          "base_uri": "https://localhost:8080/"
        },
        "id": "r3pIXzoF7O5V",
        "outputId": "07c921b2-8d9d-446d-eb3f-aa670edac4ba"
      },
      "outputs": [
        {
          "name": "stdout",
          "output_type": "stream",
          "text": [
            "sum is 60\n",
            "sum is 150\n",
            "sum is 157.60000000000002\n"
          ]
        }
      ],
      "source": [
        "# 1. HW\n",
        "\n",
        "def add(*n):\n",
        "  s = 0\n",
        "  for x in n:\n",
        "    s = s+x\n",
        "  return s\n",
        "p = add(10,20,30)\n",
        "print(\"sum is\",p)\n",
        "q = add(10,20,30,40,50)\n",
        "print(\"sum is\",q)\n",
        "r = add(25.5,36.6,42.7,52.8)\n",
        "print(\"sum is\",r)"
      ]
    },
    {
      "cell_type": "code",
      "execution_count": null,
      "metadata": {
        "colab": {
          "base_uri": "https://localhost:8080/"
        },
        "id": "u_RQtzXMBYH8",
        "outputId": "999549d3-aecc-4fce-e8de-d9886816486e"
      },
      "outputs": [
        {
          "name": "stdout",
          "output_type": "stream",
          "text": [
            "Enter the number:24\n",
            "24\n",
            "It is not automorphic\n",
            "it is trimorphic\n"
          ]
        }
      ],
      "source": [
        "# 2. Auto-trimorphic\n",
        "\n",
        "num = int(input(\"Enter the number:\"))\n",
        "print(num)\n",
        "sq = num*num\n",
        "cube = sq*num\n",
        "if num%10==sq%10:\n",
        "  print(\"It is automorphic\")\n",
        "else:\n",
        "  print(\"It is not automorphic\")\n",
        "if num%10==cube%10:\n",
        "  print(\"it is trimorphic\")\n",
        "else:\n",
        "  print(\"It is not trimorphic\")"
      ]
    },
    {
      "cell_type": "code",
      "execution_count": null,
      "metadata": {
        "colab": {
          "base_uri": "https://localhost:8080/"
        },
        "id": "uyO6CxNEQ2E0",
        "outputId": "33db548a-4a36-4dee-a500-a73b0e812875"
      },
      "outputs": [
        {
          "name": "stdout",
          "output_type": "stream",
          "text": [
            "Enter the num1:5\n",
            "Enter the num2:1\n",
            "Enter the num3:9\n",
            "The biggest number is: 9\n"
          ]
        }
      ],
      "source": [
        "# 3. bigest of 3 elif.py\n",
        "\n",
        "num1 = int(input(\"Enter the num1:\"))\n",
        "num2 = int(input(\"Enter the num2:\"))\n",
        "num3 = int(input(\"Enter the num3:\"))\n",
        "\n",
        "if num1>num2 and num1>num3:\n",
        "  big=num1\n",
        "elif num2>num1 and num2>num3:\n",
        "  big=num2\n",
        "else:\n",
        "  big=num3\n",
        "print(\"The biggest number is:\", big)\n",
        "\n",
        "\n",
        "\n"
      ]
    },
    {
      "cell_type": "code",
      "execution_count": null,
      "metadata": {
        "colab": {
          "base_uri": "https://localhost:8080/"
        },
        "id": "uazWVtuOSPh0",
        "outputId": "72948f41-07bc-4368-800e-2ba86ef3486e"
      },
      "outputs": [
        {
          "name": "stdout",
          "output_type": "stream",
          "text": [
            "Enter the num1:76\n",
            "Enter the num2:77\n",
            "Biggest number is:  77\n"
          ]
        }
      ],
      "source": [
        "# 4. bigifelse.py\n",
        "\n",
        "num1 = int(input(\"Enter the num1:\"))\n",
        "num2 = int(input(\"Enter the num2:\"))\n",
        "\n",
        "if num1>num2:\n",
        "  big=num1\n",
        "else:\n",
        "  big=num2\n",
        "print(\"Biggest number is: \", big)"
      ]
    },
    {
      "cell_type": "code",
      "execution_count": null,
      "metadata": {
        "colab": {
          "base_uri": "https://localhost:8080/"
        },
        "id": "ByyTzuJcSuqU",
        "outputId": "5c5a54ba-4a8a-48d8-8430-695340674776"
      },
      "outputs": [
        {
          "name": "stdout",
          "output_type": "stream",
          "text": [
            "Enter the limit:3\n",
            "Enter the numbers:\n",
            "4\n",
            "6\n",
            "10\n",
            "The list:[4, 6, 10]\n",
            "The biggest element:10\n",
            "The second largest element:6\n"
          ]
        }
      ],
      "source": [
        "# 5. biglist.py\n",
        "\n",
        "a = []\n",
        "n = int(input(\"Enter the limit:\"))\n",
        "print(\"Enter the numbers:\")\n",
        "\n",
        "for i in range(0,n):\n",
        "  num = int(input())\n",
        "  a.append(num)\n",
        "print(f\"The list:{a}\")\n",
        "\n",
        "big = a[0]\n",
        "for i in range(1,n):\n",
        "  if a[i]>big:\n",
        "    big = a[i]\n",
        "print(f\"The biggest element:{big}\")\n",
        "\n",
        "if big == a[0]:\n",
        "  sbig = a[1]\n",
        "else:\n",
        "  sbig = a[1]\n",
        "\n",
        "for i in range(0,n):\n",
        "  if a[i]<big and a[i]>sbig:\n",
        "    sbig = a[i]\n",
        "print(f\"The second largest element:{sbig}\")"
      ]
    },
    {
      "cell_type": "code",
      "execution_count": null,
      "metadata": {
        "colab": {
          "base_uri": "https://localhost:8080/"
        },
        "id": "ihxgqJfN4ldd",
        "outputId": "1cd968a4-3c12-4b9d-e928-eb516b77308e"
      },
      "outputs": [
        {
          "name": "stdout",
          "output_type": "stream",
          "text": [
            "Enter the number:5\n",
            "Enter the number:7\n",
            "Enter the number:1\n",
            "Biggest element:7\n"
          ]
        }
      ],
      "source": [
        "# 6. bignestedif.py\n",
        "\n",
        "a = input(\"Enter the number:\")\n",
        "b = input(\"Enter the number:\")\n",
        "c = input(\"Enter the number:\")\n",
        "\n",
        "if a>b:\n",
        "  if a>c:\n",
        "    big = a\n",
        "  else:\n",
        "    big = c\n",
        "else:\n",
        "  if b>c:\n",
        "    big = b\n",
        "  else:\n",
        "    big = c\n",
        "print(f\"Biggest element:{big}\")\n"
      ]
    },
    {
      "cell_type": "code",
      "execution_count": null,
      "metadata": {
        "colab": {
          "base_uri": "https://localhost:8080/"
        },
        "id": "f2nxodBo60zM",
        "outputId": "799efe1b-0fa3-4a0d-9c20-16d3f2ce5132"
      },
      "outputs": [
        {
          "name": "stdout",
          "output_type": "stream",
          "text": [
            "Enter a number14\n",
            "Enter a number12\n",
            "Biggest is:14\n"
          ]
        }
      ],
      "source": [
        "#7. bigsimif.py\n",
        "\n",
        "a = int(input(\"Enter a number\"))\n",
        "b = int(input(\"Enter a number\"))\n",
        "big = a\n",
        "if a<b:\n",
        "\tbig = b\n",
        "print(f\"Biggest is:{big}\")\n"
      ]
    },
    {
      "cell_type": "code",
      "execution_count": null,
      "metadata": {
        "colab": {
          "base_uri": "https://localhost:8080/"
        },
        "id": "heC7nFT67kqg",
        "outputId": "e5eeb12a-0e27-4298-9833-823676176e40"
      },
      "outputs": [
        {
          "name": "stdout",
          "output_type": "stream",
          "text": [
            "Enter your requirements: (1-required/0-not required)\n",
            "School1\n",
            "Gym0\n",
            "Pool1\n",
            "Hospital0\n",
            "Store1\n",
            "['School', 'Pool', 'Store']\n"
          ]
        }
      ],
      "source": [
        "# 8. block_selection.py\n",
        "\n",
        "required_amenities = []\n",
        "block_details = [{\"School\":True,\"Gym\":False,\"Pool\":False,\"Hospital\":True,\"Store\":False}]\n",
        "amenities = {\"School\":False,\"Gym\":False,\"Pool\":False,\"Hospital\":False,\"Store\":False}\n",
        "print(\"Enter your requirements: (1-required/0-not required)\")\n",
        "\n",
        "for x in amenities.keys():\n",
        "  k = int(input(x))\n",
        "  if k == 1:\n",
        "   required_amenities.append(x)\n",
        "print(required_amenities)\n"
      ]
    },
    {
      "cell_type": "code",
      "execution_count": null,
      "metadata": {
        "colab": {
          "base_uri": "https://localhost:8080/"
        },
        "id": "NDJs8fzgApY5",
        "outputId": "c37e2fc8-6be5-4db7-ffaa-e71e7a9f3cf1"
      },
      "outputs": [
        {
          "name": "stdout",
          "output_type": "stream",
          "text": [
            "1. Addition\n",
            "2. Subtraction\n",
            "3. Multiplication\n",
            "4. Division \n",
            "5. Exponet\n",
            "Enter your choice of operation :3\n",
            "Enter a number4\n",
            "Enter a number5\n",
            "The result is, 20\n"
          ]
        }
      ],
      "source": [
        "# 9. calculatorelif.py\n",
        "\n",
        "print(\"1. Addition\")\n",
        "print(\"2. Subtraction\")\n",
        "print(\"3. Multiplication\")\n",
        "print(\"4. Division \")\n",
        "print(\"5. Exponet\")\n",
        "\n",
        "choice = int(input(\"Enter your choice of operation :\"))\n",
        "a = int(input(\"Enter a number\"))\n",
        "b = int(input(\"Enter a number\"))\n",
        "\n",
        "if choice==1:\n",
        "\tresult = a+b\n",
        "elif choice==2:\n",
        "\tresult = a-b\n",
        "elif choice==3:\n",
        "\tresult = a*b\n",
        "elif choice==4:\n",
        "\tresult = a/b\n",
        "elif choice==5:\n",
        "\tresult = a**b\n",
        "else:\n",
        "\tprint(\"Invalid choice!!!\")\n",
        "print(f\"The result is: {result}\")"
      ]
    },
    {
      "cell_type": "code",
      "execution_count": null,
      "metadata": {
        "colab": {
          "base_uri": "https://localhost:8080/"
        },
        "id": "GoJdgj6oArdc",
        "outputId": "bb5b10b6-af02-418c-87d0-58d223e9c6d2"
      },
      "outputs": [
        {
          "name": "stdout",
          "output_type": "stream",
          "text": [
            "Enter the limit:4\n",
            "Enter the elements:\n",
            "5\n",
            "8\n",
            "3\n",
            "0\n",
            "[5, 8, 3, 0]\n",
            "[0, 5, 8, 3]\n"
          ]
        }
      ],
      "source": [
        "# 10. circularrightshift.py\n",
        "\n",
        "a = []\n",
        "n = int(input(\"Enter the limit:\"))\n",
        "print(\"Enter the elements:\")\n",
        "\n",
        "for i in range(0, n):\n",
        "  num = int(input())\n",
        "  a.append(num)\n",
        "print(a)\n",
        "\n",
        "b = [a[n-1]]+a[:n-1]\n",
        "a = b\n",
        "print(a)"
      ]
    },
    {
      "cell_type": "code",
      "execution_count": null,
      "metadata": {
        "colab": {
          "base_uri": "https://localhost:8080/"
        },
        "id": "odwA8TNlEFPA",
        "outputId": "d5424ede-89c0-4742-ac96-94c7544a2902"
      },
      "outputs": [
        {
          "name": "stdout",
          "output_type": "stream",
          "text": [
            "Interest  9000.0\n",
            "Interest  7500.0\n"
          ]
        }
      ],
      "source": [
        "# 11. defaultarg.py\n",
        "\n",
        "def simple_interest(p,n,r = 0.25):\n",
        "\ti = p*r*n\n",
        "\treturn i\n",
        "i1 = simple_interest(5000,6,0.3)\n",
        "print(\"Interest \",i1)\n",
        "i2 = simple_interest(5000,6)\n",
        "print(\"Interest \",i2)"
      ]
    },
    {
      "cell_type": "code",
      "execution_count": null,
      "metadata": {
        "colab": {
          "base_uri": "https://localhost:8080/"
        },
        "id": "tHYnKrHvEdXZ",
        "outputId": "45fe27e1-8fbf-4dd4-a667-3597eb45256a"
      },
      "outputs": [
        {
          "name": "stdout",
          "output_type": "stream",
          "text": [
            "<class 'list'>\n",
            "100\n",
            "<class 'tuple'>\n",
            "174\n",
            "<class 'set'>\n",
            "150\n"
          ]
        }
      ],
      "source": [
        "# 12. functionlist.py\n",
        "\n",
        "def sum(no):\n",
        "\tprint(type(no))\n",
        "\ts = 0\n",
        "\tfor x in no:\n",
        "\t\ts = s+x\n",
        "\treturn s\n",
        "a = [10,20,30,40]\n",
        "print(sum(a))\n",
        "b = (25,36,49,64)\n",
        "print(sum(b))\n",
        "c = {25,50,75}\n",
        "print(sum(c))\n"
      ]
    },
    {
      "cell_type": "code",
      "execution_count": null,
      "metadata": {
        "colab": {
          "base_uri": "https://localhost:8080/"
        },
        "id": "2-UnXEFlFBnt",
        "outputId": "e5927876-3b9b-4ff4-9f42-7d3cfd388426"
      },
      "outputs": [
        {
          "name": "stdout",
          "output_type": "stream",
          "text": [
            "Enter the principle amount : 1000\n",
            "Enter the time duration : 2\n",
            "Enter the rate of interest : 5\n",
            "Interest :  100.0\n",
            "Interest :  100.0\n"
          ]
        }
      ],
      "source": [
        "# 13. functioninterestdefault.py\n",
        "\n",
        "\n",
        "def simple_interest(p,t,r=5):\n",
        "\ti=p*r*t/100\n",
        "\treturn i\n",
        "\n",
        "principle_amount = int(input(\"Enter the principle amount : \"))\n",
        "time_period = int(input(\"Enter the time duration : \"))\n",
        "rate_of_interest = int(input(\"Enter the rate of interest : \"))\n",
        "\n",
        "i1 = simple_interest(principle_amount,time_period)\n",
        "print(\"Interest : \",i1)\n",
        "i2=simple_interest(principle_amount,time_period,rate_of_interest)\n",
        "print(\"Interest : \",i2)\n"
      ]
    },
    {
      "cell_type": "code",
      "execution_count": null,
      "metadata": {
        "colab": {
          "base_uri": "https://localhost:8080/"
        },
        "id": "Qtx3rMpcHZGH",
        "outputId": "597e5ec7-8a3d-4f7a-dad9-a9bb6c66fc21"
      },
      "outputs": [
        {
          "name": "stdout",
          "output_type": "stream",
          "text": [
            "<class 'tuple'>\n",
            "600\n",
            "<class 'tuple'>\n",
            "47.2\n"
          ]
        }
      ],
      "source": [
        "# 14. functionarguments.py\n",
        "\n",
        "\n",
        "def sum(*n):\n",
        "\tprint(type(n))\n",
        "\ts=0\n",
        "\tfor x in n:\n",
        "\t\ts=s+x\n",
        "\treturn s\n",
        "\n",
        "#def add(p):\n",
        "\t#print(p*6)\n",
        "#def avg(s):\n",
        "\t#print(s/5)\n",
        "sm = sum(10,20,30,40)\n",
        "add(sm)\n",
        "sm = sum(25,36,45,78,52)\n",
        "avg(sm)"
      ]
    },
    {
      "cell_type": "code",
      "execution_count": null,
      "metadata": {
        "colab": {
          "base_uri": "https://localhost:8080/"
        },
        "id": "feJTjQl7IPx-",
        "outputId": "df7bcebf-c579-4d77-b5eb-d9fda3a7a1a5"
      },
      "outputs": [
        {
          "name": "stdout",
          "output_type": "stream",
          "text": [
            "<class 'tuple'>\n",
            "Sum is  30\n",
            "<class 'tuple'>\n",
            "Sum is  150\n",
            "<class 'tuple'>\n",
            "Sum is  52.0\n"
          ]
        }
      ],
      "source": [
        "# 15. fun_arbitoryarg1.py\n",
        "\n",
        "def my_function(*formal):\n",
        "\tprint(type(formal))\n",
        "\ts = 0\n",
        "\tfor x in formal:\n",
        "\t\ts=s+x\n",
        "\tprint(\"Sum is \",s)\n",
        "my_function(10,20)\n",
        "my_function(10,20,30,40,50)\n",
        "my_function(10.2,15.5,26.3)\n"
      ]
    },
    {
      "cell_type": "code",
      "execution_count": null,
      "metadata": {
        "colab": {
          "base_uri": "https://localhost:8080/"
        },
        "id": "u3MjOIu9IkT9",
        "outputId": "0e7bcf2c-1b0a-4887-97ac-02f4c27c1358"
      },
      "outputs": [
        {
          "name": "stdout",
          "output_type": "stream",
          "text": [
            "<class 'tuple'>\n",
            "Kiran\n",
            "Manu\n",
            "Vinu\n",
            "<class 'tuple'>\n",
            "10\n",
            "20\n",
            "30\n",
            "40\n",
            "50\n"
          ]
        }
      ],
      "source": [
        "# 16.fun_arbitoryarg.py\n",
        "\n",
        "def my_function(*students):\n",
        "\tprint(type(students))\n",
        "\tfor x in students:\n",
        "\t\tprint(x)\n",
        "\n",
        "my_function(\"Kiran\", \"Manu\", \"Vinu\")\n",
        "my_function(10,20,30,40,50)"
      ]
    },
    {
      "cell_type": "code",
      "execution_count": null,
      "metadata": {
        "colab": {
          "base_uri": "https://localhost:8080/"
        },
        "id": "sFbyIgD4M38q",
        "outputId": "50033b6a-8f4b-4356-d2b7-36ba0862d444"
      },
      "outputs": [
        {
          "name": "stdout",
          "output_type": "stream",
          "text": [
            "Enter the number : 3\n",
            "Sum  is :6\n"
          ]
        }
      ],
      "source": [
        "# 17.  factorialsum.py\n",
        "\n",
        "def sum(n):\n",
        "  s = 0\n",
        "  if n == 1:\n",
        "    return 1\n",
        "  s = n+sum(n-1)\n",
        "  return s\n",
        "no=int(input(\"Enter the number : \"))\n",
        "total = sum(no)\n",
        "print(f\"Sum  is {total}\")\n",
        "\n"
      ]
    },
    {
      "cell_type": "code",
      "execution_count": null,
      "metadata": {
        "id": "fukr6wrRQTik"
      },
      "outputs": [],
      "source": [
        "# 18. digitsumfun.py\n",
        "no = int(input(\"Enter the number : \"))\n",
        "\n",
        "\n",
        "def  digit_sum(n):\n",
        "\tif n==0:\n",
        "\t\treturn 0\n",
        "\td = n%10\n",
        "\ts = d+digit_sum(n//10)\n",
        "\treturn s\n",
        "sum = digit_sum(no)\n",
        "print(\"sum of digits : \",sum)"
      ]
    },
    {
      "cell_type": "code",
      "execution_count": null,
      "metadata": {
        "id": "sU2Il8CxvaVn"
      },
      "outputs": [],
      "source": [
        "# 19. contactbook.py\n",
        "\n",
        "print(\"1.Add a contact \")\n",
        "print(\"2.Delete a contact\")\n",
        "print(\"3.Edit a contact \")\n",
        "print(\"4.Search a contact\")\n",
        "print(\"5.List all contacts\")\n",
        "print(\"6.Exit\")\n",
        "contactbook={}\n",
        "choice=int(input(\"Enter your choice \"))\n",
        "while choice!=6:\n",
        "\tif choice==1:\n",
        "\t\tname=input(\"Enter the name : \")\n",
        "\t\tphno=int(input(\"Enter the phone number : \"))\n",
        "\t\tcontactbook[name]=phno\n",
        "\t\tprint(\"1 contact added successfully\")\n",
        "\telif choice==2:\n",
        "\t\tname=input(\"enter the name of contact to delete :\")\n",
        "\t\tcontactbook.pop(name)\n",
        "\t\tprint(\"1 contact deleted succefully\")\n",
        "\telif choice==3:\n",
        "\t\tname=input(\"enter the name of contact to edit :\")\n",
        "\t\tphno=int(input(\"Enter the phone number : \"))\n",
        "\t\tcontactbook[name]=phno\n",
        "\t\tprint(\"contact edited successfully\")\n",
        "\telif choice==4:\n",
        "\t\tname=input(\"enter the name :\")\n",
        "\t\tprint(\"Phone Number of \",name,\" : \",contactbook[name])\n",
        "\telif choice==5:\n",
        "\t\tprint(\"Name\\t\\t Phone Number\")\n",
        "\t\tfor x,y in contactbook.items():\n",
        "\t\t\tprint(x,\"\\t\\t\",y)\n",
        "\telse:\n",
        "\t\tprint(\"Invalid choice !!!\")\n",
        "\tchoice=int(input(\"Enter your choice \"))"
      ]
    },
    {
      "cell_type": "code",
      "execution_count": null,
      "metadata": {
        "id": "RxWBEr68yPR1"
      },
      "outputs": [],
      "source": [
        "# 20. dictionary.py\n",
        "\n",
        "student.get(\"name\") =>kiran\n",
        "student.keys() =>[name,age,mark1,mark2]\n",
        "student.values() =>[\"Kiran\",25,76,85]\n",
        "student.items()=[(name:\"Kiran\"),(age:25),(mark1:76),(mark2:85)]\n",
        "\n",
        "student[\"name\"]=\"Manu\"\n",
        "student[\"phone\"]=958744123\n",
        "student.update({\"name\":\"Mohan\"})\n",
        "student.update({\"Address\":\"Kottayam\"})\n",
        "\n",
        "student.pop(\"name\")\n",
        "student.popitems()\n",
        "del student[\"name\"]\n",
        "del student\n",
        "student.clear()\n",
        "candidate=student.copy()\n",
        "candidate=dict(student)\n",
        "print(student) =>{name:kiran,age:25....}"
      ]
    },
    {
      "cell_type": "code",
      "execution_count": null,
      "metadata": {
        "id": "siXICtmFv8fl"
      },
      "outputs": [],
      "source": [
        "# 21. dicfunctions.py\n",
        "\n",
        "bus={\n",
        "\t\"Routeno\":5,\n",
        "\t\"Driver\":\"kiran\",\n",
        "\t\"Cleaner\":\"Manu\",\n",
        "\t\"points\":[\"karamana\",\"PMG\",\"pattom\"]\n",
        "}\n",
        "\n",
        "print(bus[\"Driver\"])=>\"Kiran\"\n",
        "print(bus.get(\"Driver\")) =>\"Kiran\"\n",
        "bus.keys()=>[\"Routeno\",\"Driver\",\"Cleaner\",\"points\"]\n",
        "bus.values()=>[5,\"Kiran\",\"Manu\",[\"karamana\",\"PMG\",\"Pattom\"]]\n",
        "bus.items()=>[{\"Routeno\":5},]\n",
        "bus[\"color\"]=\"Red\"\n",
        "bus.update(\"Fare\")=1500\n",
        "bus[\"Driver\"]=\"Mohan\"\n",
        "bus.pop(\"fare\")\n",
        "bus.popitem()\n",
        "del bus[\"Fare\"]\n",
        "del bus\n",
        "bus.clear()\n",
        "\n",
        "for x in bus:\n",
        "\tprint(x)\t=>Routeno Driver Cleaner points\n",
        "for x in bus:\n",
        "\tprint(bus[x])\t=>5 kiran Manu [\"karamana\",\"PMG\",\"Pattom\"]"
      ]
    },
    {
      "cell_type": "code",
      "execution_count": null,
      "metadata": {
        "colab": {
          "base_uri": "https://localhost:8080/"
        },
        "id": "s5ma7qAVwEkz",
        "outputId": "7402859b-0c44-4f32-e48b-0349d4fad335"
      },
      "outputs": [
        {
          "name": "stdout",
          "output_type": "stream",
          "text": [
            "Enter the number of contacts : 1\n",
            "Enter the contact name :anu\n",
            "Enter the phone number :7363728916\n",
            "Keys\n",
            "anu\n",
            "Values\n",
            "7363728916\n",
            "Keys-value pairs\n",
            "anu - 7363728916\n"
          ]
        }
      ],
      "source": [
        "# 22. dictionarydemo.py\n",
        "\n",
        "contactlist = {}\n",
        "n = int(input(\"Enter the number of contacts : \"))\n",
        "for i in range(1,n+1):\n",
        "\tname = input(\"Enter the contact name :\")\n",
        "\tphno = int(input(\"Enter the phone number :\"))\n",
        "\tcontactlist[name] = phno\n",
        "print(\"Keys\")\n",
        "for x in contactlist.keys():\n",
        "\tprint(x)\n",
        "print(\"Values\")\n",
        "for x in contactlist.values():\n",
        "\tprint(x)\n",
        "print(\"Keys-value pairs\")\n",
        "for x,y in contactlist.items():\n",
        "\tprint(x,\"-\",y)"
      ]
    },
    {
      "cell_type": "code",
      "execution_count": null,
      "metadata": {
        "colab": {
          "base_uri": "https://localhost:8080/"
        },
        "id": "615mHOqWwMQn",
        "outputId": "2eac4043-e924-4866-b664-4ae9be468bcd"
      },
      "outputs": [
        {
          "name": "stdout",
          "output_type": "stream",
          "text": [
            "Enter any number3000\n",
            "The number is :  3000\n",
            "The number Name is :  Three Thousands Zero Humdreds Zero Tens Zero Ones\n"
          ]
        }
      ],
      "source": [
        "# 23. dictnumber.py\n",
        "\n",
        "numberNames={0:'Zero',1:'One',2:'Two',3:'Three',4:'Four',5:'Five',6:'Six',7:'Seven',8:'Eight',9:'Nine'}\n",
        "positionvalues={0:'Ones',1:'Tens',2:'Humdreds',3:'Thousands',4:'Ten Thousands',5:'Lakhs',6:'Ten Lakhs',7:'Crore',8:'Ten Crores',9:'Hundred Crores'}\n",
        "num=input(\"Enter any number\")\n",
        "result=''\n",
        "l=len(num)-1\n",
        "for ch in num:\n",
        "\tkey=int(ch)\n",
        "\tvalue=numberNames[key]\n",
        "\tresult=result + ' ' + value+' '+ positionvalues[l]\n",
        "\tl-=1\n",
        "print(\"The number is : \",num)\n",
        "print(\"The number Name is :\",result)"
      ]
    },
    {
      "cell_type": "code",
      "execution_count": null,
      "metadata": {
        "colab": {
          "base_uri": "https://localhost:8080/"
        },
        "id": "7nl5li2rwSJT",
        "outputId": "40bedaf5-21a9-4f03-e547-f72bb604a7b6"
      },
      "outputs": [
        {
          "name": "stdout",
          "output_type": "stream",
          "text": [
            "Enter the number of units consumed : 50\n",
            "Amount to be paid :  25.0\n"
          ]
        }
      ],
      "source": [
        "# 24. ebillelif.py\n",
        "\n",
        "u=int(input(\"Enter the number of units consumed : \"))\n",
        "if u<=100:\n",
        "\tamount=u*0.5\n",
        "elif u>100 and u<=150:\n",
        "\tamount=(100*0.5)+(u-100)*0.75\n",
        "elif u>150 and u<=200:\n",
        "\tamount=(100*0.5)+(50*0.75)+(u-150)*1\n",
        "else:\n",
        "\tamount=(100*0.5)+(50*0.75)+(50*1)+(u-200)*2\n",
        "print(\"Amount to be paid : \",amount)\n",
        "\n"
      ]
    },
    {
      "cell_type": "code",
      "execution_count": null,
      "metadata": {
        "colab": {
          "base_uri": "https://localhost:8080/"
        },
        "id": "Mut3lsc3wawf",
        "outputId": "b58869d9-26c5-486a-8d28-f91ae010859b"
      },
      "outputs": [
        {
          "name": "stdout",
          "output_type": "stream",
          "text": [
            "Enter the type of connection : commercial\n",
            "Enter the units consumed : 70\n",
            "Tarriff\t:  210\n"
          ]
        }
      ],
      "source": [
        "# 25. electrictybill_type.py\n",
        "\n",
        "type=input(\"Enter the type of connection : \")\n",
        "u=int(input(\"Enter the units consumed : \"))\n",
        "charge=0\n",
        "if type==\"domestic\":\n",
        "\tif u<=100:\n",
        "\t\tcharge=u*1\n",
        "\telif u<150:\n",
        "\t\tcharge=(100*1)+(u-100)*1.5\n",
        "\telif u<=200:\n",
        "\t\tcharge=(100*1)+(50*1.5)+(u-150)*2\n",
        "\telse:\n",
        "\t\tcharge=(100*1)+(50*1.5)+(50*2)+(u-200)*3\n",
        "elif type==\"commercial\":\n",
        "\tif u<=100:\n",
        "\t\tcharge=u*3\n",
        "\telif u<150:\n",
        "\t\tcharge=(100*3)+(u-100)*4\n",
        "\telif u<=200:\n",
        "\t\tcharge=(100*3)+(50*4)+(u-150)*6\n",
        "\telse:\n",
        "\t\tcharge=(100*3)+(50*4)+(50*6)+(u-200)*10\n",
        "else:\n",
        "\tprint(\"Invalid connection type \")\n",
        "print(\"Tarriff\t: \",charge)"
      ]
    },
    {
      "cell_type": "code",
      "execution_count": null,
      "metadata": {
        "colab": {
          "background_save": true,
          "base_uri": "https://localhost:8080/"
        },
        "id": "cT9wbTjFsVCZ",
        "outputId": "9e73d4c7-26b7-4462-8ed7-f564dbdb7856"
      },
      "outputs": [
        {
          "name": "stdout",
          "output_type": "stream",
          "text": [
            " 1. Add contact\n",
            " 2. Search contact\n",
            " 3. Update contact\n",
            " 4. Display number\n",
            " 5. Delete number\n",
            " 6. Exit\n"
          ]
        }
      ],
      "source": [
        "# Phone book\n",
        "\n",
        "print(\" 1. Add contact\")\n",
        "print(\" 2. Search contact\")\n",
        "print(\" 3. Update contact\")\n",
        "print(\" 4. Display number\")\n",
        "print(\" 5. Delete number\")\n",
        "print(\" 6. Exit\")\n",
        "\n",
        "phone_book = {}\n",
        "choice = int(input(\"Enter the choice:\"))\n",
        "while choice!= 6:\n",
        "  if choice==1:\n",
        "    def add():\n",
        "      name         = input(\"Enter the name: \")\n",
        "      print(\" You entered name is not  present in the\", phone_book)\n",
        "      phone_number = int(input(\"Enter the phone number: \"))\n",
        "      phone_book[name] = phone_number\n",
        "      print(\" 1 Contact added succesfully\")\n",
        "  elif choice==2:\n",
        "    def search():\n",
        "      name = input(\"Enter the search name :\")\n",
        "      if name in phone_book:\n",
        "        print(\"The name is not present in the phone_book\")\n",
        "      print( \"Name\" , name)\n",
        "      print(\"Phone number\" , phone_number)\n",
        "  elif choice==3:\n",
        "    def update():\n",
        "      name = input(\"Enter the name of contact to update :\")\n",
        "      phone_number = int(input(\"Enter the phone number : \"))\n",
        "      phone_book[name] = phone_number\n",
        "  elif choice==4:\n",
        "    def display():\n",
        "      print(phone_book)\n",
        "  elif choice==5:\n",
        "    def delete():\n",
        "      name = input(\"Enter the name of contact to delete :\")\n",
        "      phone_book.pop(name)\n",
        "      print(\"1 contact deleted succefully\")\n",
        "  else:\n",
        "    def exit():\n",
        "      print(\"Invalid choice !!!\")\n",
        "  choice = int(input(\"Enter your choice: \"))\n",
        "\n"
      ]
    },
    {
      "cell_type": "code",
      "execution_count": null,
      "metadata": {
        "colab": {
          "base_uri": "https://localhost:8080/"
        },
        "id": "AMnTjbXU2fQ2",
        "outputId": "9913f67b-cd43-4dc9-a9b6-ffff1a6a6fee"
      },
      "outputs": [
        {
          "name": "stdout",
          "output_type": "stream",
          "text": [
            "Enter the marks for physics: 50\n",
            "Enter the marks for chemistry: 85\n",
            "Enter the marks for maths: 65\n",
            "His grade is  B\n"
          ]
        }
      ],
      "source": [
        "#  PART 1 :\n",
        "#1. grade elif.py\n",
        "\n",
        "m1=int(input(\"Enter the marks for physics: \"))\n",
        "m2=int(input(\"Enter the marks for chemistry: \"))\n",
        "m3=int(input(\"Enter the marks for maths: \"))\n",
        "p=(m1+m2+m3)*100/300\n",
        "if p>=90:\n",
        "\tgrade=\"A+\"\n",
        "elif p<90 and p>=80:\n",
        "\tgrade=\"A\"\n",
        "elif p<80 and p>=70:\n",
        "\tgrade=\"B+\"\n",
        "elif p<70 and p>=60:\n",
        "\tgrade=\"B\"\n",
        "elif p<60 and p>=50:\n",
        "\tgrade=\"C\"\n",
        "else:\n",
        "\tgrade=\"Failed\"\n",
        "print(\"His grade is \",grade)"
      ]
    },
    {
      "cell_type": "code",
      "execution_count": null,
      "metadata": {
        "colab": {
          "base_uri": "https://localhost:8080/"
        },
        "id": "V-BVrzGL3I9V",
        "outputId": "4a86127d-93eb-4468-c441-27467db987f8"
      },
      "outputs": [
        {
          "name": "stdout",
          "output_type": "stream",
          "text": [
            "Enter the marks for physics: 50\n",
            "Enter the marks for chemistry: 75\n",
            "Enter the marks for maths: 30\n",
            "His grade is  Failed\n"
          ]
        }
      ],
      "source": [
        "# 2. gradenestedif.py\n",
        "\n",
        "m1=int(input(\"Enter the marks for physics: \"))\n",
        "m2=int(input(\"Enter the marks for chemistry: \"))\n",
        "m3=int(input(\"Enter the marks for maths: \"))\n",
        "if m1>=50 and m2>=50 and m3>=50:\n",
        "\tp=(m1+m2+m3)*100/300\n",
        "\tif p>=90:\n",
        "\t\tgrade=\"A+\"\n",
        "\telif p<90 and p>=80:\n",
        "\t\tgrade=\"A\"\n",
        "\telif p<80 and p>=70:\n",
        "\t\tgrade=\"B+\"\n",
        "\telif p<70 and p>=60:\n",
        "\t\tgrade=\"B\"\n",
        "\telse:\n",
        "\t\tgrade=\"C\"\n",
        "else:\n",
        "\tgrade=\"Failed\"\n",
        "print(\"His grade is \",grade)"
      ]
    },
    {
      "cell_type": "code",
      "execution_count": null,
      "metadata": {
        "colab": {
          "base_uri": "https://localhost:8080/"
        },
        "id": "LbTIGWsX3MWt",
        "outputId": "8a903f63-3861-4106-f856-eb3b9e491a9b"
      },
      "outputs": [
        {
          "name": "stdout",
          "output_type": "stream",
          "text": [
            "Enter principle amount: 50\n",
            "Enter the duration in years: 2\n",
            "Interest :  8.0\n"
          ]
        }
      ],
      "source": [
        "# 3. interestifelse.py\n",
        "\n",
        "p=int(input(\"Enter principle amount: \"))\n",
        "n=int(input(\"Enter the duration in years: \"))\n",
        "if n>=10:\n",
        "\tr=12\n",
        "else:\n",
        "\tr=8\n",
        "i=p*r*n/100\n",
        "print(\"Interest : \",i)"
      ]
    },
    {
      "cell_type": "code",
      "execution_count": null,
      "metadata": {
        "colab": {
          "base_uri": "https://localhost:8080/"
        },
        "id": "dGeFCz3M3YuU",
        "outputId": "7390109c-15e9-4ea1-b635-a401a977d18d"
      },
      "outputs": [
        {
          "name": "stdout",
          "output_type": "stream",
          "text": [
            "Enter the number of elements : 5\n",
            "Enter the elements : \n",
            "8\n",
            "8\n",
            "6\n",
            "4\n",
            "0\n",
            "List elements are : \n",
            "8\n",
            "8\n",
            "6\n",
            "4\n",
            "0\n"
          ]
        }
      ],
      "source": [
        "# 4. list.py\n",
        "\n",
        "a=[]\n",
        "n= int(input(\"Enter the number of elements : \"))\n",
        "print(\"Enter the elements : \")\n",
        "for i in range(0,n):\n",
        "\tk=int(input())\n",
        "\ta.append(k)\n",
        "print(\"List elements are : \")\n",
        "for i in range(0,n):\n",
        "\tprint(a[i])"
      ]
    },
    {
      "cell_type": "code",
      "execution_count": null,
      "metadata": {
        "colab": {
          "base_uri": "https://localhost:8080/"
        },
        "id": "jH8ol0j93i4_",
        "outputId": "ab4e7082-fdc0-403b-95da-a595c8260f1d"
      },
      "outputs": [
        {
          "name": "stdout",
          "output_type": "stream",
          "text": [
            "Enter the number of elements : 3\n",
            "Enter the elements : \n",
            "2\n",
            "3\n",
            "4\n",
            "Biggest :  4\n"
          ]
        }
      ],
      "source": [
        "# 5. listbig.py\n",
        "\n",
        "a=[]\n",
        "n= int(input(\"Enter the number of elements : \"))\n",
        "print(\"Enter the elements : \")\n",
        "for i in range(0,n):\n",
        "\tk=int(input())\n",
        "\ta.append(k)\n",
        "big=a[0]\n",
        "for i in range(1,n):\n",
        "\tif a[i]>big:\n",
        "\t\tbig=a[i]\n",
        "print(\"Biggest : \",big)"
      ]
    },
    {
      "cell_type": "code",
      "execution_count": null,
      "metadata": {
        "colab": {
          "base_uri": "https://localhost:8080/"
        },
        "id": "onCjcnsb4R_r",
        "outputId": "913386e0-40c5-404c-9d8d-422657ee3e38"
      },
      "outputs": [
        {
          "name": "stdout",
          "output_type": "stream",
          "text": [
            "Enter the number of elements : 3\n",
            "Enter the elements in ascending order : \n",
            "1\n",
            "2\n",
            "3\n",
            "Enter the element to search : 3\n",
            "3 found at index  2\n"
          ]
        }
      ],
      "source": [
        "# 6. listbinarysearch.py\n",
        "\n",
        "a=[]\n",
        "n= int(input(\"Enter the number of elements : \"))\n",
        "print(\"Enter the elements in ascending order : \")\n",
        "for i in range(0,n):\n",
        "\tk=int(input())\n",
        "\ta.append(k)\n",
        "key=int(input(\"Enter the element to search : \"))\n",
        "l=0\n",
        "u=n-1\n",
        "while l<=u:\n",
        "\tmid=(l+u)//2\n",
        "\tif a[mid]==key:\n",
        "\t\tprint(key,\"found at index \",mid)\n",
        "\t\tbreak\n",
        "\telif a[mid]>key:\n",
        "\t\tu=mid-1\n",
        "\telse:\n",
        "\t\tl=mid+1\n",
        "else:\n",
        "\tprint(key,\"not in the list \")\n"
      ]
    },
    {
      "cell_type": "code",
      "execution_count": null,
      "metadata": {
        "colab": {
          "base_uri": "https://localhost:8080/"
        },
        "id": "rUzrhAsP4oX9",
        "outputId": "c4bad56e-895b-4414-c384-e9de1087d628"
      },
      "outputs": [
        {
          "name": "stdout",
          "output_type": "stream",
          "text": [
            "not ok\n"
          ]
        }
      ],
      "source": [
        "# 7.listcompr.py\n",
        "\n",
        "a=[10,20,30,40]\n",
        "b=[10,20,30,50]\n",
        "if a==b:\n",
        "\tprint(\"ok\")\n",
        "else:\n",
        "\tprint(\"not ok\")"
      ]
    },
    {
      "cell_type": "code",
      "execution_count": null,
      "metadata": {
        "colab": {
          "base_uri": "https://localhost:8080/"
        },
        "id": "spktULMc4sOc",
        "outputId": "058b1677-63d1-42a1-b4b5-3f853f6ae163"
      },
      "outputs": [
        {
          "name": "stdout",
          "output_type": "stream",
          "text": [
            "Enter the number of elements : 3\n",
            "Enter the elements : \n",
            "2\n",
            "2\n",
            "4\n",
            "Enter the element to count : 2\n",
            "2  occured  2  times\n"
          ]
        }
      ],
      "source": [
        "# 8 listcount.py\n",
        "\n",
        "a=[]\n",
        "n= int(input(\"Enter the number of elements : \"))\n",
        "print(\"Enter the elements : \")\n",
        "for i in range(0,n):\n",
        "\tk=int(input())\n",
        "\ta.append(k)\n",
        "count=0\n",
        "ele=int(input(\"Enter the element to count : \"))\n",
        "for x in a:\n",
        "\tif x==ele:\n",
        "\t\tcount+=1\n",
        "print(ele,\" occured \",count,\" times\")"
      ]
    },
    {
      "cell_type": "code",
      "execution_count": null,
      "metadata": {
        "colab": {
          "base_uri": "https://localhost:8080/"
        },
        "id": "fEYewUGN4syZ",
        "outputId": "396b78a4-3535-4605-b078-916bcb449abf"
      },
      "outputs": [
        {
          "name": "stdout",
          "output_type": "stream",
          "text": [
            "Enter the number of elements : 4\n",
            "Enter the elements : \n",
            "2\n",
            "2\n",
            "3\n",
            "4\n",
            "Enter the index : 1\n",
            "List elements are : \n",
            "2\n",
            "3\n",
            "4\n"
          ]
        }
      ],
      "source": [
        "# 9.listdelete.py\n",
        "\n",
        "a=[]\n",
        "n= int(input(\"Enter the number of elements : \"))\n",
        "print(\"Enter the elements : \")\n",
        "for i in range(0,n):\n",
        "\tk=int(input())\n",
        "\ta.append(k)\n",
        "index=int(input(\"Enter the index : \"))\n",
        "for i in range(index,n-1):\n",
        "\ta[i]=a[i+1]\n",
        "n=n-1\n",
        "print(\"List elements are : \")\n",
        "for i in range(0,n):\n",
        "\tprint(a[i])"
      ]
    },
    {
      "cell_type": "code",
      "execution_count": null,
      "metadata": {
        "colab": {
          "base_uri": "https://localhost:8080/"
        },
        "id": "WXKdry0I4s_2",
        "outputId": "8ff37500-b010-49f9-9e2f-5a34279cb940"
      },
      "outputs": [
        {
          "name": "stdout",
          "output_type": "stream",
          "text": [
            "Enter the number of elements : 4\n",
            "Enter the elements : \n",
            "3\n",
            "2\n",
            "1\n",
            "6\n",
            "[3, 2, 1, 6]\n"
          ]
        }
      ],
      "source": [
        "# 10. listduplicate.py\n",
        "\n",
        "a=[]\n",
        "n= int(input(\"Enter the number of elements : \"))\n",
        "print(\"Enter the elements : \")\n",
        "for i in range(0,n):\n",
        "\tk=int(input())\n",
        "\ta.append(k)\n",
        "i=0\n",
        "while i<n-1:\n",
        "\tj=i+1\n",
        "\twhile j<n:\n",
        "\t\tif a[i]==a[j]:\n",
        "\t\t\ta.pop(j)\n",
        "\t\t\tn=n-1\n",
        "\t\telse:\n",
        "\t\t\tj+=1\n",
        "\ti+=1\n",
        "print(a)"
      ]
    },
    {
      "cell_type": "code",
      "execution_count": null,
      "metadata": {
        "colab": {
          "base_uri": "https://localhost:8080/"
        },
        "id": "Fol1dFMM4tMD",
        "outputId": "7825dd24-a052-4a37-aced-f7a55b597012"
      },
      "outputs": [
        {
          "name": "stdout",
          "output_type": "stream",
          "text": [
            "Enter the number of elements : 3\n",
            "7\n",
            "3\n",
            "8\n",
            "[8, 3, 7]\n"
          ]
        }
      ],
      "source": [
        "# 11.listduplicateset.py\n",
        "\n",
        "a=[]\n",
        "n=int(input(\"Enter the number of elements : \"))\n",
        "for i in range(0,n):\n",
        "\tk=int(input())\n",
        "\ta.append(k)\n",
        "b=set(a)\n",
        "a=list(b)\n",
        "print(a)"
      ]
    },
    {
      "cell_type": "code",
      "execution_count": null,
      "metadata": {
        "colab": {
          "base_uri": "https://localhost:8080/"
        },
        "id": "TcbK5Zhc5EZC",
        "outputId": "2df1705b-edb7-4870-86b7-596c16c03b73"
      },
      "outputs": [
        {
          "name": "stdout",
          "output_type": "stream",
          "text": [
            "Enter the number of elements : 4\n",
            "Enter the elements : \n",
            "2\n",
            "1\n",
            "3\n",
            "6\n",
            "Enter the element to count : 6\n",
            "6  occured  1  times\n"
          ]
        }
      ],
      "source": [
        "# 12. listelementcount.py\n",
        "\n",
        "a=[]\n",
        "n= int(input(\"Enter the number of elements : \"))\n",
        "print(\"Enter the elements : \")\n",
        "for i in range(0,n):\n",
        "\tk=int(input())\n",
        "\ta.append(k)\n",
        "no=int(input(\"Enter the element to count : \"))\n",
        "count=0\n",
        "for i in range(0,n):\n",
        "\tif a[i]==no:\n",
        "\t\tcount+=1\n",
        "if count==0:\n",
        "\tprint(no,\" not in the list\")\n",
        "else:\n",
        "\tprint(no,\" occured \",count,\" times\")"
      ]
    },
    {
      "cell_type": "code",
      "execution_count": null,
      "metadata": {
        "colab": {
          "base_uri": "https://localhost:8080/"
        },
        "id": "mSfn2G_z5EiO",
        "outputId": "b2312aec-da55-460b-ce37-e4f8533d1234"
      },
      "outputs": [
        {
          "name": "stdout",
          "output_type": "stream",
          "text": [
            "Enter the number of elements : 3\n",
            "Enter the elements : \n",
            "2\n",
            "4\n",
            "5\n",
            "2\n",
            "4\n"
          ]
        }
      ],
      "source": [
        "# 13. listeven.py\n",
        "\n",
        "a=[]\n",
        "n= int(input(\"Enter the number of elements : \"))\n",
        "print(\"Enter the elements : \")\n",
        "for i in range(0,n):\n",
        "\tk=int(input())\n",
        "\ta.append(k)\n",
        "for i in range(0,n):\n",
        "\tif a[i]%2==0:\n",
        "\t\tprint(a[i])\n"
      ]
    },
    {
      "cell_type": "code",
      "execution_count": null,
      "metadata": {
        "colab": {
          "base_uri": "https://localhost:8080/"
        },
        "id": "QNpc5fsw5EqN",
        "outputId": "5b9263f1-ec74-4100-b63f-4203ab76d4ad"
      },
      "outputs": [
        {
          "name": "stdout",
          "output_type": "stream",
          "text": [
            "Enter the number of elements : 3\n",
            "Enter the elements : \n",
            "4\n",
            "6\n",
            "8\n",
            "sum is :  18\n"
          ]
        }
      ],
      "source": [
        "# 14. listevensum.py\n",
        "\n",
        "a=[]\n",
        "n= int(input(\"Enter the number of elements : \"))\n",
        "print(\"Enter the elements : \")\n",
        "for i in range(0,n):\n",
        "\tk=int(input())\n",
        "\ta.append(k)\n",
        "s=0\n",
        "for i in range(0,n):\n",
        "\tif a[i]%2==0:\n",
        "\t\ts=s+a[i]\n",
        "print(\"sum is : \",s)"
      ]
    },
    {
      "cell_type": "code",
      "execution_count": null,
      "metadata": {
        "colab": {
          "base_uri": "https://localhost:8080/"
        },
        "id": "gAdE7kgM5Ex4",
        "outputId": "165326a0-c6de-479d-cf3a-bb4f305457c6"
      },
      "outputs": [
        {
          "name": "stdout",
          "output_type": "stream",
          "text": [
            "Enter the number of elements : 4\n",
            "Enter the elements : \n",
            "3\n",
            "2\n",
            "1\n",
            "6\n",
            "Enter the element to insert7\n",
            "Enter the index : 0\n",
            "List elements are : \n",
            "7\n",
            "3\n",
            "2\n",
            "1\n",
            "6\n"
          ]
        }
      ],
      "source": [
        "# 15. listinsert.py\n",
        "\n",
        "a=[]\n",
        "n= int(input(\"Enter the number of elements : \"))\n",
        "print(\"Enter the elements : \")\n",
        "for i in range(0,n):\n",
        "\tk=int(input())\n",
        "\ta.append(k)\n",
        "a.append(0)\n",
        "element=int(input(\"Enter the element to insert\"))\n",
        "index=int(input(\"Enter the index : \"))\n",
        "for i in range(n,index,-1):\n",
        "\ta[i]=a[i-1]\n",
        "a[index]=element\n",
        "print(\"List elements are : \")\n",
        "for i in range(0,n+1):\n",
        "\tprint(a[i])"
      ]
    },
    {
      "cell_type": "code",
      "execution_count": null,
      "metadata": {
        "colab": {
          "base_uri": "https://localhost:8080/"
        },
        "id": "ucaK8vzA5k39",
        "outputId": "781696dd-76cb-427e-d2be-fe0373c7f6a1"
      },
      "outputs": [
        {
          "name": "stdout",
          "output_type": "stream",
          "text": [
            "[10, 20, 30, 40, [41, 42, 43], 50, 60, 70]\n",
            "[10, 20, 30, 40, [41, 42, 43], 50, 65, 60, 70]\n",
            "9\n"
          ]
        }
      ],
      "source": [
        "# 16. listinsertfun.py\n",
        "\n",
        "\n",
        "a=[10,20,30,40,50,60,70]\n",
        "b=[41,42,43]\n",
        "a.insert(4,b)\n",
        "print(a)\n",
        "a.insert(6,65)\n",
        "print(a)\n",
        "print(len(a))\n"
      ]
    },
    {
      "cell_type": "code",
      "execution_count": null,
      "metadata": {
        "colab": {
          "base_uri": "https://localhost:8080/"
        },
        "id": "CMtuGkZQ5k9v",
        "outputId": "e915aa78-e4f2-465b-dfd5-459a362e8294"
      },
      "outputs": [
        {
          "name": "stdout",
          "output_type": "stream",
          "text": [
            "Enter the number of elements in first list: 3\n",
            "Enter the elements : \n",
            "3\n",
            "7\n",
            "9\n",
            "Enter the number of elements in second list : 2\n",
            "Enter the elements : \n",
            "9\n",
            "0\n",
            "Enter the index : 0\n",
            "List elements are : \n",
            "9\n",
            "0\n",
            "3\n",
            "7\n",
            "9\n"
          ]
        }
      ],
      "source": [
        "# 17.listinsertlist.py\n",
        "\n",
        "a=[]\n",
        "n= int(input(\"Enter the number of elements in first list: \"))\n",
        "print(\"Enter the elements : \")\n",
        "for i in range(0,n):\n",
        "\tk=int(input())\n",
        "\ta.append(k)\n",
        "b=[]\n",
        "m= int(input(\"Enter the number of elements in second list : \"))\n",
        "print(\"Enter the elements : \")\n",
        "for i in range(0,m):\n",
        "\tk=int(input())\n",
        "\tb.append(k)\n",
        "\ta.append(0)\n",
        "index=int(input(\"Enter the index : \"))\n",
        "for i in range(n-1,index-1,-1):\n",
        "\ta[i+m]=a[i]\n",
        "for i in range(0,m):\n",
        "\ta[index+i]=b[i]\n",
        "print(\"List elements are : \")\n",
        "for i in range(0,m+n):\n",
        "\tprint(a[i])\n"
      ]
    },
    {
      "cell_type": "code",
      "execution_count": null,
      "metadata": {
        "colab": {
          "base_uri": "https://localhost:8080/"
        },
        "id": "x3mTuFE45lDs",
        "outputId": "890a91f5-631c-4419-af63-b001a3270867"
      },
      "outputs": [
        {
          "name": "stdout",
          "output_type": "stream",
          "text": [
            "Enter the number of elements : 3\n",
            "Enter the elements : \n",
            "6\n",
            "3\n",
            "1\n",
            "Enter the index : 0\n",
            "Enter the number of elements to be deleted : 1\n",
            "List elements are : \n",
            "3\n",
            "1\n"
          ]
        }
      ],
      "source": [
        "# 18.listndelete.py\n",
        "\n",
        "a=[]\n",
        "n= int(input(\"Enter the number of elements : \"))\n",
        "print(\"Enter the elements : \")\n",
        "for i in range(0,n):\n",
        "\tk=int(input())\n",
        "\ta.append(k)\n",
        "index=int(input(\"Enter the index : \"))\n",
        "dn=int(input(\"Enter the number of elements to be deleted : \"))\n",
        "for i in range(index+dn,n):\n",
        "\ta[i-dn]=a[i]\n",
        "n=n-dn\n",
        "print(\"List elements are : \")\n",
        "for i in range(0,n):\n",
        "\tprint(a[i])"
      ]
    },
    {
      "cell_type": "code",
      "execution_count": null,
      "metadata": {
        "colab": {
          "base_uri": "https://localhost:8080/"
        },
        "id": "RW37BnNL5lJO",
        "outputId": "38e9184b-6316-469b-db87-2f10cea2215b"
      },
      "outputs": [
        {
          "name": "stdout",
          "output_type": "stream",
          "text": [
            "Enter the number of elements : 3\n",
            "Enter the elements : \n",
            "44\n",
            "5\n",
            "2\n",
            "List elements are : \n",
            "44\n",
            "5\n",
            "2\n",
            "EVEN LIST\n",
            "44\n",
            "2\n",
            "ODD LIST\n",
            "5\n"
          ]
        }
      ],
      "source": [
        "# 19. listoddeven.py\n",
        "\n",
        "a=[]\n",
        "n= int(input(\"Enter the number of elements : \"))\n",
        "print(\"Enter the elements : \")\n",
        "for i in range(0,n):\n",
        "\tk=int(input())\n",
        "\ta.append(k)\n",
        "print(\"List elements are : \")\n",
        "for i in range(0,n):\n",
        "\tprint(a[i])\n",
        "odd=[]\n",
        "even=[]\n",
        "for i in range(0,n):\n",
        "\tif a[i]%2==0:\n",
        "\t\teven.append(a[i])\n",
        "\telse:\n",
        "\t\todd.append(a[i])\n",
        "print(\"EVEN LIST\")\n",
        "for x in even:\n",
        "\tprint(x)\n",
        "print(\"ODD LIST\")\n",
        "for x in odd:\n",
        "\tprint(x)\n"
      ]
    },
    {
      "cell_type": "code",
      "execution_count": null,
      "metadata": {
        "colab": {
          "base_uri": "https://localhost:8080/"
        },
        "id": "_XGEPmcq5lPK",
        "outputId": "dbff0d85-dfbd-4a40-973d-331286ff24c7"
      },
      "outputs": [
        {
          "name": "stdout",
          "output_type": "stream",
          "text": [
            "Enter the number of elements : 3\n",
            "Enter the elements : \n",
            "55\n",
            "41\n",
            "12\n",
            "sum is :  96\n"
          ]
        }
      ],
      "source": [
        "# 20.\n",
        "a=[]\n",
        "n= int(input(\"Enter the number of elements : \"))\n",
        "print(\"Enter the elements : \")\n",
        "for i in range(0,n):\n",
        "\tk=int(input())\n",
        "\ta.append(k)\n",
        "s=0\n",
        "for i in range(0,n):\n",
        "\tif a[i]%2!=0:\n",
        "\t\ts=s+a[i]\n",
        "print(\"sum is : \",s)"
      ]
    },
    {
      "cell_type": "code",
      "execution_count": null,
      "metadata": {
        "colab": {
          "base_uri": "https://localhost:8080/"
        },
        "id": "yDCANeaW5lUL",
        "outputId": "c070330e-de98-4ce3-de2b-8bf056b1946b"
      },
      "outputs": [
        {
          "name": "stdout",
          "output_type": "stream",
          "text": [
            "Enter the number of elements : 3\n",
            "Enter the elements : \n",
            "1\n",
            "2\n",
            "3\n",
            "prime numbers are : \n",
            "2\n",
            "3\n"
          ]
        }
      ],
      "source": [
        "# 21.listprime.py\n",
        "\n",
        "a=[]\n",
        "n= int(input(\"Enter the number of elements : \"))\n",
        "print(\"Enter the elements : \")\n",
        "for i in range(0,n):\n",
        "\tk=int(input())\n",
        "\ta.append(k)\n",
        "print(\"prime numbers are : \")\n",
        "for i in range(0,n):\n",
        "\tif a[i]==1:\n",
        "\t\tcontinue\n",
        "\tfor j in range(2,a[i]):\n",
        "\t\tif a[i]%j==0:\n",
        "\t\t\tbreak\n",
        "\telse:\n",
        "\t\tprint(a[i])"
      ]
    },
    {
      "cell_type": "code",
      "execution_count": null,
      "metadata": {
        "colab": {
          "base_uri": "https://localhost:8080/"
        },
        "id": "SAHJqP106YsO",
        "outputId": "03e9e478-7e6b-47b4-8210-90c9129e5f32"
      },
      "outputs": [
        {
          "name": "stdout",
          "output_type": "stream",
          "text": [
            "Enter the number of elements : 3\n",
            "Enter the elements : \n",
            "5\n",
            "2\n",
            "3\n",
            "List elements are : \n",
            "3\n",
            "2\n",
            "5\n"
          ]
        }
      ],
      "source": [
        "# 22.listreverse.py\n",
        "a=[]\n",
        "n= int(input(\"Enter the number of elements : \"))\n",
        "print(\"Enter the elements : \")\n",
        "for i in range(0,n):\n",
        "\tk=int(input())\n",
        "\ta.append(k)\n",
        "for i in range(0,n//2):\n",
        "\tt=a[i]\n",
        "\ta[i]=a[n-i-1]\n",
        "\ta[n-i-1]=t\n",
        "print(\"List elements are : \")\n",
        "for i in range(0,n):\n",
        "\tprint(a[i])"
      ]
    },
    {
      "cell_type": "code",
      "execution_count": null,
      "metadata": {
        "colab": {
          "base_uri": "https://localhost:8080/"
        },
        "id": "3SaqzrDS6Y0e",
        "outputId": "de417d71-600c-4e7a-f902-68b4a3a7d950"
      },
      "outputs": [
        {
          "name": "stdout",
          "output_type": "stream",
          "text": [
            "Enter the number of elements : 4\n",
            "Enter the elements : \n",
            "2\n",
            "1\n",
            "3\n",
            "4\n",
            "Biggest :  4\n",
            "2nd Biggest :  3\n"
          ]
        }
      ],
      "source": [
        "# 23.listsecbig.py\n",
        "\n",
        "a=[]\n",
        "n= int(input(\"Enter the number of elements : \"))\n",
        "print(\"Enter the elements : \")\n",
        "for i in range(0,n):\n",
        "\tk=int(input())\n",
        "\ta.append(k)\n",
        "big=a[0]\n",
        "for i in range(1,n):\n",
        "\tif a[i]>big:\n",
        "\t\tbig=a[i]\n",
        "i=0\n",
        "while (1):\n",
        "\tif a[i]!=big:\n",
        "\t\tsbig=a[i]\n",
        "\t\tbreak\n",
        "\ti+=1\n",
        "for i in range(i+1,n):\n",
        "\tif a[i]<big and a[i]>sbig:\n",
        "\t\tsbig=a[i]\n",
        "print(\"Biggest : \",big)\n",
        "print(\"2nd Biggest : \",sbig)"
      ]
    },
    {
      "cell_type": "code",
      "execution_count": null,
      "metadata": {
        "id": "hetvsiTp6Y4v"
      },
      "outputs": [],
      "source": [
        "# 24. nesteddict.py\n",
        "\n",
        "student1={\"name\":\"arfan\",\"place\":\"Manacaud\",\"Blood Group\":\"O+\"}\n",
        "\n",
        "student2={\"name\":\"Jovan\",\"place\":\"Kollam\",\"Blood Group\":\"O+\"}\n",
        "\n",
        "student3={\"name\":\"Divya\",\"place\":\"palayam\",\"Blood Group\":\"A+\"}\n",
        "\n",
        "oneteam={\"intern1\":student1,\"intern2\":student2,\"intern3\":student3}\n",
        "\n",
        "oneteam={\"intern1\":{\"name\":\"arfan\",\"place\":\"Manacaud\",\"Blood Group\":\"O+\"},\"intern2\":{\"name\":\"Jovan\",\"place\":\"Kollam\",\"Blood Group\":\"O+\"},\"intern3\":{\"name\":\"Divya\",\"place\":\"palayam\",\"Blood Group\":\"A+\"}}"
      ]
    },
    {
      "cell_type": "code",
      "execution_count": null,
      "metadata": {
        "colab": {
          "base_uri": "https://localhost:8080/"
        },
        "id": "vkfenv086Y8n",
        "outputId": "9829c8b5-2780-4086-faa8-b274812e7856"
      },
      "outputs": [
        {
          "name": "stdout",
          "output_type": "stream",
          "text": [
            "Sum is  81\n"
          ]
        }
      ],
      "source": [
        "# 25. keywordarg.py\n",
        "\n",
        "def add(a,b,c):\n",
        "\treturn(a+b+c)\n",
        "s=add(c=20,a=25,b=36)\n",
        "print(\"Sum is \",s)"
      ]
    },
    {
      "cell_type": "code",
      "execution_count": null,
      "metadata": {
        "colab": {
          "base_uri": "https://localhost:8080/"
        },
        "id": "3xuFE_dB6ZAC",
        "outputId": "3950effd-57e3-4e8a-d267-6e450b1f8a36"
      },
      "outputs": [
        {
          "name": "stdout",
          "output_type": "stream",
          "text": [
            "Enter a number : 2\n",
            "Palindrome\n"
          ]
        }
      ],
      "source": [
        " # PART 3: 1. palindromefun.py\n",
        "\n",
        "def reverse(n):\n",
        "\trev=0\n",
        "\twhile n!=0:\n",
        "\t\td=n%10\n",
        "\t\trev=(rev*10)+d\n",
        "\t\tn=n//10\n",
        "\treturn rev\n",
        "no=int(input(\"Enter a number : \"))\n",
        "r=reverse(no)\n",
        "if no==r:\n",
        "\tprint(\"Palindrome\")\n",
        "else:\n",
        "\tprint(\"Not a palindrome\")"
      ]
    },
    {
      "cell_type": "code",
      "execution_count": null,
      "metadata": {
        "colab": {
          "base_uri": "https://localhost:8080/"
        },
        "id": "Fr0QxZEe7Ko7",
        "outputId": "e2881507-9fa0-431c-a72b-152a25fee6bf"
      },
      "outputs": [
        {
          "name": "stdout",
          "output_type": "stream",
          "text": [
            "Enter the coefficient of x^2 term : 4\n",
            "Enter the coefficient of x term : 5\n",
            "Enter the constant term : 2\n",
            "Roots are Imaginary\n"
          ]
        }
      ],
      "source": [
        "# 2. quadeqifelse.py\n",
        "\n",
        "a=int(input(\"Enter the coefficient of x^2 term : \"))\n",
        "b=int(input(\"Enter the coefficient of x term : \"))\n",
        "c=int(input(\"Enter the constant term : \"))\n",
        "x=b**2-(4*a*c)\n",
        "if x>=0:\n",
        "\tprint(\"Roots are real\")\n",
        "else:\n",
        "\tprint(\"Roots are Imaginary\")"
      ]
    },
    {
      "cell_type": "code",
      "execution_count": null,
      "metadata": {
        "colab": {
          "base_uri": "https://localhost:8080/"
        },
        "id": "emNfzvav7Kv1",
        "outputId": "d5a9f336-6220-4a7b-8d1c-835f772c34ab"
      },
      "outputs": [
        {
          "name": "stdout",
          "output_type": "stream",
          "text": [
            "Enter the coefficient of x^2 term : 5\n",
            "Enter the coefficient of x term : 2\n",
            "Enter the constant term : 1\n",
            "Roots are  Imaginary\n"
          ]
        }
      ],
      "source": [
        "# 3. quadeqsimif.py\n",
        "\n",
        "a=int(input(\"Enter the coefficient of x^2 term : \"))\n",
        "b=int(input(\"Enter the coefficient of x term : \"))\n",
        "c=int(input(\"Enter the constant term : \"))\n",
        "x=b**2-(4*a*c)\n",
        "roots=\"Imaginary\"\n",
        "if x>=0:\n",
        "\troots=\"Real\"\n",
        "print(\"Roots are \",roots)"
      ]
    },
    {
      "cell_type": "code",
      "execution_count": null,
      "metadata": {
        "colab": {
          "base_uri": "https://localhost:8080/"
        },
        "id": "NKRcYH9i7K0m",
        "outputId": "e773b56f-38a1-4777-9e7a-99d8fe0fa379"
      },
      "outputs": [
        {
          "name": "stdout",
          "output_type": "stream",
          "text": [
            "Enter a number : 5434\n",
            "Reverse of  5434  is  4345\n"
          ]
        }
      ],
      "source": [
        "# 5. reversefun.py\n",
        "\n",
        "def reverse(n):\n",
        "\trev=0\n",
        "\twhile n!=0:\n",
        "\t\td=n%10\n",
        "\t\trev=(rev*10)+d\n",
        "\t\tn=n//10\n",
        "\treturn rev\n",
        "n=int(input(\"Enter a number : \"))\n",
        "#r=reverse(n)\n",
        "print(\"Reverse of \",n,\" is \",reverse(n))"
      ]
    },
    {
      "cell_type": "code",
      "execution_count": null,
      "metadata": {
        "colab": {
          "base_uri": "https://localhost:8080/"
        },
        "id": "wWievcZf7K4J",
        "outputId": "e1659d2a-4f5a-441d-f56c-4b59b1d8c8fa"
      },
      "outputs": [
        {
          "name": "stdout",
          "output_type": "stream",
          "text": [
            "Enter the measurement of 1st side6\n",
            "Enter the measurement of 2nd side7\n",
            "Enter the measurement of 3rd side8\n",
            "Not a right triangle\n"
          ]
        }
      ],
      "source": [
        "# 6. righttriangle.py\n",
        "\n",
        "a=int(input(\"Enter the measurement of 1st side\"))\n",
        "b=int(input(\"Enter the measurement of 2nd side\"))\n",
        "c=int(input(\"Enter the measurement of 3rd side\"))\n",
        "if a**2==b**2+c**2 or b**2==a**2+c**2 or c**2==a**2+b**2:\n",
        "\tprint(\"Right traingle\")\n",
        "else:\n",
        "\tprint(\"Not a right triangle\")"
      ]
    },
    {
      "cell_type": "code",
      "execution_count": null,
      "metadata": {
        "colab": {
          "base_uri": "https://localhost:8080/"
        },
        "id": "S7_UohQW7LBY",
        "outputId": "3bfaff23-3057-43b4-c100-a815ca87378d"
      },
      "outputs": [
        {
          "name": "stdout",
          "output_type": "stream",
          "text": [
            "Enter a number : 5\n",
            "Amstrong\n"
          ]
        }
      ],
      "source": [
        "# 6.amstrong.py\n",
        "\n",
        "n=input(\"Enter a number : \")\n",
        "l=len(n)\n",
        "n=int(n)\n",
        "s=0\n",
        "t=n\n",
        "while n!=0:\n",
        "\td=n%10\n",
        "\ts=s+d**l\n",
        "\tn=n//10\n",
        "if t==s:\n",
        "\tprint(\"Amstrong\")\n",
        "else:\n",
        "\tprint(\"Not an amstrong\")\n"
      ]
    },
    {
      "cell_type": "code",
      "execution_count": null,
      "metadata": {
        "colab": {
          "base_uri": "https://localhost:8080/"
        },
        "id": "_1L4GHgq7LFk",
        "outputId": "dedd043a-60b0-4a2e-a5ac-1581e25bf112"
      },
      "outputs": [
        {
          "name": "stdout",
          "output_type": "stream",
          "text": [
            "Enter the binary number : 1110\n",
            "Decimal equalent is  14\n"
          ]
        }
      ],
      "source": [
        "# 7.b2d.py\n",
        "\n",
        "b=int(input(\"Enter the binary number : \"))\n",
        "d=0\n",
        "i=0\n",
        "while b!=0:\n",
        "\tdig=b%10\n",
        "\td=d+(dig*(2**i))\n",
        "\ti=i+1\n",
        "\tb=b//10\n",
        "print(\"Decimal equalent is \",d)"
      ]
    },
    {
      "cell_type": "code",
      "execution_count": null,
      "metadata": {
        "colab": {
          "base_uri": "https://localhost:8080/"
        },
        "id": "OPb2TfDo7LKa",
        "outputId": "26562bd1-c0d4-49da-85c3-9b7d40a7412e"
      },
      "outputs": [
        {
          "name": "stdout",
          "output_type": "stream",
          "text": [
            "Enter a number : 6\n",
            "greatest digit  6\n"
          ]
        }
      ],
      "source": [
        "# 8.bigdigit.py\n",
        "\n",
        "n=int(input(\"Enter a number : \"))\n",
        "bd=0\n",
        "while n!=0:\n",
        "\td=n%10\n",
        "\tif d>bd:\n",
        "\t\tbd=d\n",
        "\tn=n//10\n",
        "print(\"greatest digit \",bd)\n"
      ]
    },
    {
      "cell_type": "code",
      "execution_count": null,
      "metadata": {
        "colab": {
          "base_uri": "https://localhost:8080/"
        },
        "id": "go0rUeA_7LOl",
        "outputId": "67bd1ea6-02c6-4219-c5d5-0f82780f9648"
      },
      "outputs": [
        {
          "name": "stdout",
          "output_type": "stream",
          "text": [
            "Enter the number : 55\n",
            "Sum is  72\n"
          ]
        }
      ],
      "source": [
        "# 9.factorssumfor.py\n",
        "\n",
        "n=int(input(\"Enter the number : \"))\n",
        "s=0\n",
        "for i in range(1,n+1):\n",
        "\tif n%i==0:\n",
        "\t\ts=s+i\n",
        "print(\"Sum is \",s)"
      ]
    },
    {
      "cell_type": "code",
      "execution_count": null,
      "metadata": {
        "colab": {
          "base_uri": "https://localhost:8080/"
        },
        "id": "W6kn4Aju7LTc",
        "outputId": "ef04bed8-f19f-4617-c4f8-fc935f403e2c"
      },
      "outputs": [
        {
          "name": "stdout",
          "output_type": "stream",
          "text": [
            "Enter a number : 54\n",
            "Single digit sum =  9\n"
          ]
        }
      ],
      "source": [
        "#  10.sumsingledigit.py\n",
        "\n",
        "n=int(input(\"Enter a number : \"))\n",
        "s=sum(int(i) for i in str(n))\n",
        "print(\"Single digit sum = \",s%9 if s%9 else 9)"
      ]
    },
    {
      "cell_type": "code",
      "execution_count": null,
      "metadata": {
        "colab": {
          "base_uri": "https://localhost:8080/"
        },
        "id": "KiucFtqI7LXt",
        "outputId": "826882e2-8a23-4e6d-9e49-519ceba3f51d"
      },
      "outputs": [
        {
          "name": "stdout",
          "output_type": "stream",
          "text": [
            "Enter the limit 3\n",
            "Sum is  4\n"
          ]
        }
      ],
      "source": [
        "# 11.sumoddwhile.py\n",
        "\n",
        "n=int(input(\"Enter the limit \"))\n",
        "i=1\n",
        "s=0\n",
        "while i<=n:\n",
        "\ts=s+i\n",
        "\ti=i+2\n",
        "print(\"Sum is \",s)"
      ]
    },
    {
      "cell_type": "code",
      "execution_count": null,
      "metadata": {
        "colab": {
          "base_uri": "https://localhost:8080/"
        },
        "id": "sSBAgAYP7LcT",
        "outputId": "7bebed36-5d4e-4ec5-b46b-8492093c4185"
      },
      "outputs": [
        {
          "name": "stdout",
          "output_type": "stream",
          "text": [
            "Enter the limit4\n",
            "Sum is  10\n"
          ]
        }
      ],
      "source": [
        "# 12.sumnaturalfor.py\n",
        "\n",
        "n=int(input(\"Enter the limit\"))\n",
        "s=0\n",
        "for x in range(1,n+1):\n",
        "\ts=s+x\n",
        "print(\"Sum is \",s)\n"
      ]
    },
    {
      "cell_type": "code",
      "execution_count": null,
      "metadata": {
        "colab": {
          "base_uri": "https://localhost:8080/"
        },
        "id": "Ep7XuHEB7Lg0",
        "outputId": "15f4055a-5a75-4a9a-b2a6-e92a2fb004c6"
      },
      "outputs": [
        {
          "name": "stdout",
          "output_type": "stream",
          "text": [
            "Enter the limit : 5\n",
            "Sum is  15\n"
          ]
        }
      ],
      "source": [
        "# 13.sumnaturalwhile.py\n",
        "\n",
        "n=int(input(\"Enter the limit : \"))\n",
        "i=1\n",
        "s=0\n",
        "while i<=n:\n",
        "\ts=s+i\n",
        "\ti=i+1\n",
        "print(\"Sum is \",s)\n"
      ]
    },
    {
      "cell_type": "code",
      "execution_count": null,
      "metadata": {
        "colab": {
          "base_uri": "https://localhost:8080/"
        },
        "id": "YRmn80hs7Llt",
        "outputId": "15ea524a-9a9c-40aa-f65b-2c60f5340adc"
      },
      "outputs": [
        {
          "name": "stdout",
          "output_type": "stream",
          "text": [
            "Enter a number: 158746\n",
            "Not a strong number\n"
          ]
        }
      ],
      "source": [
        "# 14.strongnumber.py\n",
        "\n",
        "n=int(input(\"Enter a number: \"))\n",
        "temp=n\n",
        "sum=0\n",
        "while n!=0:\n",
        "\td=n%10\n",
        "\tfact=1\n",
        "\twhile d>1:\n",
        "\t\tfact*=d\n",
        "\t\td-=1\n",
        "\tsum+=fact\n",
        "\tn=n//10\n",
        "if sum==temp:\n",
        "\tprint(\"Strong number\")\n",
        "else:\n",
        "\tprint(\"Not a strong number\")"
      ]
    },
    {
      "cell_type": "code",
      "execution_count": null,
      "metadata": {
        "colab": {
          "base_uri": "https://localhost:8080/"
        },
        "id": "-grF8ykJ7LqE",
        "outputId": "bbec1a49-9506-4f08-da3a-bf362296c6fb"
      },
      "outputs": [
        {
          "name": "stdout",
          "output_type": "stream",
          "text": [
            "Enter a number: 22\n",
            "Spy Number\n"
          ]
        }
      ],
      "source": [
        "#15.spynumber.py\n",
        "\n",
        "n=int(input(\"Enter a number: \"))\n",
        "sum=0\n",
        "product=1\n",
        "while n!=0:\n",
        "\td=n%10\n",
        "\tsum+=d\n",
        "\tproduct*=d\n",
        "\tn=n//10\n",
        "if sum==product:\n",
        "\tprint(\"Spy Number\")\n",
        "else:\n",
        "\tprint(\"Not a spy number\")"
      ]
    },
    {
      "cell_type": "code",
      "execution_count": null,
      "metadata": {
        "colab": {
          "background_save": true,
          "base_uri": "https://localhost:8080/"
        },
        "id": "guusOBZo2C_s",
        "outputId": "4f602492-7411-41fd-8eea-191b2ff00dca"
      },
      "outputs": [
        {
          "name": "stdout",
          "output_type": "stream",
          "text": [
            "1. Add contact\n",
            "2. Search contact\n",
            "3. Update\n",
            "4. Display\n",
            "5. Delete\n",
            "6. Exit\n"
          ]
        }
      ],
      "source": [
        "#Phonebook\n",
        "def add():\n",
        "  name=input(\"Enter the name :\")\n",
        "  ph_no=int(input(\"Enter the phone number :\"))\n",
        "  ph_book[name]=ph_no\n",
        "  print(\"successfull\")\n",
        "\n",
        "def search():\n",
        "  search=input(\"Enter the contact name to search :\")\n",
        "  if search in ph_book:\n",
        "    search_contact=ph_book[search]\n",
        "    print(search_contact)\n",
        "  else:\n",
        "    print(\"Contact is not present.\")\n",
        "\n",
        "def update():\n",
        "  update=input(\"Enter the contact name to update :\")\n",
        "  ph_no=int(input(\"Enter the number :\"))\n",
        "  ph_book[update]=ph_no\n",
        "\n",
        "def display():\n",
        "  print(ph_book)\n",
        "\n",
        "def delete():\n",
        "  delete=input(\"enter the contact name to delete :\")\n",
        "  if delete in ph_book:\n",
        "    confirm=input(\"do you want to delete contact y / n  :\")\n",
        "    if confirm==\"Y\" or confirm==\"y\":\n",
        "      ph_book.pop(delete)\n",
        "    else:\n",
        "      print(\"name is not found\")\n",
        "\n",
        "print(\"1. Add contact\\n2. Search contact\\n3. Update\\n4. Display\\n5. Delete\\n6. Exit\")\n",
        "ph_book={}\n",
        "choice=int(input(\"Enter the choice :\"))\n",
        "while choice!=6:\n",
        "  if choice==1:\n",
        "    add()\n",
        "  elif choice==2:\n",
        "    search()\n",
        "  elif choice==3:\n",
        "    update()\n",
        "  elif choice==4:\n",
        "    display()\n",
        "  elif choice==5:\n",
        "    delete()\n",
        "  else:\n",
        "    print(\"invalid\")\n",
        "  choice=int(input(\"Enter your choice \"))"
      ]
    },
    {
      "cell_type": "code",
      "execution_count": null,
      "metadata": {
        "id": "r4LBQD2599U9"
      },
      "outputs": [],
      "source": [
        "# RECURSION 1. Factorial\n",
        "\n",
        "def factorial(x):\n",
        "  if x==1:\n",
        "    return 1:\n",
        "  else:\n",
        "    return (x*factorial(x-1))\n",
        "num = 6\n",
        "print(\"The factorial of \" ,num, \"is\", factorial(num))"
      ]
    },
    {
      "cell_type": "code",
      "source": [
        "c=0%10\n",
        "print(c)"
      ],
      "metadata": {
        "colab": {
          "base_uri": "https://localhost:8080/"
        },
        "id": "9T-LOJxiUKSa",
        "outputId": "6d89431a-a593-4312-b1b8-2026b77f9c7c"
      },
      "execution_count": null,
      "outputs": [
        {
          "output_type": "stream",
          "name": "stdout",
          "text": [
            "0\n"
          ]
        }
      ]
    },
    {
      "cell_type": "code",
      "source": [
        "string = \"python exception\"\n",
        "\n",
        "for s in string:\n",
        "  if (s!=o:\n",
        "    print(s)"
      ],
      "metadata": {
        "colab": {
          "base_uri": "https://localhost:8080/",
          "height": 140
        },
        "id": "tUK6cFZ_XD0Z",
        "outputId": "edb15b02-501d-4933-c55e-05b2b4b1d18f"
      },
      "execution_count": null,
      "outputs": [
        {
          "output_type": "error",
          "ename": "SyntaxError",
          "evalue": "ignored",
          "traceback": [
            "\u001b[0;36m  File \u001b[0;32m\"<ipython-input-7-778b0ca971df>\"\u001b[0;36m, line \u001b[0;32m4\u001b[0m\n\u001b[0;31m    if (s!=o:\u001b[0m\n\u001b[0m            ^\u001b[0m\n\u001b[0;31mSyntaxError\u001b[0m\u001b[0;31m:\u001b[0m invalid syntax\n"
          ]
        }
      ]
    },
    {
      "cell_type": "code",
      "source": [
        "string = \"python exception\"\n",
        "\n",
        "for  s in string:\n",
        "  if (s!=o):\n",
        "    print(s)"
      ],
      "metadata": {
        "colab": {
          "base_uri": "https://localhost:8080/",
          "height": 227
        },
        "id": "_8XWaE2IXqzO",
        "outputId": "7a168098-38fb-4651-ab01-657ef3bbf4c2"
      },
      "execution_count": null,
      "outputs": [
        {
          "output_type": "error",
          "ename": "NameError",
          "evalue": "ignored",
          "traceback": [
            "\u001b[0;31m---------------------------------------------------------------------------\u001b[0m",
            "\u001b[0;31mNameError\u001b[0m                                 Traceback (most recent call last)",
            "\u001b[0;32m<ipython-input-8-d38d0d19885d>\u001b[0m in \u001b[0;36m<cell line: 3>\u001b[0;34m()\u001b[0m\n\u001b[1;32m      2\u001b[0m \u001b[0;34m\u001b[0m\u001b[0m\n\u001b[1;32m      3\u001b[0m \u001b[0;32mfor\u001b[0m  \u001b[0ms\u001b[0m \u001b[0;32min\u001b[0m \u001b[0mstring\u001b[0m\u001b[0;34m:\u001b[0m\u001b[0;34m\u001b[0m\u001b[0;34m\u001b[0m\u001b[0m\n\u001b[0;32m----> 4\u001b[0;31m   \u001b[0;32mif\u001b[0m \u001b[0;34m(\u001b[0m\u001b[0ms\u001b[0m\u001b[0;34m!=\u001b[0m\u001b[0mo\u001b[0m\u001b[0;34m)\u001b[0m\u001b[0;34m:\u001b[0m\u001b[0;34m\u001b[0m\u001b[0;34m\u001b[0m\u001b[0m\n\u001b[0m\u001b[1;32m      5\u001b[0m     \u001b[0mprint\u001b[0m\u001b[0;34m(\u001b[0m\u001b[0ms\u001b[0m\u001b[0;34m)\u001b[0m\u001b[0;34m\u001b[0m\u001b[0;34m\u001b[0m\u001b[0m\n",
            "\u001b[0;31mNameError\u001b[0m: name 'o' is not defined"
          ]
        }
      ]
    },
    {
      "cell_type": "code",
      "source": [
        "a = [\"apple\",\"orange\",\"banana\"]\n"
      ],
      "metadata": {
        "id": "s0ZZJn0FYLlK"
      },
      "execution_count": null,
      "outputs": []
    }
  ],
  "metadata": {
    "colab": {
      "provenance": [],
      "authorship_tag": "ABX9TyMEi+538s2yU2QFTMCFrYK1",
      "include_colab_link": true
    },
    "kernelspec": {
      "display_name": "Python 3",
      "name": "python3"
    },
    "language_info": {
      "name": "python"
    }
  },
  "nbformat": 4,
  "nbformat_minor": 0
}